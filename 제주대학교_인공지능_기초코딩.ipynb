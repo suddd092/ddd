{
  "nbformat": 4,
  "nbformat_minor": 0,
  "metadata": {
    "colab": {
      "provenance": [],
      "toc_visible": true,
      "authorship_tag": "ABX9TyPVXV2qkQ/r7VKl85b+Ht0x",
      "include_colab_link": true
    },
    "kernelspec": {
      "name": "python3",
      "display_name": "Python 3"
    },
    "language_info": {
      "name": "python"
    }
  },
  "cells": [
    {
      "cell_type": "markdown",
      "metadata": {
        "id": "view-in-github",
        "colab_type": "text"
      },
      "source": [
        "<a href=\"https://colab.research.google.com/github/suddd092/ddd/blob/main/%EC%A0%9C%EC%A3%BC%EB%8C%80%ED%95%99%EA%B5%90_%EC%9D%B8%EA%B3%B5%EC%A7%80%EB%8A%A5_%EA%B8%B0%EC%B4%88%EC%BD%94%EB%94%A9.ipynb\" target=\"_parent\"><img src=\"https://colab.research.google.com/assets/colab-badge.svg\" alt=\"Open In Colab\"/></a>"
      ]
    },
    {
      "cell_type": "markdown",
      "source": [
        "# 주석"
      ],
      "metadata": {
        "id": "jbW7uekluUTW"
      }
    },
    {
      "cell_type": "code",
      "execution_count": null,
      "metadata": {
        "colab": {
          "base_uri": "https://localhost:8080/",
          "height": 35
        },
        "id": "oCSXIrZxdAiV",
        "outputId": "1dc05631-29f9-4a97-d806-7ba9b83e0ff1"
      },
      "outputs": [
        {
          "output_type": "execute_result",
          "data": {
            "text/plain": [
              "'\\n여러줄\\n주석입니다.\\n'"
            ],
            "application/vnd.google.colaboratory.intrinsic+json": {
              "type": "string"
            }
          },
          "metadata": {},
          "execution_count": 23
        }
      ],
      "source": [
        "# 주석입니다.\n",
        "\n",
        "'''\n",
        "여러줄\n",
        "주석입니다.\n",
        "'''\n",
        "\n",
        "\"\"\"\n",
        "여러줄\n",
        "주석입니다.\n",
        "\"\"\""
      ]
    },
    {
      "cell_type": "markdown",
      "source": [
        "# 변수"
      ],
      "metadata": {
        "id": "Zu7lK5QiugMc"
      }
    },
    {
      "cell_type": "code",
      "source": [
        "1+1 # 이것은 1 더하기 1입니다"
      ],
      "metadata": {
        "colab": {
          "base_uri": "https://localhost:8080/"
        },
        "id": "dG0s0gdDetcI",
        "outputId": "027b9663-e119-4394-b4a6-00b974077ce4"
      },
      "execution_count": null,
      "outputs": [
        {
          "output_type": "execute_result",
          "data": {
            "text/plain": [
              "2"
            ]
          },
          "metadata": {},
          "execution_count": 24
        }
      ]
    },
    {
      "cell_type": "code",
      "source": [
        "1 + 1\n",
        "2 + 2\n",
        "3 + 3\n",
        "4 + 4"
      ],
      "metadata": {
        "colab": {
          "base_uri": "https://localhost:8080/"
        },
        "id": "mSBt84NtirP5",
        "outputId": "e65da657-71ef-41be-cd53-d2d6adc7b307"
      },
      "execution_count": null,
      "outputs": [
        {
          "output_type": "execute_result",
          "data": {
            "text/plain": [
              "8"
            ]
          },
          "metadata": {},
          "execution_count": 25
        }
      ]
    },
    {
      "cell_type": "code",
      "source": [
        "print(1 + 1) # 마지막 라인만 출력합니다.\n",
        "print(2 + 2)\n",
        "print(3 + 3)\n",
        "print(4 + 4)"
      ],
      "metadata": {
        "colab": {
          "base_uri": "https://localhost:8080/"
        },
        "outputId": "c5be160f-2e17-4f15-e340-6c232fdf5247",
        "id": "DL8OkJfKjMIj"
      },
      "execution_count": null,
      "outputs": [
        {
          "output_type": "stream",
          "name": "stdout",
          "text": [
            "2\n",
            "4\n",
            "6\n",
            "8\n"
          ]
        }
      ]
    },
    {
      "cell_type": "code",
      "source": [
        "name = 'leehojun'\n",
        "age = 10"
      ],
      "metadata": {
        "id": "1vzBmAWykCYw"
      },
      "execution_count": null,
      "outputs": []
    },
    {
      "cell_type": "code",
      "source": [
        "age + age"
      ],
      "metadata": {
        "colab": {
          "base_uri": "https://localhost:8080/"
        },
        "id": "wqeJ8J5GkVTe",
        "outputId": "4322ca9c-f55f-4445-bbe0-578d6c44df90"
      },
      "execution_count": null,
      "outputs": [
        {
          "output_type": "execute_result",
          "data": {
            "text/plain": [
              "20"
            ]
          },
          "metadata": {},
          "execution_count": 28
        }
      ]
    },
    {
      "cell_type": "code",
      "source": [
        "x = 10\n",
        "y = x\n",
        "z = y\n",
        "\n",
        "# 화살표는?\n",
        "\n",
        "# 오해: z -> y -> x -> 10\n",
        "# x -> 10\n",
        "# y -> 10\n",
        "# z -> 10"
      ],
      "metadata": {
        "id": "eOvb_RbikpgB"
      },
      "execution_count": null,
      "outputs": []
    },
    {
      "cell_type": "code",
      "source": [
        "id(x), id(y), id(z)"
      ],
      "metadata": {
        "colab": {
          "base_uri": "https://localhost:8080/"
        },
        "id": "P1_80F5blbB5",
        "outputId": "9b2ce31b-b309-4ba8-a4e3-9bdffd0cbd4a"
      },
      "execution_count": null,
      "outputs": [
        {
          "output_type": "execute_result",
          "data": {
            "text/plain": [
              "(134991588377104, 134991588377104, 134991588377104)"
            ]
          },
          "metadata": {},
          "execution_count": 30
        }
      ]
    },
    {
      "cell_type": "code",
      "source": [
        "x = 10\n",
        "y = x\n",
        "z = y\n",
        "\n",
        "y = 20\n",
        "print(z)"
      ],
      "metadata": {
        "colab": {
          "base_uri": "https://localhost:8080/"
        },
        "id": "Y7FJsvVclhEa",
        "outputId": "3b881b90-aa5b-4f94-b64d-9d4bb3b300a1"
      },
      "execution_count": null,
      "outputs": [
        {
          "output_type": "stream",
          "name": "stdout",
          "text": [
            "10\n"
          ]
        }
      ]
    },
    {
      "cell_type": "code",
      "source": [
        "Apple = 10\n",
        "apple = 20"
      ],
      "metadata": {
        "id": "qZbmE1pPl7lT"
      },
      "execution_count": null,
      "outputs": []
    },
    {
      "cell_type": "code",
      "source": [
        "Apple, apple"
      ],
      "metadata": {
        "colab": {
          "base_uri": "https://localhost:8080/"
        },
        "id": "3nSx1nXTmgrL",
        "outputId": "748931c9-5196-4c79-9358-89017900f713"
      },
      "execution_count": null,
      "outputs": [
        {
          "output_type": "execute_result",
          "data": {
            "text/plain": [
              "(10, 20)"
            ]
          },
          "metadata": {},
          "execution_count": 33
        }
      ]
    },
    {
      "cell_type": "code",
      "source": [
        "hello1 = 100\n",
        "hello2 = 200\n",
        "hello3 = 300"
      ],
      "metadata": {
        "id": "_54ag5K3ml2L"
      },
      "execution_count": null,
      "outputs": []
    },
    {
      "cell_type": "code",
      "source": [
        "import keyword\n",
        "\n",
        "print(keyword.kwlist)"
      ],
      "metadata": {
        "colab": {
          "base_uri": "https://localhost:8080/"
        },
        "id": "FUuilycCnaST",
        "outputId": "0129a111-02d0-44a2-a946-a84edcee6ead"
      },
      "execution_count": null,
      "outputs": [
        {
          "output_type": "stream",
          "name": "stdout",
          "text": [
            "['False', 'None', 'True', 'and', 'as', 'assert', 'async', 'await', 'break', 'class', 'continue', 'def', 'del', 'elif', 'else', 'except', 'finally', 'for', 'from', 'global', 'if', 'import', 'in', 'is', 'lambda', 'nonlocal', 'not', 'or', 'pass', 'raise', 'return', 'try', 'while', 'with', 'yield']\n"
          ]
        }
      ]
    },
    {
      "cell_type": "code",
      "source": [
        "name = 'hojun'\n",
        "age = 10\n",
        "\n",
        "print(type(name))\n",
        "print(type(age))"
      ],
      "metadata": {
        "colab": {
          "base_uri": "https://localhost:8080/"
        },
        "id": "mwi25WRFnbLz",
        "outputId": "c5539f05-8019-42b5-8305-42188c5d08a0"
      },
      "execution_count": null,
      "outputs": [
        {
          "output_type": "stream",
          "name": "stdout",
          "text": [
            "<class 'str'>\n",
            "<class 'int'>\n"
          ]
        }
      ]
    },
    {
      "cell_type": "code",
      "source": [
        "name + name"
      ],
      "metadata": {
        "colab": {
          "base_uri": "https://localhost:8080/",
          "height": 35
        },
        "id": "d0EGjW-oo2m3",
        "outputId": "eab4ae80-62e8-41ad-fa2c-6c37aa4f91bf"
      },
      "execution_count": null,
      "outputs": [
        {
          "output_type": "execute_result",
          "data": {
            "text/plain": [
              "'hojunhojun'"
            ],
            "application/vnd.google.colaboratory.intrinsic+json": {
              "type": "string"
            }
          },
          "metadata": {},
          "execution_count": 37
        }
      ]
    },
    {
      "cell_type": "code",
      "source": [
        "age + age"
      ],
      "metadata": {
        "colab": {
          "base_uri": "https://localhost:8080/"
        },
        "id": "FoSYFAUNpOys",
        "outputId": "537be9a6-c8c2-4c9a-a8b0-06d98edb67c3"
      },
      "execution_count": null,
      "outputs": [
        {
          "output_type": "execute_result",
          "data": {
            "text/plain": [
              "20"
            ]
          },
          "metadata": {},
          "execution_count": 38
        }
      ]
    },
    {
      "cell_type": "code",
      "source": [
        "# 컴퓨터 입장에서는 두개 모두 2진수"
      ],
      "metadata": {
        "id": "ybRLhXSFpQUM"
      },
      "execution_count": null,
      "outputs": []
    },
    {
      "cell_type": "code",
      "source": [
        "print(type(name))\n",
        "print(dir(name))"
      ],
      "metadata": {
        "colab": {
          "base_uri": "https://localhost:8080/"
        },
        "id": "pCWJF8iqqKXb",
        "outputId": "15e95c3e-71aa-4ea7-ee28-4d97954f8475"
      },
      "execution_count": null,
      "outputs": [
        {
          "output_type": "stream",
          "name": "stdout",
          "text": [
            "<class 'str'>\n",
            "['__add__', '__class__', '__contains__', '__delattr__', '__dir__', '__doc__', '__eq__', '__format__', '__ge__', '__getattribute__', '__getitem__', '__getnewargs__', '__gt__', '__hash__', '__init__', '__init_subclass__', '__iter__', '__le__', '__len__', '__lt__', '__mod__', '__mul__', '__ne__', '__new__', '__reduce__', '__reduce_ex__', '__repr__', '__rmod__', '__rmul__', '__setattr__', '__sizeof__', '__str__', '__subclasshook__', 'capitalize', 'casefold', 'center', 'count', 'encode', 'endswith', 'expandtabs', 'find', 'format', 'format_map', 'index', 'isalnum', 'isalpha', 'isascii', 'isdecimal', 'isdigit', 'isidentifier', 'islower', 'isnumeric', 'isprintable', 'isspace', 'istitle', 'isupper', 'join', 'ljust', 'lower', 'lstrip', 'maketrans', 'partition', 'removeprefix', 'removesuffix', 'replace', 'rfind', 'rindex', 'rjust', 'rpartition', 'rsplit', 'rstrip', 'split', 'splitlines', 'startswith', 'strip', 'swapcase', 'title', 'translate', 'upper', 'zfill']\n"
          ]
        }
      ]
    },
    {
      "cell_type": "code",
      "source": [
        "name.upper()"
      ],
      "metadata": {
        "colab": {
          "base_uri": "https://localhost:8080/",
          "height": 35
        },
        "id": "MZMkB7vVqTWf",
        "outputId": "b0c9b0ef-b325-447e-eb84-3b4b74d544bd"
      },
      "execution_count": null,
      "outputs": [
        {
          "output_type": "execute_result",
          "data": {
            "text/plain": [
              "'HOJUN'"
            ],
            "application/vnd.google.colaboratory.intrinsic+json": {
              "type": "string"
            }
          },
          "metadata": {},
          "execution_count": 41
        }
      ]
    },
    {
      "cell_type": "code",
      "source": [
        "0.1 * 3"
      ],
      "metadata": {
        "colab": {
          "base_uri": "https://localhost:8080/"
        },
        "id": "g4LxAJywrxTG",
        "outputId": "95c08b27-2a3f-4b42-81fe-8e3c069a5aaa"
      },
      "execution_count": null,
      "outputs": [
        {
          "output_type": "execute_result",
          "data": {
            "text/plain": [
              "0.30000000000000004"
            ]
          },
          "metadata": {},
          "execution_count": 42
        }
      ]
    },
    {
      "cell_type": "code",
      "source": [
        "f = 10.1\n",
        "type(f)"
      ],
      "metadata": {
        "colab": {
          "base_uri": "https://localhost:8080/"
        },
        "id": "TrstOrD1tSrV",
        "outputId": "7158c87c-bee3-4d91-c595-974d4253c16f"
      },
      "execution_count": null,
      "outputs": [
        {
          "output_type": "execute_result",
          "data": {
            "text/plain": [
              "float"
            ]
          },
          "metadata": {},
          "execution_count": 43
        }
      ]
    },
    {
      "cell_type": "code",
      "source": [],
      "metadata": {
        "id": "Z8enKrHeth-O"
      },
      "execution_count": null,
      "outputs": []
    },
    {
      "cell_type": "code",
      "source": [
        "a = 10      # int, 정수형\n",
        "b = -1      # int, 정수형\n",
        "c = 0b110   # int, 정수형(2진법)\n",
        "#0 1 10\n",
        "d = 0o56    # int, 정수형(8진법)\n",
        "# 0 1 2 3 4 5 6 7 10\n",
        "e = 0xAC    # int, 정수형(16진법)\n",
        "# 0 1 2 3 4 5 6 7 8 9 a b c d e f 10\n",
        "\n",
        "f = 10.1    # float, 실수형\n",
        "\n",
        "g = 10 + 2j # complex, 복소수\n",
        "\n",
        "h = 'good'  # str, 문자열\n",
        "i = '10'    # str, 문자열\n",
        "\n",
        "j = True    # bool, 논리 자료형(부울형)\n",
        "\n",
        "k = None    # NoneType\n",
        "\n",
        "l = [1, 2, 3, 4]       # list, 리스트 자료형\n",
        "m = ['one', 'two']     # list, 리스트 자료형\n",
        "n = (1, 2, 3, 4)       # tuple, 튜플 자료형\n",
        "o = ('one', 'two')     # tuple, 튜플 자료형\n",
        "p = {'one':1, 'two':2} # dict, 딕셔너리 자료형\n",
        "q = {1, 2, 3, 4}       # set, 셋 자료형\n",
        "\n",
        "def r():    # function, 함수\n",
        "    return\n",
        "\n",
        "s = print # bulit-in function\n",
        "t = lambda x:x**2 # function\n",
        "u = int # type\n",
        "\n",
        "class Character: # class, 클래스\n",
        "    pass\n",
        "\n",
        "hero = Character()    # instance\n",
        "Villain = Character() # instance"
      ],
      "metadata": {
        "id": "eRO2RPKZq1vW"
      },
      "execution_count": null,
      "outputs": []
    },
    {
      "cell_type": "markdown",
      "source": [
        "# 정수 자료형"
      ],
      "metadata": {
        "id": "TvCbI0Jyuvmt"
      }
    },
    {
      "cell_type": "code",
      "source": [
        "x = 10\n",
        "y = 3\n",
        "\n",
        "print(x + y)\n",
        "print(x - y)\n",
        "print(x / y) # float, 실수형으로 반환\n",
        "print(x // y) # int, 정수형으로 반환\n",
        "print(-10 // 3) # 음수를 나눌 때 내림이라는 사실을 기억해주세요.\n",
        "print(x * y)\n",
        "print(x ** y)\n",
        "print(4 ** 0.5) # 제곱근, 이렇게 많이 사용합니다.\n",
        "print(x % y)# 나머지, 몫이 3이고 나머지가 1입니다. 1을 출력합니다.\n",
        "\n"
      ],
      "metadata": {
        "colab": {
          "base_uri": "https://localhost:8080/"
        },
        "id": "kxiYr21gu4_C",
        "outputId": "e2fd1f9a-6856-42ec-df85-5f366cbfbb7e"
      },
      "execution_count": null,
      "outputs": [
        {
          "output_type": "stream",
          "name": "stdout",
          "text": [
            "13\n",
            "7\n",
            "3.3333333333333335\n",
            "3\n",
            "-4\n",
            "30\n",
            "1000\n",
            "2.0\n",
            "1\n"
          ]
        }
      ]
    },
    {
      "cell_type": "code",
      "source": [
        "bin(10) # ' ' 주의"
      ],
      "metadata": {
        "colab": {
          "base_uri": "https://localhost:8080/",
          "height": 35
        },
        "id": "clhikOAxwmAM",
        "outputId": "71183e3b-21eb-4491-9421-94ea71721d27"
      },
      "execution_count": null,
      "outputs": [
        {
          "output_type": "execute_result",
          "data": {
            "text/plain": [
              "'0b1010'"
            ],
            "application/vnd.google.colaboratory.intrinsic+json": {
              "type": "string"
            }
          },
          "metadata": {},
          "execution_count": 46
        }
      ]
    },
    {
      "cell_type": "code",
      "source": [
        "int('0b1010', 2)"
      ],
      "metadata": {
        "colab": {
          "base_uri": "https://localhost:8080/"
        },
        "id": "xMA3WVt2wply",
        "outputId": "97a4a991-4b5a-4bf3-8864-772cd8a1e875"
      },
      "execution_count": null,
      "outputs": [
        {
          "output_type": "execute_result",
          "data": {
            "text/plain": [
              "10"
            ]
          },
          "metadata": {},
          "execution_count": 47
        }
      ]
    },
    {
      "cell_type": "markdown",
      "source": [
        "# 실수"
      ],
      "metadata": {
        "id": "FJefnXYG3EuG"
      }
    },
    {
      "cell_type": "code",
      "source": [
        "10.0 - 2 # 실수 - 정수하면?"
      ],
      "metadata": {
        "colab": {
          "base_uri": "https://localhost:8080/"
        },
        "id": "ZdfiLw1HxD__",
        "outputId": "89ecc92e-1f3b-4bf3-ca7c-2587ec335fc5"
      },
      "execution_count": null,
      "outputs": [
        {
          "output_type": "execute_result",
          "data": {
            "text/plain": [
              "8.0"
            ]
          },
          "metadata": {},
          "execution_count": 48
        }
      ]
    },
    {
      "cell_type": "code",
      "source": [
        "10 -2.0 # 정수 - 실수하면?"
      ],
      "metadata": {
        "colab": {
          "base_uri": "https://localhost:8080/"
        },
        "id": "jcPGvh7e3YCb",
        "outputId": "8f34296f-0c07-48e7-a3c8-0a4a6bd21d51"
      },
      "execution_count": null,
      "outputs": [
        {
          "output_type": "execute_result",
          "data": {
            "text/plain": [
              "8.0"
            ]
          },
          "metadata": {},
          "execution_count": 49
        }
      ]
    },
    {
      "cell_type": "code",
      "source": [
        "float(\"inf\") > 10"
      ],
      "metadata": {
        "colab": {
          "base_uri": "https://localhost:8080/"
        },
        "id": "jOJ0gyHD3byE",
        "outputId": "bc827187-93a3-403b-f342-ef3eb792d83b"
      },
      "execution_count": null,
      "outputs": [
        {
          "output_type": "execute_result",
          "data": {
            "text/plain": [
              "True"
            ]
          },
          "metadata": {},
          "execution_count": 50
        }
      ]
    },
    {
      "cell_type": "code",
      "source": [
        "-float(\"inf\") < 10"
      ],
      "metadata": {
        "colab": {
          "base_uri": "https://localhost:8080/"
        },
        "id": "l9lN8YB73rEj",
        "outputId": "4beb310e-66e8-4756-b832-2157162b27f6"
      },
      "execution_count": null,
      "outputs": [
        {
          "output_type": "execute_result",
          "data": {
            "text/plain": [
              "True"
            ]
          },
          "metadata": {},
          "execution_count": 51
        }
      ]
    },
    {
      "cell_type": "code",
      "source": [
        "float(\"inf\") * 2\n",
        "float(\"inf\") + 2\n",
        "float(\"inf\") / 2"
      ],
      "metadata": {
        "colab": {
          "base_uri": "https://localhost:8080/"
        },
        "id": "ObW-g2wW3tt1",
        "outputId": "bbe97daf-817a-42ea-8d91-daccc2d398f9"
      },
      "execution_count": null,
      "outputs": [
        {
          "output_type": "execute_result",
          "data": {
            "text/plain": [
              "inf"
            ]
          },
          "metadata": {},
          "execution_count": 52
        }
      ]
    },
    {
      "cell_type": "code",
      "source": [
        "float(\"-inf\")\n",
        "-float(\"inf\")\n"
      ],
      "metadata": {
        "colab": {
          "base_uri": "https://localhost:8080/"
        },
        "id": "kiqooSQz38zg",
        "outputId": "7d331c23-529b-4427-ec6e-919bf6070659"
      },
      "execution_count": null,
      "outputs": [
        {
          "output_type": "execute_result",
          "data": {
            "text/plain": [
              "-inf"
            ]
          },
          "metadata": {},
          "execution_count": 53
        }
      ]
    },
    {
      "cell_type": "markdown",
      "source": [
        "# 문자열"
      ],
      "metadata": {
        "id": "p0uQmh_G4lag"
      }
    },
    {
      "cell_type": "code",
      "source": [
        "a = 'hello'\n",
        "b = \"hello\""
      ],
      "metadata": {
        "id": "qbxHwWL34AAy"
      },
      "execution_count": null,
      "outputs": []
    },
    {
      "cell_type": "code",
      "source": [
        "a[0] #0을 index라고 부릅니다. 이렇게 값을 호출하는 것을 indexing이라고 합니다."
      ],
      "metadata": {
        "colab": {
          "base_uri": "https://localhost:8080/",
          "height": 35
        },
        "id": "GlL5u1C-46pz",
        "outputId": "367982fa-b824-486c-cd07-485181a37ecc"
      },
      "execution_count": null,
      "outputs": [
        {
          "output_type": "execute_result",
          "data": {
            "text/plain": [
              "'h'"
            ],
            "application/vnd.google.colaboratory.intrinsic+json": {
              "type": "string"
            }
          },
          "metadata": {},
          "execution_count": 55
        }
      ]
    },
    {
      "cell_type": "code",
      "source": [
        "a[-1] # 실제로 연산될 때에는 음수를 양수로 전환한 후에 연산이 이뤄집니다.\n",
        "# a[-1]는 a[4]와 같습니다."
      ],
      "metadata": {
        "colab": {
          "base_uri": "https://localhost:8080/",
          "height": 35
        },
        "id": "3iwPpUVa55Zj",
        "outputId": "e4a46220-4a87-4360-88e8-1b6fed89f8d7"
      },
      "execution_count": null,
      "outputs": [
        {
          "output_type": "execute_result",
          "data": {
            "text/plain": [
              "'o'"
            ],
            "application/vnd.google.colaboratory.intrinsic+json": {
              "type": "string"
            }
          },
          "metadata": {},
          "execution_count": 56
        }
      ]
    },
    {
      "cell_type": "code",
      "source": [
        "a[100] # 에러명 외워라 자주 봄"
      ],
      "metadata": {
        "colab": {
          "base_uri": "https://localhost:8080/",
          "height": 147
        },
        "id": "7HYRIoQ26a0_",
        "outputId": "84a2889d-8dab-4736-c596-b223d5eba1d8"
      },
      "execution_count": null,
      "outputs": [
        {
          "output_type": "error",
          "ename": "IndexError",
          "evalue": "string index out of range",
          "traceback": [
            "\u001b[0;31m---------------------------------------------------------------------------\u001b[0m",
            "\u001b[0;31mIndexError\u001b[0m                                Traceback (most recent call last)",
            "\u001b[0;32m<ipython-input-57-c62bbf4e51ca>\u001b[0m in \u001b[0;36m<cell line: 1>\u001b[0;34m()\u001b[0m\n\u001b[0;32m----> 1\u001b[0;31m \u001b[0ma\u001b[0m\u001b[0;34m[\u001b[0m\u001b[0;36m100\u001b[0m\u001b[0;34m]\u001b[0m \u001b[0;31m# 에러명 외워라 자주 봄\u001b[0m\u001b[0;34m\u001b[0m\u001b[0;34m\u001b[0m\u001b[0m\n\u001b[0m",
            "\u001b[0;31mIndexError\u001b[0m: string index out of range"
          ]
        }
      ]
    },
    {
      "cell_type": "code",
      "source": [
        "(a[0] + a[4]) * 2"
      ],
      "metadata": {
        "id": "0nQ_HGFz5Wv3"
      },
      "execution_count": null,
      "outputs": []
    },
    {
      "cell_type": "code",
      "source": [
        "s = 'hello world' # 시험문제\n",
        "s[0] + s[1] + s[2] + s[3] + s[4]"
      ],
      "metadata": {
        "id": "MeiZbmxF6sVQ"
      },
      "execution_count": null,
      "outputs": []
    },
    {
      "cell_type": "code",
      "source": [
        "# 위 처럼 어디서부터 어디까지의 문자열을 잘라내고 싶을 때\n",
        "# 슬라이싱을 사용할 수 있습니다.\n",
        "# 변수명[start:stop:step]\n",
        "s = 'hello world' # step 생략가능\n",
        "s[0:5]\n",
        "s[6:-1]\n",
        "s[6:0]\n",
        "s[6:10]\n",
        "s[6:11] # world\n",
        "s[6:12] # world\n",
        "s[6:13] # world\n",
        "# 슬라이싱은 범위가 벗어나더라도 에러가 나지 않습니다.\n",
        "s[6:] # 보통 마지막까지면 stop은 생략합니다.\n",
        "s[:] # 처음부터 마지막까지라는 얘기입니다.\n",
        "s[:5] # hello\n",
        "s[::2] # 이런 코드는 실무에서 자주 사용 안 함\n",
        "s[::-1] # 역순 출력 이 코드는 많이 사용\n",
        " # 이렇게 거의 사용 안 함\n"
      ],
      "metadata": {
        "id": "mh8iotQv7GIr"
      },
      "execution_count": null,
      "outputs": []
    },
    {
      "cell_type": "code",
      "source": [
        "#연습문제\n",
        "# a.jpg, abc.png, abcd.mp4 이러한 값들이 들어왔을 때\n",
        "# 확장자를 알아내는 코드를 작성하세요.\n",
        "# 단, 확장자는 3자리로 고정합니다. (jpg, png, mp4 등)\n",
        "\n",
        "s = 'hello.jpg' # 슬라이싱을 이용해 확장자를 구하시오\n",
        "\n",
        "s[-3:]"
      ],
      "metadata": {
        "id": "gbqKQBTr9kK-"
      },
      "execution_count": null,
      "outputs": []
    },
    {
      "cell_type": "code",
      "source": [
        "def solution(data):\n",
        "    return data[-3:0]\n",
        "for i in ['a.jpg']"
      ],
      "metadata": {
        "id": "4gaEc3IG_vrh"
      },
      "execution_count": null,
      "outputs": []
    },
    {
      "cell_type": "code",
      "source": [
        "s = 'hello world'\n",
        "\n",
        "s.upper()"
      ],
      "metadata": {
        "id": "f6sp512CBO3x"
      },
      "execution_count": null,
      "outputs": []
    },
    {
      "cell_type": "code",
      "source": [
        "s.lower()"
      ],
      "metadata": {
        "id": "xhRgmiTBBikK"
      },
      "execution_count": null,
      "outputs": []
    },
    {
      "cell_type": "code",
      "source": [
        "# 문자열 메서드\n",
        "s = 'hello'\n",
        "dir(s)"
      ],
      "metadata": {
        "id": "InGtELZuAaI1"
      },
      "execution_count": null,
      "outputs": []
    },
    {
      "cell_type": "code",
      "source": [
        "# 필수로 알아야 하는 메서드 목록\n",
        "# count\n",
        "# find\n",
        "# index\n",
        "# format\n",
        "# isdigit\n",
        "# join\n",
        "# replace\n",
        "# split\n",
        "# strip\n",
        "# zfill"
      ],
      "metadata": {
        "id": "5d-_YnIXBN8h"
      },
      "execution_count": null,
      "outputs": []
    },
    {
      "cell_type": "code",
      "source": [
        "# count\n",
        "'112233344'.count('1')\n",
        "# '123123'.count(1)\n",
        "\n",
        "# 모르셔도 됩니다.\n",
        "\n",
        "l = [1, 2, 3, 4, 5, 6, 7, 8, 9, 10, 11, 12]\n",
        "str(l).count('1')\n",
        "\n",
        "str(list(range(10000))).count('8')"
      ],
      "metadata": {
        "id": "ci0ucMAXblO5"
      },
      "execution_count": null,
      "outputs": []
    },
    {
      "cell_type": "code",
      "source": [
        "'hello world hello'.find('world')\n",
        "'hello world hello'.find('hi')\n",
        "\n",
        "# 나아가기\n",
        "s = 'abcde'\n",
        "if s.find('hi'):\n",
        "    print(s[s.find('hi')], '찾았다!')\n"
      ],
      "metadata": {
        "id": "9KzwDQB_egJa"
      },
      "execution_count": null,
      "outputs": []
    },
    {
      "cell_type": "code",
      "source": [
        "'hello world hello'.index('world')\n",
        "'hello world hello'.index('hi')"
      ],
      "metadata": {
        "id": "R_NoJwA9e4L2"
      },
      "execution_count": null,
      "outputs": []
    },
    {
      "cell_type": "code",
      "source": [
        "'제 이름은 이호준 입니다. 제 나이는 10살 입니다.'\n",
        "\n",
        "# name = '이호준'\n",
        "name = '홍길동'\n",
        "age = 10\n",
        "\n",
        "'제 이름은 {} 입니다. 제 나이는 {}살 입니다.'.format(name, age)\n",
        "'제 이름은 {0} 입니다. 제 나이는 {0}살 입니다.'.format(name, age)\n",
        "'제 이름은 {1} 입니다. 제 나이는 {1}살 입니다.'.format(name, age)\n",
        "\n"
      ],
      "metadata": {
        "id": "LfHNXhOZgc27"
      },
      "execution_count": null,
      "outputs": []
    },
    {
      "cell_type": "code",
      "source": [
        "# f-string 용법(3.6에서 나온 문법입니다.)\n",
        "\n",
        "f'제 이름은 {name} 입니다. 제 나이는 {age}입니다.'"
      ],
      "metadata": {
        "id": "nCR3TVLeh4hk"
      },
      "execution_count": null,
      "outputs": []
    },
    {
      "cell_type": "code",
      "source": [
        "'123'.insdigit()\n",
        "'12a3'.insdigit()\n",
        "\n",
        "# int('123')\n",
        "# int('12a3')"
      ],
      "metadata": {
        "id": "D8LHasstlkJM",
        "colab": {
          "base_uri": "https://localhost:8080/",
          "height": 221
        },
        "outputId": "b262f743-63bf-41bd-e1fb-b8ef83a729fe"
      },
      "execution_count": null,
      "outputs": [
        {
          "output_type": "error",
          "ename": "AttributeError",
          "evalue": "'str' object has no attribute 'insdigit'",
          "traceback": [
            "\u001b[0;31m---------------------------------------------------------------------------\u001b[0m",
            "\u001b[0;31mAttributeError\u001b[0m                            Traceback (most recent call last)",
            "\u001b[0;32m<ipython-input-2-fc2f914ac19b>\u001b[0m in \u001b[0;36m<cell line: 1>\u001b[0;34m()\u001b[0m\n\u001b[0;32m----> 1\u001b[0;31m \u001b[0;34m'123'\u001b[0m\u001b[0;34m.\u001b[0m\u001b[0minsdigit\u001b[0m\u001b[0;34m(\u001b[0m\u001b[0;34m)\u001b[0m\u001b[0;34m\u001b[0m\u001b[0;34m\u001b[0m\u001b[0m\n\u001b[0m\u001b[1;32m      2\u001b[0m \u001b[0;34m'12a3'\u001b[0m\u001b[0;34m.\u001b[0m\u001b[0minsdigit\u001b[0m\u001b[0;34m(\u001b[0m\u001b[0;34m)\u001b[0m\u001b[0;34m\u001b[0m\u001b[0;34m\u001b[0m\u001b[0m\n\u001b[1;32m      3\u001b[0m \u001b[0;34m\u001b[0m\u001b[0m\n\u001b[1;32m      4\u001b[0m \u001b[0;31m# int('123')\u001b[0m\u001b[0;34m\u001b[0m\u001b[0;34m\u001b[0m\u001b[0m\n\u001b[1;32m      5\u001b[0m \u001b[0;31m# int('12a3')\u001b[0m\u001b[0;34m\u001b[0m\u001b[0;34m\u001b[0m\u001b[0m\n",
            "\u001b[0;31mAttributeError\u001b[0m: 'str' object has no attribute 'insdigit'"
          ]
        }
      ]
    },
    {
      "cell_type": "code",
      "source": [
        "'!'.join(['010', '5044', '2903'])\n",
        "'-'.join(['010', '5044', '2903'])\n",
        "# 나아가기\n",
        "# '.'.join('hello') # join(순회 가능한 객체)\n"
      ],
      "metadata": {
        "id": "rBzr6vsbl2_N"
      },
      "execution_count": null,
      "outputs": []
    },
    {
      "cell_type": "code",
      "source": [
        "'010.5044.2903'.split('.')"
      ],
      "metadata": {
        "id": "V_ckSRqqmk1W"
      },
      "execution_count": null,
      "outputs": []
    },
    {
      "cell_type": "code",
      "source": [
        "# 나아가기\n",
        "'-'.join('010.5044.2903'.split('.'))"
      ],
      "metadata": {
        "id": "xSN8tqcinCkl"
      },
      "execution_count": null,
      "outputs": []
    },
    {
      "cell_type": "code",
      "source": [
        "'hello world'.replace('hello', 'hi')\n",
        "''.replace('hello', 'hi')\n"
      ],
      "metadata": {
        "id": "8X-PDzLMnWh1"
      },
      "execution_count": null,
      "outputs": []
    },
    {
      "cell_type": "code",
      "source": [
        "# 1은 #으로 바꾸고 0은 공백으로 바꾸세요!\n",
        "text = '101010'.replace('1', '#')\n",
        "text = text.replace('0', ' ')\n",
        "text"
      ],
      "metadata": {
        "id": "dw9PsbGUn4xN"
      },
      "execution_count": null,
      "outputs": []
    },
    {
      "cell_type": "code",
      "source": [
        "# 보통 메서드 체이닝을 사용합니다.\n",
        "'101010'.replace('1', '#').replace('0', ' ')\n",
        "'101010'.replace('1', '#')"
      ],
      "metadata": {
        "id": "EdpHvi59oQNm"
      },
      "execution_count": null,
      "outputs": []
    },
    {
      "cell_type": "code",
      "source": [
        "# strip\n",
        "'      hello        '\n",
        "'      hello        '.strip()\n",
        "'      hello world        '.strip()\n",
        "'      hello world        '.replace(' ', '')\n",
        "\n",
        "# 공백을 제거하는 용도로 replace를 사용하지 마세요."
      ],
      "metadata": {
        "id": "UpenCsmMpFe_"
      },
      "execution_count": null,
      "outputs": []
    },
    {
      "cell_type": "code",
      "source": [
        "'3'.zfill(10) # 숫자나 날짜 표기할 때 많이 사용합니다."
      ],
      "metadata": {
        "id": "jd_zIiDep1oU"
      },
      "execution_count": null,
      "outputs": []
    },
    {
      "cell_type": "code",
      "source": [
        "# 문제1 '24/03/18' 이렇게 되어 있는 문자를 '24-03-18'로 바꿔 주세요\n",
        "\n",
        "'24/3/18'.replace('/', '-').replace('3', '3'.zfill(2))\n",
        "# 좋은 정답은 아닙니다. 나중에 리스트도 배우고, 반복문도 배우면 좋은 정답을 사용하실 수 잇습니다.\n",
        "'24/3/31'.replace('/', '-').replace('3', '3'.zfill(2))\n",
        "# 이러한 경우가 잇어 좋은 정답은 아닙니다."
      ],
      "metadata": {
        "id": "KGww6ihiqFSn"
      },
      "execution_count": null,
      "outputs": []
    },
    {
      "cell_type": "markdown",
      "source": [
        "논리 자료형"
      ],
      "metadata": {
        "id": "TNf0Lqd2sb66"
      }
    },
    {
      "cell_type": "code",
      "source": [
        "True\n",
        "False\n",
        "type(True)"
      ],
      "metadata": {
        "id": "o5lhh_T0rT2Q"
      },
      "execution_count": null,
      "outputs": []
    },
    {
      "cell_type": "code",
      "source": [
        "# 형변환\n",
        "int('10')\n",
        "int(10.1)\n",
        "\n",
        "type(10)"
      ],
      "metadata": {
        "id": "q0A4VXo2snQf"
      },
      "execution_count": null,
      "outputs": []
    },
    {
      "cell_type": "code",
      "source": [
        "True == 1"
      ],
      "metadata": {
        "id": "oShYAfOxszsY"
      },
      "execution_count": null,
      "outputs": []
    },
    {
      "cell_type": "code",
      "source": [
        "False == 0"
      ],
      "metadata": {
        "id": "THPQbjTRs42U"
      },
      "execution_count": null,
      "outputs": []
    },
    {
      "cell_type": "code",
      "source": [
        "# 비교연산\n",
        "a = 10\n",
        "b = 3\n",
        "\n",
        "print(a > b)\n",
        "print(a >= b)\n",
        "print(a < b)\n",
        "print(a <= b)\n",
        "print(a == b)\n",
        "print(a != b)"
      ],
      "metadata": {
        "id": "bqUosIods3_3"
      },
      "execution_count": null,
      "outputs": []
    },
    {
      "cell_type": "code",
      "source": [
        "# and 논리 곱\n",
        "# or 논리 합\n",
        "# not 부정\n",
        "\n",
        "print(True and False)\n",
        "print(False and True)\n",
        "print(False and False)\n",
        "print(True and True)"
      ],
      "metadata": {
        "id": "Gv-pLG3_umth"
      },
      "execution_count": null,
      "outputs": []
    },
    {
      "cell_type": "code",
      "source": [
        "# 나아가기\n",
        "# 1/0\n",
        "\n",
        "print(False and 1/0) # 단락평가"
      ],
      "metadata": {
        "id": "PHFsI-Eqvaax"
      },
      "execution_count": null,
      "outputs": []
    },
    {
      "cell_type": "code",
      "source": [
        "print(True or False)\n",
        "print(False or True)\n",
        "print(False or False)\n",
        "print(True  or True)"
      ],
      "metadata": {
        "id": "lrcWbLYpvrxB"
      },
      "execution_count": null,
      "outputs": []
    },
    {
      "cell_type": "code",
      "source": [
        "# and or 가 어디서 사용되나요?\n",
        "# for i in range(100):\n",
        "#    print(i)\n",
        "\n",
        "for i in range(100):\n",
        "    if i % 3 == 0 and i % 5 == 0:\n",
        "        print(i)\n",
        "\n",
        "for i in range(100):\n",
        "    if i % 3 == 0 or i % 5 == 0:\n",
        "        print(i)"
      ],
      "metadata": {
        "id": "m9lMZiwgv7SZ"
      },
      "execution_count": null,
      "outputs": []
    },
    {
      "cell_type": "code",
      "source": [
        "not True"
      ],
      "metadata": {
        "id": "kbBy-MRwwwmi"
      },
      "execution_count": null,
      "outputs": []
    },
    {
      "cell_type": "code",
      "source": [
        "not False"
      ],
      "metadata": {
        "id": "ntPohcBAwylD"
      },
      "execution_count": null,
      "outputs": []
    },
    {
      "cell_type": "code",
      "source": [
        "print(bool(0))\n",
        "print(bool(100))\n",
        "print(bool(-1))\n",
        "print(bool('hello'))\n",
        "print(bool(''))"
      ],
      "metadata": {
        "id": "NQKG6MY5w2gb"
      },
      "execution_count": null,
      "outputs": []
    },
    {
      "cell_type": "code",
      "source": [
        "# 비어있음을 명시적으로 나타내는 자료형\n",
        "x = None\n",
        "x # 출력하지 않습니다."
      ],
      "metadata": {
        "id": "Jg3K5PVAvC09"
      },
      "execution_count": null,
      "outputs": []
    },
    {
      "cell_type": "code",
      "source": [
        "print(x)"
      ],
      "metadata": {
        "id": "dyALPnsmvMFu"
      },
      "execution_count": null,
      "outputs": []
    },
    {
      "cell_type": "code",
      "source": [
        "'hello world'.replace('hello', 'hi')"
      ],
      "metadata": {
        "id": "Lpb6bN8wva6O"
      },
      "execution_count": null,
      "outputs": []
    },
    {
      "cell_type": "code",
      "source": [
        "'hello world'.replace('hello', 'hi')\n",
        "'hello world'.replace('hello', 'hi').replace('world', 'jeju')"
      ],
      "metadata": {
        "id": "W53DaL9gvkzK"
      },
      "execution_count": null,
      "outputs": []
    },
    {
      "cell_type": "code",
      "source": [
        "# 메서드 채이닝의 주의\n",
        "# 처음의 값 'hello world'이 값에 메서드를 연속해서 쓰는 것이 아니라\n",
        "# 각 메서드의 반환값을 연속해서 씁니다."
      ],
      "metadata": {
        "id": "hkjW_9VYvtV-"
      },
      "execution_count": null,
      "outputs": []
    },
    {
      "cell_type": "code",
      "source": [
        "# 'hello world'.split(' ').replace('hi', 'world')\n",
        "# 위와 같은 코드는 에러입니다."
      ],
      "metadata": {
        "id": "n6knRqX8v7tk"
      },
      "execution_count": null,
      "outputs": []
    },
    {
      "cell_type": "code",
      "source": [
        "'hello world'.replace('hi', 'world').replace('hi', 'world').replace('hi', 'world')"
      ],
      "metadata": {
        "id": "zgT-CRFIwJg1"
      },
      "execution_count": null,
      "outputs": []
    },
    {
      "cell_type": "markdown",
      "source": [
        "# 형 변환"
      ],
      "metadata": {
        "id": "eVsNFsC6xuU3"
      }
    },
    {
      "cell_type": "code",
      "source": [
        "x = 10\n",
        "y = '10'\n",
        "\n",
        "x + y"
      ],
      "metadata": {
        "id": "UyX-aPIOxxnf"
      },
      "execution_count": null,
      "outputs": []
    },
    {
      "cell_type": "code",
      "source": [
        "x + int(y)"
      ],
      "metadata": {
        "id": "bb-lQvnMx9IA"
      },
      "execution_count": null,
      "outputs": []
    },
    {
      "cell_type": "code",
      "source": [
        "type(x)\n",
        "type(y)"
      ],
      "metadata": {
        "id": "XgeGb4Rqx_PE"
      },
      "execution_count": null,
      "outputs": []
    },
    {
      "cell_type": "code",
      "source": [
        "'''\n",
        "int()\t정수로 변환\n",
        "str()\t문자열로 변환\n",
        "float()\t실수로 변환\n",
        "list()\t리스트로 변환\n",
        "tuple()\t튜플로 변환\n",
        "dict()\t딕셔너리로 변환\n",
        "set()\t셋으로 변환\n",
        "'''"
      ],
      "metadata": {
        "id": "3bTXig4nyhdD"
      },
      "execution_count": null,
      "outputs": []
    },
    {
      "cell_type": "code",
      "source": [
        "int(10.3) + 1000"
      ],
      "metadata": {
        "id": "79Xx-EZzyuJt"
      },
      "execution_count": null,
      "outputs": []
    },
    {
      "cell_type": "markdown",
      "source": [
        "# 할당연산"
      ],
      "metadata": {
        "id": "IjOcnmG6zFKM"
      }
    },
    {
      "cell_type": "code",
      "source": [
        "# 비교연산, 논리연산, 산술연산 모두 진행했습니다."
      ],
      "metadata": {
        "id": "PpCfPrQHzHeo"
      },
      "execution_count": null,
      "outputs": []
    },
    {
      "cell_type": "code",
      "source": [
        "a = 10\n",
        "a = a + 10\n",
        "a"
      ],
      "metadata": {
        "id": "csmGiwK2zMT-"
      },
      "execution_count": null,
      "outputs": []
    },
    {
      "cell_type": "code",
      "source": [
        "a = 10\n",
        "a = a + 10\n",
        "a = a / 3\n",
        "a = a - 1\n",
        "a"
      ],
      "metadata": {
        "id": "DW3BDKrAzQKA"
      },
      "execution_count": null,
      "outputs": []
    },
    {
      "cell_type": "code",
      "source": [
        "a = 10\n",
        "a += 10 # a = a + 10\n",
        "a"
      ],
      "metadata": {
        "id": "Nch4gQHe0Hr5"
      },
      "execution_count": null,
      "outputs": []
    },
    {
      "cell_type": "markdown",
      "source": [
        "# 식별연산"
      ],
      "metadata": {
        "id": "U1VQE7GD1EJz"
      }
    },
    {
      "cell_type": "code",
      "source": [
        "x = 10\n",
        "y = x\n",
        "\n",
        "x is y"
      ],
      "metadata": {
        "id": "5RTXzKKZ1HhM"
      },
      "execution_count": null,
      "outputs": []
    },
    {
      "cell_type": "code",
      "source": [
        "id(x) == id(y)"
      ],
      "metadata": {
        "id": "r4FhZo-q1Nuz"
      },
      "execution_count": null,
      "outputs": []
    },
    {
      "cell_type": "code",
      "source": [
        "x = 10\n",
        "y = 10\n",
        "\n",
        "x is y"
      ],
      "metadata": {
        "id": "tbOgf_ZB1RR9"
      },
      "execution_count": null,
      "outputs": []
    },
    {
      "cell_type": "code",
      "source": [
        "x = 1000\n",
        "y = 1000\n",
        "\n",
        "x is y"
      ],
      "metadata": {
        "id": "GXxLocf21ZEV"
      },
      "execution_count": null,
      "outputs": []
    },
    {
      "cell_type": "code",
      "source": [
        "# -5 ~ 256\n",
        "x = 257\n",
        "y = 257\n",
        "\n",
        "x is y"
      ],
      "metadata": {
        "id": "SVZPcepZ1d6U"
      },
      "execution_count": null,
      "outputs": []
    },
    {
      "cell_type": "code",
      "source": [
        "x is not y"
      ],
      "metadata": {
        "id": "DNrqTx6A2RA0"
      },
      "execution_count": null,
      "outputs": []
    },
    {
      "cell_type": "code",
      "source": [
        "# None 비교는 is로 해주세요!\n",
        "x is None"
      ],
      "metadata": {
        "id": "dAm-GLKF7-ck"
      },
      "execution_count": null,
      "outputs": []
    },
    {
      "cell_type": "markdown",
      "source": [
        "# 멤버연산"
      ],
      "metadata": {
        "id": "roKps0Q79vjR"
      }
    },
    {
      "cell_type": "code",
      "source": [
        "'h' in 'hello world'"
      ],
      "metadata": {
        "id": "_wzK1D8y9nV6"
      },
      "execution_count": null,
      "outputs": []
    },
    {
      "cell_type": "code",
      "source": [
        "'h' not in 'hello world'"
      ],
      "metadata": {
        "id": "_nTNdolM-Of5"
      },
      "execution_count": null,
      "outputs": []
    },
    {
      "cell_type": "markdown",
      "source": [
        "# 리스트"
      ],
      "metadata": {
        "id": "I-H38z30_y33"
      }
    },
    {
      "cell_type": "code",
      "source": [
        "# 1. 여러개의 데이터를 저장하고 싶을 때 사용\n",
        "# 여러개의 데이터를 저장하고 싶을 때 주로 고려하는 자료형:\n",
        "# 리스트, 딕셔너리, 클래스\n",
        "# 2. 변경이 가능한 자료형입니다.\n",
        "# 3. 순서가 있는 자료형입니다. (시퀀스형 자료형)\n",
        "# 4. 순회가 가능한 자료형입니다. (이터러블한 자료형)"
      ],
      "metadata": {
        "id": "-bhrgmCRAHDv"
      },
      "execution_count": null,
      "outputs": []
    },
    {
      "cell_type": "code",
      "source": [
        "s = [10, 20, 30, 40]\n",
        "s = ['a', 'b', 'c', 'd']\n",
        "s = [10, 'a', 10.1] #이런 식으로 다른 자료형들과 혼합해서 사용하진 않습니다."
      ],
      "metadata": {
        "id": "yIaRnCd4AnbO"
      },
      "execution_count": null,
      "outputs": []
    },
    {
      "cell_type": "code",
      "source": [
        "I = [10, 20, 30, 40]\n",
        "I[0]\n",
        "I[3]"
      ],
      "metadata": {
        "id": "YqQNeCY4BC4P"
      },
      "execution_count": null,
      "outputs": []
    },
    {
      "cell_type": "code",
      "source": [
        "I[4]"
      ],
      "metadata": {
        "id": "KLxHJTSYBKiZ"
      },
      "execution_count": null,
      "outputs": []
    },
    {
      "cell_type": "code",
      "source": [
        "# 인덱싱이 가능하니 슬라이싱도 가능합니다.\n",
        "# 시퀀스 자료형의 특징이고 앞에서 배웠던 문자열도 시퀀스형 자료형입니다.\n",
        "I[:3]"
      ],
      "metadata": {
        "id": "S2gkQIu9Bj3e"
      },
      "execution_count": null,
      "outputs": []
    },
    {
      "cell_type": "code",
      "source": [
        "type(I)\n",
        "dir(I)"
      ],
      "metadata": {
        "id": "PGnL-V28BznW"
      },
      "execution_count": null,
      "outputs": []
    },
    {
      "cell_type": "code",
      "source": [
        "# append\n",
        "# copy\n",
        "# count\n",
        "# extend\n",
        "# index\n",
        "# insert\n",
        "# pop\n",
        "# remove\n",
        "# reverse\n",
        "# sort"
      ],
      "metadata": {
        "id": "9TkDmjL4B9i9"
      },
      "execution_count": null,
      "outputs": []
    },
    {
      "cell_type": "code",
      "source": [
        "l = [10, 20, 30]\n",
        "l.append(100)\n",
        "l"
      ],
      "metadata": {
        "id": "uu504RSXCSDm"
      },
      "execution_count": null,
      "outputs": []
    },
    {
      "cell_type": "code",
      "source": [
        "x = [10, 20, 30]\n",
        "y = x.copy()\n",
        "\n",
        "y.append(100)\n",
        "\n",
        "x, y"
      ],
      "metadata": {
        "id": "Nz3ElTiNCigG"
      },
      "execution_count": null,
      "outputs": []
    },
    {
      "cell_type": "code",
      "source": [
        "[10, 20, 30, 30, 30, 20, 10].count(30)\n",
        "['1', '2', '3', '3', '3'].count('3')"
      ],
      "metadata": {
        "id": "HtcAHOF8difo"
      },
      "execution_count": null,
      "outputs": []
    },
    {
      "cell_type": "code",
      "source": [
        "# [10, 20, 30].append(40, 50)\n",
        "x = [10, 20, 30]\n",
        "x.append([40, 50])\n",
        "x\n",
        "x[3] #40이 나왔으면 좋곗는데 [40, 50]이 나옴"
      ],
      "metadata": {
        "id": "CLrSonDBeo74"
      },
      "execution_count": null,
      "outputs": []
    },
    {
      "cell_type": "code",
      "source": [
        "x = [10, 20, 30]\n",
        "x.extend([40, 50])\n",
        "x"
      ],
      "metadata": {
        "id": "_Wo480wVfQw4"
      },
      "execution_count": null,
      "outputs": []
    },
    {
      "cell_type": "code",
      "source": [
        "# 나아가기\n",
        "x = [10, 20, 30]\n",
        "x.extend('hello')\n",
        "x"
      ],
      "metadata": {
        "id": "jUlHzvN1gTJ3"
      },
      "execution_count": null,
      "outputs": []
    },
    {
      "cell_type": "code",
      "source": [
        "[10, 20, 30, 40, 1, 2, 10].index(30)"
      ],
      "metadata": {
        "id": "vTZmPaWaga_K"
      },
      "execution_count": null,
      "outputs": []
    },
    {
      "cell_type": "code",
      "source": [
        "x = [10, 20, 30]\n",
        "x.insert(1, 10000)\n",
        "x"
      ],
      "metadata": {
        "id": "14aQNlZKgxLp"
      },
      "execution_count": null,
      "outputs": []
    },
    {
      "cell_type": "code",
      "source": [
        "x = [10, 20, 30]\n",
        "y = x.pop()\n",
        "x"
      ],
      "metadata": {
        "id": "raHqdRIsg7Eq"
      },
      "execution_count": null,
      "outputs": []
    },
    {
      "cell_type": "code",
      "source": [
        "y"
      ],
      "metadata": {
        "id": "vF4eNApFhVGn"
      },
      "execution_count": null,
      "outputs": []
    },
    {
      "cell_type": "code",
      "source": [
        "x = [10, 20, 30]\n",
        "y = x.pop(0)\n",
        "x"
      ],
      "metadata": {
        "id": "PyYU3lHohYsn"
      },
      "execution_count": null,
      "outputs": []
    },
    {
      "cell_type": "code",
      "source": [
        "y"
      ],
      "metadata": {
        "id": "x9sqxXdAhbaZ"
      },
      "execution_count": null,
      "outputs": []
    },
    {
      "cell_type": "code",
      "source": [
        "# 스택과 큐\n",
        "# 스택: LIFO(last in first out) 후입선출\n",
        "# 큐: FIFO(first in first out) 선입선출"
      ],
      "metadata": {
        "id": "oXn3S6v3hcLv"
      },
      "execution_count": null,
      "outputs": []
    },
    {
      "cell_type": "code",
      "source": [
        "# 스택\n",
        "l = [10, 20, 30]\n",
        "l.append(40)\n",
        "l.pop()\n",
        "\n",
        "# 앞으로도 뺄 수 있는데?\n",
        "# 스택을 구현하고 싶으면 한쪽방향으로만 넣고 빼는 것으로 구현"
      ],
      "metadata": {
        "id": "zCd3HwvykwMp"
      },
      "execution_count": null,
      "outputs": []
    },
    {
      "cell_type": "code",
      "source": [
        "# 큐\n",
        "l = [10, 20, 30]\n",
        "l.append(40)\n",
        "l.pop(0)"
      ],
      "metadata": {
        "id": "jUzUe1s4lo9Y"
      },
      "execution_count": null,
      "outputs": []
    },
    {
      "cell_type": "code",
      "source": [
        "l = [10, 20, 30]\n",
        "l.append(0, 40)\n",
        "l.pop()"
      ],
      "metadata": {
        "id": "3aw2HeoTl_Ft"
      },
      "execution_count": null,
      "outputs": []
    },
    {
      "cell_type": "code",
      "source": [
        "# 큐\n",
        "l = [10, 20, 30]\n",
        "l.insert(0, 40)\n",
        "l.pop(0)"
      ],
      "metadata": {
        "id": "bOfntoTDlN32"
      },
      "execution_count": null,
      "outputs": []
    },
    {
      "cell_type": "code",
      "source": [
        "# 2차원 배열\n",
        "x = 10 # 스칼라 0차원\n",
        "x = [10, 20, 30] # 벡터 1\n",
        "x = [[10, 20], [30, 40]] # 매트릭스 2\n",
        "x = [[10, 20], [30, 40], [[10, 20], [30, 40]]] # 텐서 3차 이상"
      ],
      "metadata": {
        "id": "Kog4ozbYolzW"
      },
      "execution_count": null,
      "outputs": []
    },
    {
      "cell_type": "code",
      "source": [
        "x = [[10, 20], [30, 40], [50, 60]]\n",
        "x[1]"
      ],
      "metadata": {
        "id": "AtkrBsiKpXVn"
      },
      "execution_count": null,
      "outputs": []
    },
    {
      "cell_type": "code",
      "source": [
        "x[1][0]"
      ],
      "metadata": {
        "id": "ahY9K50hpjsH"
      },
      "execution_count": null,
      "outputs": []
    },
    {
      "cell_type": "code",
      "source": [
        "x = [[10, 20],\n",
        "     [30, 40]]\n",
        "y = [[1, 2],\n",
        "     [3, 4]]\n",
        "x + y # 에러는 안나지만 우리가 원하는 결과 값은 아닙니다."
      ],
      "metadata": {
        "id": "hJNT_JXDrIgu"
      },
      "execution_count": null,
      "outputs": []
    },
    {
      "cell_type": "code",
      "source": [
        "z = [[x[0][0]+y[0][0]], [x[0][1]+y[0][1]],\n",
        "     [x[1][0]+y[1][0]], [x[1][1]+y[1][1]]]\n",
        "z"
      ],
      "metadata": {
        "id": "_j0LHnXprjWB"
      },
      "execution_count": null,
      "outputs": []
    },
    {
      "cell_type": "code",
      "source": [
        "x = [1, 2, 3, 1, 1, 1, 1]\n",
        "x.remove(1) # 처음 만나는 것 하나만 지울 수 있음\n",
        "x"
      ],
      "metadata": {
        "id": "1S8YnWZusEr_"
      },
      "execution_count": null,
      "outputs": []
    },
    {
      "cell_type": "code",
      "source": [
        "# reverse\n",
        "\n",
        "x = [1, 5, 4, 3, 7, 2]\n",
        "\n",
        "x.reverse() # 역순이고 역정렬이 아닙니다. 원본을 수정합니다.\n",
        "x"
      ],
      "metadata": {
        "id": "etilsQ3wsXCA"
      },
      "execution_count": null,
      "outputs": []
    },
    {
      "cell_type": "code",
      "source": [
        "x = [1, 5, 4, 3, 7, 2]\n",
        "\n",
        "list(reversed(x)), x # 역순이고 역정렬이 아닙니다. 원본을 수정하지 않습니다."
      ],
      "metadata": {
        "id": "jiftLEYGtET_"
      },
      "execution_count": null,
      "outputs": []
    },
    {
      "cell_type": "code",
      "source": [
        "x = [1, 5, 4, 3, 7, 2]\n",
        "\n",
        "x.sort() # 정렬입니다. 원본을 수정합니다.\n",
        "x"
      ],
      "metadata": {
        "id": "zRzihv_vtRrt"
      },
      "execution_count": null,
      "outputs": []
    },
    {
      "cell_type": "code",
      "source": [
        "x = [1, 5, 4, 3, 7, 2]\n",
        "\n",
        "sorted(x), x\n",
        "# 정렬입니다. 원본을 수정합니다. 게다가 출력값이 리스트입니다."
      ],
      "metadata": {
        "id": "UEFiZzFVt07D"
      },
      "execution_count": null,
      "outputs": []
    },
    {
      "cell_type": "code",
      "source": [
        "# 역정렬\n",
        "x = [1, 5, 4, 3, 7, 2]\n",
        "\n",
        "# 방법1\n",
        "list(reversed(sorted(x)))\n",
        "\n",
        "# 방법2\n",
        "x.sort()\n",
        "x.reverse()\n",
        "x"
      ],
      "metadata": {
        "id": "uB1O2Ql3uIlO"
      },
      "execution_count": null,
      "outputs": []
    },
    {
      "cell_type": "code",
      "source": [
        "x = [\n",
        "    [10, 20, 30],\n",
        "    [55, 48, 22],\n",
        "    [32, 75, 35],\n",
        "    [42, 55, 33],\n",
        "]\n",
        "\n",
        "def 함수(x):\n",
        "    return x[2]\n",
        "\n",
        "sorted(x, key=함수)"
      ],
      "metadata": {
        "id": "eIgNgMHCDi2u"
      },
      "execution_count": null,
      "outputs": []
    },
    {
      "cell_type": "code",
      "source": [
        "x = [\n",
        "    [10, 20, 30],\n",
        "    [55, 48, 22],\n",
        "    [32, 75, 35],\n",
        "    [42, 55, 33],\n",
        "]\n",
        "\n",
        "def 함수(x):\n",
        "    return x[2]\n",
        "\n",
        "sorted(x, key=함수)[::-1] # 이렇게는 잘 사용하지 않습니다.\n",
        "sorted(x, key=함수, reverse=True)"
      ],
      "metadata": {
        "id": "YQH_l1DoEaYk"
      },
      "execution_count": null,
      "outputs": []
    },
    {
      "cell_type": "markdown",
      "source": [
        "#튜플"
      ],
      "metadata": {
        "id": "XW6LbreD_1yv"
      }
    },
    {
      "cell_type": "code",
      "source": [
        "# 참조불변\n",
        "# 변경이불가능한 자료형입니다.\n",
        "\n",
        "x= (10, 20, 30)\n",
        "x[0] = 100\n",
        "x"
      ],
      "metadata": {
        "id": "p4vevkLShRd_"
      },
      "execution_count": null,
      "outputs": []
    },
    {
      "cell_type": "code",
      "source": [
        "# 'count'\n",
        "# 'index'\n",
        "# 불변\n",
        "\n",
        "x= (10, 20, 30)\n",
        "dir(x)"
      ],
      "metadata": {
        "id": "mPGL4CneFZ-I"
      },
      "execution_count": null,
      "outputs": []
    },
    {
      "cell_type": "code",
      "source": [
        "x = [10, 20, 30]\n",
        "y = (x, 100, 200)\n",
        "\n",
        "y"
      ],
      "metadata": {
        "id": "lCZiGVOMFsai"
      },
      "execution_count": null,
      "outputs": []
    },
    {
      "cell_type": "code",
      "source": [
        "x[0] = 1000\n",
        "y"
      ],
      "metadata": {
        "id": "wduHs8jFF2tK"
      },
      "execution_count": null,
      "outputs": []
    },
    {
      "cell_type": "code",
      "source": [
        "# 어떨 때 튜플을 사용할까요?\n",
        "# 1. 불변해야 하는 값을 저장할 때\n",
        "# 2. 갯수가 정해져 있는 자료구조를 표현할 때"
      ],
      "metadata": {
        "id": "Up2j4AXXF9ex"
      },
      "execution_count": null,
      "outputs": []
    },
    {
      "cell_type": "code",
      "source": [
        "{'one':1, 'two':2}.items()"
      ],
      "metadata": {
        "id": "O2AjwXRMGOB6"
      },
      "execution_count": null,
      "outputs": []
    },
    {
      "cell_type": "markdown",
      "source": [
        "#딕셔너리"
      ],
      "metadata": {
        "id": "8kaAyitf_5X_"
      }
    },
    {
      "cell_type": "code",
      "source": [
        "# 순서가 있습니다. python 3.6 versiom에서부터 순서가 생겼습니다.\n",
        "# 변경이 가능한 자료형입니다.\n",
        "# key와 value의 쌍으로 이뤄져 있습니다.\n",
        "\n",
        "{'한라산': 3200, '백두산': 4000, '사라봉':300}\n",
        "{'one' : '하나', 'two' : '둘', 'three' : '셋'}"
      ],
      "metadata": {
        "id": "azzeMTjCGiFK"
      },
      "execution_count": null,
      "outputs": []
    },
    {
      "cell_type": "code",
      "source": [
        "d = {'one' : 1, 'two' : 2}\n",
        "d['one']\n",
        "#d[0]"
      ],
      "metadata": {
        "id": "4E70G5HZHMN6"
      },
      "execution_count": null,
      "outputs": []
    },
    {
      "cell_type": "code",
      "source": [
        "d['one'] = '하나'\n",
        "d"
      ],
      "metadata": {
        "id": "NY_Z7XqbH2WZ"
      },
      "execution_count": null,
      "outputs": []
    },
    {
      "cell_type": "code",
      "source": [
        "type(d)"
      ],
      "metadata": {
        "id": "BJEODlTyH7wZ"
      },
      "execution_count": null,
      "outputs": []
    },
    {
      "cell_type": "code",
      "source": [
        "dir(d)"
      ],
      "metadata": {
        "id": "9NPJWr3aIn76"
      },
      "execution_count": null,
      "outputs": []
    },
    {
      "cell_type": "code",
      "source": [
        "jeju = {'한라봉' : 4000, '바나나' : 2000, '귤' : 500}\n",
        "seoul = jeju\n",
        "\n",
        "seoul['한라봉'] = 5000\n",
        "jeju"
      ],
      "metadata": {
        "id": "ViMWfPbBJBdx"
      },
      "execution_count": null,
      "outputs": []
    },
    {
      "cell_type": "code",
      "source": [
        "jeju = {'한라봉' : 4000, '바나나' : 2000, '귤' : 500}\n",
        "seoul = jeju.copy()\n",
        "\n",
        "seoul['한라봉'] = 5000\n",
        "jeju, seoul"
      ],
      "metadata": {
        "id": "wvlDr4NaJp6Z"
      },
      "execution_count": null,
      "outputs": []
    },
    {
      "cell_type": "code",
      "source": [
        "dict.fromkeys('hello')"
      ],
      "metadata": {
        "id": "H3FEeBpX_8p_"
      },
      "execution_count": null,
      "outputs": []
    },
    {
      "cell_type": "code",
      "source": [
        "dict.fromkeys('hello', True)"
      ],
      "metadata": {
        "id": "3jB72nUnKywB"
      },
      "execution_count": null,
      "outputs": []
    },
    {
      "cell_type": "code",
      "source": [
        "dict.fromkeys(['하나', '둘', '셋'],True)"
      ],
      "metadata": {
        "id": "be_jcHm6LHPx"
      },
      "execution_count": null,
      "outputs": []
    },
    {
      "cell_type": "code",
      "source": [
        "jeju = {'한라봉' : 4000, '바나나' : 2000, '귤' : 500}\n",
        "# jeju['천혜향']\n",
        "jeju.get('천혜향')\n",
        "jeju.get('천혜향', '값이 없습니다!')\n",
        "jeju.get('한라봉', '값이 없습니다!')"
      ],
      "metadata": {
        "id": "rFtLFQmTLfCB"
      },
      "execution_count": null,
      "outputs": []
    },
    {
      "cell_type": "code",
      "source": [
        "jeju = {'한라봉' : 4000, '바나나' : 2000, '귤' : 500}\n",
        "# jeju.items([0])\n",
        "jeju.items()\n",
        "list(jeju.items())"
      ],
      "metadata": {
        "id": "Pb9tLX6pL4nv"
      },
      "execution_count": null,
      "outputs": []
    },
    {
      "cell_type": "code",
      "source": [
        "list(jeju.items())[0][1]"
      ],
      "metadata": {
        "id": "MkYltsLNMOth"
      },
      "execution_count": null,
      "outputs": []
    },
    {
      "cell_type": "code",
      "source": [
        "jeju.keys()"
      ],
      "metadata": {
        "id": "2bW6Pa23MlKs"
      },
      "execution_count": null,
      "outputs": []
    },
    {
      "cell_type": "code",
      "source": [
        "jeju.values()"
      ],
      "metadata": {
        "id": "MqcSEWQJMn1i"
      },
      "execution_count": null,
      "outputs": []
    },
    {
      "cell_type": "code",
      "source": [
        "jeju = {'한라봉' : 4000, '바나나' : 2000, '귤' : 500}\n",
        "jeju.pop('한라봉')\n",
        "jeju"
      ],
      "metadata": {
        "id": "oCscHHhKMzpT"
      },
      "execution_count": null,
      "outputs": []
    },
    {
      "cell_type": "code",
      "source": [
        "jeju = {'한라봉' : 4000, '바나나' : 2000, '귤' : 500}\n",
        "jeju.popitem()\n",
        "jeju"
      ],
      "metadata": {
        "id": "nyaweE58NbqO"
      },
      "execution_count": null,
      "outputs": []
    },
    {
      "cell_type": "code",
      "source": [
        "numbers = {'one': '하나', 'two': '둘', 'three': '셋'}\n",
        "four_value = numbers.setdefault(\"three\", \"셋test\")\n",
        "print(four_value)\n",
        "print(numbers)"
      ],
      "metadata": {
        "id": "rbhGybCbS7p_"
      },
      "execution_count": null,
      "outputs": []
    },
    {
      "cell_type": "code",
      "source": [
        "numbers = {'one': '하나', 'two': '둘', 'three': '셋'}\n",
        "numbers.update({'three' : '셋test', 'four': '넷', 'five': '다섯'})\n",
        "print(numbers)"
      ],
      "metadata": {
        "id": "nbnDPbGsUMix"
      },
      "execution_count": null,
      "outputs": []
    },
    {
      "cell_type": "code",
      "source": [
        "{'one': '하나', 'two': '둘', 'three': '셋'} | {'four': '넷'}"
      ],
      "metadata": {
        "id": "rAowBWbpUuHY"
      },
      "execution_count": null,
      "outputs": []
    },
    {
      "cell_type": "markdown",
      "source": [
        "#셋"
      ],
      "metadata": {
        "id": "dE48Xi9J_7N9"
      }
    },
    {
      "cell_type": "code",
      "source": [
        "# 중복을 허락하지 않는 순서가 없는 자료형\n",
        "s = {1, 2, 3, 4, 4, 4, 4, 4, 4}\n",
        "s"
      ],
      "metadata": {
        "id": "Yu14M6QaVP7Q"
      },
      "execution_count": null,
      "outputs": []
    },
    {
      "cell_type": "code",
      "source": [
        "set('hello world')"
      ],
      "metadata": {
        "id": "JHOq74uTVhkq"
      },
      "execution_count": null,
      "outputs": []
    },
    {
      "cell_type": "code",
      "source": [
        "s = {1, 2, 3}\n",
        "ss = {3, 4, 5}\n",
        "\n",
        "s | ss # 합집합"
      ],
      "metadata": {
        "id": "QHhvE-CNV3MZ"
      },
      "execution_count": null,
      "outputs": []
    },
    {
      "cell_type": "code",
      "source": [
        "s = {1, 2, 3}\n",
        "ss = {3, 4, 5}\n",
        "\n",
        "s - ss # 차집합"
      ],
      "metadata": {
        "id": "E9NzEJF7WDjR"
      },
      "execution_count": null,
      "outputs": []
    },
    {
      "cell_type": "code",
      "source": [
        "s = {1, 2, 3}\n",
        "ss = {3, 4, 5}\n",
        "\n",
        "s & ss # 교집합"
      ],
      "metadata": {
        "id": "TziAYlEmWLDq"
      },
      "execution_count": null,
      "outputs": []
    },
    {
      "cell_type": "code",
      "source": [
        "s = {1, 2, 3}\n",
        "ss = {3, 4, 5}\n",
        "\n",
        "dir(s)\n",
        "\n",
        "print(s.intersection(ss))\n",
        "print(s.difference(ss))\n",
        "print(s.union(ss))"
      ],
      "metadata": {
        "id": "v-JazJkNWR3w"
      },
      "execution_count": null,
      "outputs": []
    },
    {
      "cell_type": "code",
      "source": [
        "s = {1, 2, 3}\n",
        "s.add(4)\n",
        "s"
      ],
      "metadata": {
        "id": "TSiK9C8EW1Py"
      },
      "execution_count": null,
      "outputs": []
    },
    {
      "cell_type": "code",
      "source": [
        "s = {1, 2, 3}\n",
        "s.add(4)\n",
        "s"
      ],
      "metadata": {
        "id": "k_pQqHwMXDNZ"
      },
      "execution_count": null,
      "outputs": []
    },
    {
      "cell_type": "markdown",
      "source": [
        "# built-in function"
      ],
      "metadata": {
        "id": "754YA4ERXW2P"
      }
    },
    {
      "cell_type": "code",
      "source": [
        "sum([10, 20, 30, 40])"
      ],
      "metadata": {
        "id": "rH9Ivu7_XGFh"
      },
      "execution_count": null,
      "outputs": []
    },
    {
      "cell_type": "code",
      "source": [
        "len([10, 20, 30, 40])"
      ],
      "metadata": {
        "id": "O6B8cEUeXtQI"
      },
      "execution_count": null,
      "outputs": []
    },
    {
      "cell_type": "code",
      "source": [
        "sum([10, 20, 30, 40], 100)\n"
      ],
      "metadata": {
        "id": "CrhYCgClXx1J"
      },
      "execution_count": null,
      "outputs": []
    },
    {
      "cell_type": "code",
      "source": [
        "sum([[10, 20], [30, 40]], [])\n",
        "# sum([[10, 20], [30, 40]])"
      ],
      "metadata": {
        "id": "lSJ2q1kEYPIw"
      },
      "execution_count": null,
      "outputs": []
    },
    {
      "cell_type": "code",
      "source": [
        "[10, 20] + []\n",
        "[10, 20] + [30, 40]\n"
      ],
      "metadata": {
        "id": "GckDS9hJZniC"
      },
      "execution_count": null,
      "outputs": []
    },
    {
      "cell_type": "code",
      "source": [
        "sum([[10, 20], [30, 40]], [])\n",
        "sum(sum([[10, 20], [30, 40]], []))"
      ],
      "metadata": {
        "id": "kAh8IPBNZ3k8"
      },
      "execution_count": null,
      "outputs": []
    },
    {
      "cell_type": "code",
      "source": [
        "len('hello world')"
      ],
      "metadata": {
        "id": "MEwXQeb5Zx8j"
      },
      "execution_count": null,
      "outputs": []
    },
    {
      "cell_type": "code",
      "source": [
        "len({1, 2, 3})"
      ],
      "metadata": {
        "id": "zjbDJphoZ0m6"
      },
      "execution_count": null,
      "outputs": []
    },
    {
      "cell_type": "code",
      "source": [
        "len({'one':1, 'two':2})"
      ],
      "metadata": {
        "id": "VufxleA5aDmP"
      },
      "execution_count": null,
      "outputs": []
    },
    {
      "cell_type": "code",
      "source": [
        "'h' in 'hello'\n",
        "1 in {1, 2, 3, 4}\n",
        "1 in {1, 2, 3, 4}\n",
        "'one' in {'one':1, 'two':2}\n",
        "1 in {'one':1, 'two':2}"
      ],
      "metadata": {
        "id": "013zi3dDaLtW"
      },
      "execution_count": null,
      "outputs": []
    },
    {
      "cell_type": "markdown",
      "source": [
        "# 조건문\n",
        "\n",
        "* 어떤 구문이 조건에 합당한지 합당하지 않은지를 판단하여 코드를 분기"
      ],
      "metadata": {
        "id": "M86c7cAbzplU"
      }
    },
    {
      "cell_type": "code",
      "source": [
        "if True:\n",
        "    print('hello world')"
      ],
      "metadata": {
        "id": "G-hCpcEKsd7m"
      },
      "execution_count": null,
      "outputs": []
    },
    {
      "cell_type": "code",
      "source": [
        "if 10 > 3:\n",
        "    print('hello world 1')\n",
        "    print('hello world 2')\n",
        "    print('hello world 3')\n",
        "print('hello world 4')"
      ],
      "metadata": {
        "id": "ppIpUejA0Ruj"
      },
      "execution_count": null,
      "outputs": []
    },
    {
      "cell_type": "code",
      "source": [
        "if 10 < 3:\n",
        "    print('hello world 1')\n",
        "    print('hello world 2')\n",
        "    print('hello world 3')\n",
        "print('hello world 4')"
      ],
      "metadata": {
        "id": "yZAi3B9Z0pu6"
      },
      "execution_count": null,
      "outputs": []
    },
    {
      "cell_type": "code",
      "source": [
        "if '': # if 문 뒤에는 구문이 들어오는데 이 구문이 True, False 중 어떤 것으로 평가되는지 알아야 합니다.\n",
        "    print('hello world 1')\n",
        "    print('hello world 2')\n",
        "    print('hello world 3')\n",
        "print('hello world 4')"
      ],
      "metadata": {
        "id": "C0C3nMG_1WER"
      },
      "execution_count": null,
      "outputs": []
    },
    {
      "cell_type": "code",
      "source": [
        "print(bool(''))\n",
        "print(bool(' '))\n",
        "print(bool('a'))\n",
        "print(bool(0))\n",
        "print(bool(-1))\n",
        "print(bool(100))\n",
        "print(bool([]))\n",
        "print(bool([10, 20]))"
      ],
      "metadata": {
        "id": "XqnvcZmW1--s"
      },
      "execution_count": null,
      "outputs": []
    },
    {
      "cell_type": "code",
      "source": [
        "용돈 = 100000\n",
        "점수 = 85\n",
        "\n",
        "if 점수 >= 90:\n",
        "    print('A+')\n",
        "    용돈 += 1000000\n",
        "\n",
        "if 점수 >= 80:\n",
        "    print('A')\n",
        "    용돈 += 100000\n",
        "\n",
        "if 점수 >= 70:\n",
        "    print('B')\n",
        "    용돈 += 10000\n",
        "\n",
        "if 점수 <= 70:\n",
        "    print('C')\n",
        "    용돈 += 10000\n",
        "\n",
        "print(용돈)"
      ],
      "metadata": {
        "id": "lsvQ1ByD3ScG"
      },
      "execution_count": null,
      "outputs": []
    },
    {
      "cell_type": "code",
      "source": [
        "용돈 = 100000\n",
        "점수 = 85\n",
        "\n",
        "if 점수 >= 90:\n",
        "    print('A+')\n",
        "    용돈 += 1000000\n",
        "\n",
        "elif 점수 >= 80:\n",
        "    print('A')\n",
        "    용돈 += 100000\n",
        "\n",
        "elif 점수 >= 70:\n",
        "    print('B')\n",
        "    용돈 += 10000\n",
        "\n",
        "else:\n",
        "    print('C')\n",
        "    용돈 += 10000\n",
        "\n",
        "print(용돈)"
      ],
      "metadata": {
        "id": "Ns20Qrqj4hHh"
      },
      "execution_count": null,
      "outputs": []
    },
    {
      "cell_type": "code",
      "source": [
        "if True:\n",
        "    print('hello')\n",
        "else:\n",
        "    print('world')"
      ],
      "metadata": {
        "id": "4ylrz61E8FGj"
      },
      "execution_count": null,
      "outputs": []
    },
    {
      "cell_type": "code",
      "source": [
        "if True:\n",
        "    print('hello')\n",
        "else True:\n",
        "    print('world')"
      ],
      "metadata": {
        "id": "ztRAn9Dd8R3h"
      },
      "execution_count": null,
      "outputs": []
    },
    {
      "cell_type": "code",
      "source": [
        "if True:\n",
        "    print('one')\n",
        "    if True:\n",
        "         print('two')\n",
        "elif True:\n",
        "    print('three')"
      ],
      "metadata": {
        "id": "yZjWBhzB8_dl"
      },
      "execution_count": null,
      "outputs": []
    },
    {
      "cell_type": "code",
      "source": [
        "i = 12\n",
        "if i % 2 == 0:\n",
        "    if i % 5 == 0:\n",
        "         print('one')\n",
        "elif i % 3 == 0:\n",
        "     print('two')\n",
        "\n",
        "print('end')"
      ],
      "metadata": {
        "id": "fz5jPmlf9uG_"
      },
      "execution_count": null,
      "outputs": []
    },
    {
      "cell_type": "code",
      "source": [
        "# 나아가기\n",
        "i = 10\n",
        "if i % 2 == 0  and i % 5 == 0:\n",
        "         print('one')\n",
        "elif i % 3 == 0:\n",
        "     print('two')\n",
        "\n",
        "print('end')"
      ],
      "metadata": {
        "id": "yuJLqSkC-TMg"
      },
      "execution_count": null,
      "outputs": []
    },
    {
      "cell_type": "code",
      "source": [
        "# 나아가기\n",
        "\n",
        "x = 10\n",
        "if x % 2 == 0: print('hello')"
      ],
      "metadata": {
        "id": "_d3TQmg9_BjT"
      },
      "execution_count": null,
      "outputs": []
    },
    {
      "cell_type": "code",
      "source": [
        "# 나아가기\n",
        "\n",
        "x = (100 if 10 > 3 else -100) # 3항 연산자\n",
        "x"
      ],
      "metadata": {
        "id": "6l_ZZY5h_OPB"
      },
      "execution_count": null,
      "outputs": []
    },
    {
      "cell_type": "code",
      "source": [
        "text = 'four'\n",
        "match text:\n",
        "    case 'one':\n",
        "        print('Hello')\n",
        "    case 'two':\n",
        "        print('World')\n",
        "    case 'three':\n",
        "        print('Hello')\n",
        "    case 'World':\n",
        "        print('World')"
      ],
      "metadata": {
        "id": "6hKz4Km33pSp"
      },
      "execution_count": null,
      "outputs": []
    },
    {
      "cell_type": "markdown",
      "source": [
        "# 반복문\n",
        "* 코드를 반복"
      ],
      "metadata": {
        "id": "JCywiWDlzq27"
      }
    },
    {
      "cell_type": "code",
      "source": [
        "print('hello world')\n",
        "print('hello world')\n",
        "print('hello world')\n",
        "print('hello world')\n",
        "print('hello world')"
      ],
      "metadata": {
        "id": "RVVqmEOE_eFu"
      },
      "execution_count": null,
      "outputs": []
    },
    {
      "cell_type": "code",
      "source": [
        "x = 0\n",
        "while x < 5:\n",
        "    print('hello world')\n",
        "    x += 1\n",
        "print('end')"
      ],
      "metadata": {
        "id": "VU__CTpD_zU0"
      },
      "execution_count": null,
      "outputs": []
    },
    {
      "cell_type": "code",
      "source": [
        "x = 0\n",
        "while x < 5:\n",
        "    print('hello world')\n",
        "    x += 2\n",
        "print('end')"
      ],
      "metadata": {
        "id": "5khX972EAUwv"
      },
      "execution_count": null,
      "outputs": []
    },
    {
      "cell_type": "code",
      "source": [
        "s = 0\n",
        "x = 0\n",
        "\n",
        "while x < 101:\n",
        "    s += x #누적\n",
        "    x += 1\n",
        "\n",
        "s"
      ],
      "metadata": {
        "id": "ryTN6jqZAoPM"
      },
      "execution_count": null,
      "outputs": []
    },
    {
      "cell_type": "code",
      "source": [
        "# step1 직접 손으로 써봅니다.\n",
        "# step2 변경되는 변수를 체크합니다.\n",
        "# step3 반복문으로 변경되는 변수를 치환합니다.\n",
        "\n",
        "'''\n",
        "step 1\n",
        "2 X 1 = 2\n",
        "2 X 2 = 4\n",
        "2 X 3 = 6\n",
        "2 X 4 = 8\n",
        "2 X 5 = 10\n",
        "2 X 6 = 12\n",
        "2 X 7 = 14\n",
        "2 X 8 = 16\n",
        "2 X 9 = 18\n",
        "\n",
        "step 2\n",
        "2 X {1} = {2}\n",
        "2 X {2} = {4}\n",
        "2 X {3} = {6}\n",
        "...\n",
        "'''\n",
        "\n",
        "i = 1\n",
        "while i < 10:\n",
        "    print(f'2X{i}')\n",
        "    i += 1\n"
      ],
      "metadata": {
        "id": "sehjpMNeA8jb"
      },
      "execution_count": null,
      "outputs": []
    },
    {
      "cell_type": "code",
      "source": [
        "# 100이하의 3의 배수와 5의 배수를 모두 더해주세요\n",
        "\n",
        "x = 0\n",
        "s = 0\n",
        "while x < 101:\n",
        "    s += x\n",
        "    x += 3\n",
        "\n",
        "x = 0\n",
        "while x < 101:\n",
        "    s += x\n",
        "    x += 5\n",
        "\n",
        "x = 0\n",
        "while x < 101:\n",
        "    s -= x\n",
        "    x += 15\n",
        "\n",
        "s"
      ],
      "metadata": {
        "id": "WWiy4X9FCNko"
      },
      "execution_count": null,
      "outputs": []
    },
    {
      "cell_type": "code",
      "source": [
        "x = 0\n",
        "s = 0\n",
        "while x < 101:\n",
        "    if x % 3 == 0 o"
      ],
      "metadata": {
        "id": "-dI7ec7XF6PS"
      },
      "execution_count": null,
      "outputs": []
    },
    {
      "cell_type": "code",
      "source": [
        "# while : 무한반복에서 많이 사용합니다.\n",
        "# for : 객체를 순회할 때 많이 사용합니다."
      ],
      "metadata": {
        "id": "2kKd7CbQgwqQ"
      },
      "execution_count": null,
      "outputs": []
    },
    {
      "cell_type": "code",
      "source": [
        "s = 'hello world'\n",
        "count = 0\n",
        "\n",
        "while count < len(s):\n",
        "    print(s[count])\n",
        "    count += 1"
      ],
      "metadata": {
        "colab": {
          "base_uri": "https://localhost:8080/"
        },
        "id": "rh7nH-wThA6L",
        "outputId": "84b4729a-96aa-4294-d5dc-c8a52d986739"
      },
      "execution_count": null,
      "outputs": [
        {
          "output_type": "stream",
          "name": "stdout",
          "text": [
            "h\n",
            "e\n",
            "l\n",
            "l\n",
            "o\n",
            " \n",
            "w\n",
            "o\n",
            "r\n",
            "l\n",
            "d\n"
          ]
        }
      ]
    },
    {
      "cell_type": "code",
      "source": [
        "for i in 'hello world':\n",
        "    print(i)"
      ],
      "metadata": {
        "colab": {
          "base_uri": "https://localhost:8080/"
        },
        "id": "oJr3CjtRhXuo",
        "outputId": "30cee010-978b-4e83-918e-c6c12bc68c71"
      },
      "execution_count": null,
      "outputs": [
        {
          "output_type": "stream",
          "name": "stdout",
          "text": [
            "h\n",
            "e\n",
            "l\n",
            "l\n",
            "o\n",
            " \n",
            "w\n",
            "o\n",
            "r\n",
            "l\n",
            "d\n"
          ]
        }
      ]
    },
    {
      "cell_type": "code",
      "source": [
        "s = 'hello world'\n",
        "순회가능한객체 = iter(s)\n",
        "next(순회가능한객체)"
      ],
      "metadata": {
        "colab": {
          "base_uri": "https://localhost:8080/",
          "height": 35
        },
        "id": "KUp98kSHhzlI",
        "outputId": "5b4e0172-3fa9-4ccd-a3c4-cb48cb389802"
      },
      "execution_count": null,
      "outputs": [
        {
          "output_type": "execute_result",
          "data": {
            "text/plain": [
              "'h'"
            ],
            "application/vnd.google.colaboratory.intrinsic+json": {
              "type": "string"
            }
          },
          "metadata": {},
          "execution_count": 7
        }
      ]
    },
    {
      "cell_type": "code",
      "source": [
        "next(순회가능한객체)"
      ],
      "metadata": {
        "colab": {
          "base_uri": "https://localhost:8080/",
          "height": 147
        },
        "id": "DlMSGIzMh-ej",
        "outputId": "48e97a2e-e0e3-4035-b483-c402cd97a5f5"
      },
      "execution_count": null,
      "outputs": [
        {
          "output_type": "error",
          "ename": "StopIteration",
          "evalue": "",
          "traceback": [
            "\u001b[0;31m---------------------------------------------------------------------------\u001b[0m",
            "\u001b[0;31mStopIteration\u001b[0m                             Traceback (most recent call last)",
            "\u001b[0;32m<ipython-input-18-c9f1637843a1>\u001b[0m in \u001b[0;36m<cell line: 1>\u001b[0;34m()\u001b[0m\n\u001b[0;32m----> 1\u001b[0;31m \u001b[0mnext\u001b[0m\u001b[0;34m(\u001b[0m\u001b[0m순회가능한객체\u001b[0m\u001b[0;34m)\u001b[0m\u001b[0;34m\u001b[0m\u001b[0;34m\u001b[0m\u001b[0m\n\u001b[0m",
            "\u001b[0;31mStopIteration\u001b[0m: "
          ]
        }
      ]
    },
    {
      "cell_type": "code",
      "source": [
        "# 순회 불가능한 객체 : 정수, 실수, 불리언\n",
        "# 순회 가능한 객체 : 문자열, 리스트, 튜플, 딕셔너리, 셋, range, map, filter, reversed 등"
      ],
      "metadata": {
        "id": "4npkqNQDiVNX"
      },
      "execution_count": null,
      "outputs": []
    },
    {
      "cell_type": "code",
      "source": [
        "for i in [10, 20, 30, 40]:\n",
        "    print(i)\n",
        "    print('end')"
      ],
      "metadata": {
        "id": "hLPVKxcLiEsJ"
      },
      "execution_count": null,
      "outputs": []
    },
    {
      "cell_type": "code",
      "source": [
        "for i in [10, 20, 30, 40]:\n",
        "    print(i)\n",
        "print('end')"
      ],
      "metadata": {
        "id": "j-ySPr9siDpI"
      },
      "execution_count": null,
      "outputs": []
    },
    {
      "cell_type": "code",
      "source": [
        "for i in (10, 20, 30, 40):\n",
        "    print(i)\n",
        "print('end')"
      ],
      "metadata": {
        "colab": {
          "base_uri": "https://localhost:8080/"
        },
        "id": "9m53k3lyhvp5",
        "outputId": "b2e1cda8-ab41-4d84-a201-01e2a3cd0640"
      },
      "execution_count": null,
      "outputs": [
        {
          "output_type": "stream",
          "name": "stdout",
          "text": [
            "10\n",
            "20\n",
            "30\n",
            "40\n",
            "end\n"
          ]
        }
      ]
    },
    {
      "cell_type": "code",
      "source": [
        "for i in {'one':1, 'two':2}:\n",
        "    print(i)\n",
        "print('end')"
      ],
      "metadata": {
        "colab": {
          "base_uri": "https://localhost:8080/"
        },
        "id": "KIF076BehTj5",
        "outputId": "bd5ba41b-a21d-4ecb-8919-aecaf5d8a937"
      },
      "execution_count": null,
      "outputs": [
        {
          "output_type": "stream",
          "name": "stdout",
          "text": [
            "one\n",
            "two\n",
            "end\n"
          ]
        }
      ]
    },
    {
      "cell_type": "code",
      "source": [
        "for i in {'one':1, 'two':2}.items():\n",
        "    print(i)\n",
        "print('end')"
      ],
      "metadata": {
        "colab": {
          "base_uri": "https://localhost:8080/"
        },
        "id": "7ADemHIvjvmA",
        "outputId": "9173494f-53af-4103-b61a-62092c18a356"
      },
      "execution_count": null,
      "outputs": [
        {
          "output_type": "stream",
          "name": "stdout",
          "text": [
            "('one', 1)\n",
            "('two', 2)\n",
            "end\n"
          ]
        }
      ]
    },
    {
      "cell_type": "code",
      "source": [
        "for i in {'one':1, 'two':2}.keys():\n",
        "    print(i)\n",
        "print('end')"
      ],
      "metadata": {
        "colab": {
          "base_uri": "https://localhost:8080/"
        },
        "id": "m3c8l_YdtcJO",
        "outputId": "500be71d-4e22-4f6e-e13f-08700821430f"
      },
      "execution_count": null,
      "outputs": [
        {
          "output_type": "stream",
          "name": "stdout",
          "text": [
            "one\n",
            "two\n",
            "end\n"
          ]
        }
      ]
    },
    {
      "cell_type": "code",
      "source": [
        "x = {'one':1, 'two':2}\n",
        "for i in x:\n",
        "    print(i)\n",
        "    print(x[i])\n",
        "print('end')"
      ],
      "metadata": {
        "id": "1nUM7E1ztopF"
      },
      "execution_count": null,
      "outputs": []
    },
    {
      "cell_type": "code",
      "source": [
        "for i in {'one':1, 'two':2}.values():\n",
        "    print(i)\n",
        "print('end')"
      ],
      "metadata": {
        "id": "SLCn-uFctfpY"
      },
      "execution_count": null,
      "outputs": []
    },
    {
      "cell_type": "code",
      "source": [
        "{'one':1, 'two':2}.items()"
      ],
      "metadata": {
        "colab": {
          "base_uri": "https://localhost:8080/"
        },
        "id": "VLlOnNwqhQug",
        "outputId": "ab155fe8-6e9e-45d1-9e9e-7fac08f95f1b"
      },
      "execution_count": null,
      "outputs": [
        {
          "output_type": "execute_result",
          "data": {
            "text/plain": [
              "dict_items([('one', 1), ('two', 2)])"
            ]
          },
          "metadata": {},
          "execution_count": 26
        }
      ]
    },
    {
      "cell_type": "code",
      "source": [
        "type()"
      ],
      "metadata": {
        "id": "LKbRN7x_kxPl"
      },
      "execution_count": null,
      "outputs": []
    },
    {
      "cell_type": "code",
      "source": [
        "for i in [[10, 20], [30, 40], [50, 60]]:\n",
        "    print(i)"
      ],
      "metadata": {
        "colab": {
          "base_uri": "https://localhost:8080/"
        },
        "id": "FHVp7uaqkihG",
        "outputId": "6ba83342-2916-4feb-d562-c93b7018e49b"
      },
      "execution_count": null,
      "outputs": [
        {
          "output_type": "stream",
          "name": "stdout",
          "text": [
            "[10, 20]\n",
            "[30, 40]\n",
            "[50, 60]\n"
          ]
        }
      ]
    },
    {
      "cell_type": "code",
      "source": [
        "# 문제: 학생들의 수학 평균을 구하시오.\n",
        "# 학생점수 = [[이름, 국, 영, 수], ...]\n",
        "학생점수 = [\n",
        "    ['hojun', 70, 80, 90],\n",
        "    ['junho', 40, 30, 10],\n",
        "    ['mino', 50, 60, 35]\n",
        "]\n",
        "\n",
        "학생점수[0]\n",
        "(학생점수[0][3] + 학생점수[1][3] + 학생점수[2][3]) / 3"
      ],
      "metadata": {
        "colab": {
          "base_uri": "https://localhost:8080/"
        },
        "id": "zpDeHFf7kvEX",
        "outputId": "c23f6a45-c964-4c76-c47e-1ce66f7c0f19"
      },
      "execution_count": null,
      "outputs": [
        {
          "output_type": "execute_result",
          "data": {
            "text/plain": [
              "45.0"
            ]
          },
          "metadata": {},
          "execution_count": 28
        }
      ]
    },
    {
      "cell_type": "code",
      "source": [
        "for i in 학생점수:\n",
        "    print(i)"
      ],
      "metadata": {
        "colab": {
          "base_uri": "https://localhost:8080/"
        },
        "id": "ZsU9qAtRl4Ma",
        "outputId": "19c42ef8-19be-4ef5-b767-44ea4c42fd1f"
      },
      "execution_count": null,
      "outputs": [
        {
          "output_type": "stream",
          "name": "stdout",
          "text": [
            "['hojun', 70, 80, 90]\n",
            "['junho', 40, 30, 10]\n",
            "['mino', 50, 60, 35]\n"
          ]
        }
      ]
    },
    {
      "cell_type": "code",
      "source": [
        "수학점수 = 0\n",
        "for i in 학생점수:\n",
        "    수학점수 += i[3] # i[3]번째 점수가 수학점수\n",
        "\n",
        "수학점수 / 3"
      ],
      "metadata": {
        "colab": {
          "base_uri": "https://localhost:8080/"
        },
        "id": "DTZUC_UUmGRe",
        "outputId": "6aa15f51-f048-4d6b-f179-91207a03c4ce"
      },
      "execution_count": null,
      "outputs": [
        {
          "output_type": "execute_result",
          "data": {
            "text/plain": [
              "45.0"
            ]
          },
          "metadata": {},
          "execution_count": 30
        }
      ]
    },
    {
      "cell_type": "code",
      "source": [
        "x, y = [10, 20] # 언패킹: 포장을 벗겨낸다.\n",
        "x"
      ],
      "metadata": {
        "colab": {
          "base_uri": "https://localhost:8080/"
        },
        "id": "n5rncqrjmbQe",
        "outputId": "c0280cd7-4e5f-4284-f7c2-e7057daf7b3c"
      },
      "execution_count": null,
      "outputs": [
        {
          "output_type": "execute_result",
          "data": {
            "text/plain": [
              "10"
            ]
          },
          "metadata": {},
          "execution_count": 31
        }
      ]
    },
    {
      "cell_type": "code",
      "source": [
        "# 스왑\n",
        "x = 10\n",
        "y = 20\n",
        "\n",
        "# x와 y를 교환하는 방법1 (python에서는 사용하지 않습니다.)\n",
        "x = 10\n",
        "y = 2\n",
        "temp = 0\n",
        "\n",
        "temp = x\n",
        "x = y\n",
        "y = temp\n",
        "\n",
        "# x와 y를 교환하는 방법2 (python에서는 이 방법을 권장합니다.)\n",
        "x = 10\n",
        "y = 20\n",
        "x, y = y, x\n",
        "\n",
        "print(x)\n",
        "print(y)"
      ],
      "metadata": {
        "colab": {
          "base_uri": "https://localhost:8080/"
        },
        "id": "i1loWKPEmkB3",
        "outputId": "dd27643a-8697-4f1c-b4a4-f526695bf384"
      },
      "execution_count": null,
      "outputs": [
        {
          "output_type": "stream",
          "name": "stdout",
          "text": [
            "20\n",
            "10\n"
          ]
        }
      ]
    },
    {
      "cell_type": "code",
      "source": [
        "x, y, z = [1, 2, [10, 20]]\n",
        "z"
      ],
      "metadata": {
        "colab": {
          "base_uri": "https://localhost:8080/"
        },
        "id": "22M4B62Qntlo",
        "outputId": "ecaa90df-4fbe-4cb2-b2ff-b3fcfda8331a"
      },
      "execution_count": null,
      "outputs": [
        {
          "output_type": "execute_result",
          "data": {
            "text/plain": [
              "[10, 20]"
            ]
          },
          "metadata": {},
          "execution_count": 33
        }
      ]
    },
    {
      "cell_type": "code",
      "source": [
        "수학점수 = 0\n",
        "for 이름, 국, 영, 수 in 학생점수:\n",
        "    수학점수 +=\n",
        "\n",
        "수학점수 / 3"
      ],
      "metadata": {
        "id": "Lz5igwELn6Ae"
      },
      "execution_count": null,
      "outputs": []
    },
    {
      "cell_type": "code",
      "source": [
        "# range(start, stop, step)"
      ],
      "metadata": {
        "id": "FcZrUey5ntn0"
      },
      "execution_count": null,
      "outputs": []
    },
    {
      "cell_type": "code",
      "source": [
        "# python 2, x에서는 range는 list였습니다.\n",
        "# 효율적인 메모리 관리를 위해 3.x에서는 리스트가 아니라\n",
        "# range라는 타입으로 지정합니다.\n",
        "\n",
        "for i in range(0, 10, 1):\n",
        "    print(i)\n",
        "\n",
        "for i in range(10):\n",
        "    print(i)"
      ],
      "metadata": {
        "colab": {
          "base_uri": "https://localhost:8080/"
        },
        "id": "akRBQ2Rcu-fd",
        "outputId": "95410d8a-02f3-49f5-f026-aceb026ae324"
      },
      "execution_count": null,
      "outputs": [
        {
          "output_type": "stream",
          "name": "stdout",
          "text": [
            "0\n",
            "1\n",
            "2\n",
            "3\n",
            "4\n",
            "5\n",
            "6\n",
            "7\n",
            "8\n",
            "9\n",
            "0\n",
            "1\n",
            "2\n",
            "3\n",
            "4\n",
            "5\n",
            "6\n",
            "7\n",
            "8\n",
            "9\n"
          ]
        }
      ]
    },
    {
      "cell_type": "code",
      "source": [
        "print(list(range(10)))\n",
        "print(list(range(5, 10)))\n",
        "print(list(range(3, 10, 2)))\n",
        "\n",
        "###############################\n",
        "\n",
        "print(list(range(10, 0, -1)))\n",
        "print(list(range(10, 5, -2)))\n",
        "print(list(range(10, 5)))"
      ],
      "metadata": {
        "colab": {
          "base_uri": "https://localhost:8080/"
        },
        "id": "ahuTk_1fvf0b",
        "outputId": "1796d4c6-b126-4bef-e207-766c19b670ce"
      },
      "execution_count": null,
      "outputs": [
        {
          "output_type": "stream",
          "name": "stdout",
          "text": [
            "[0, 1, 2, 3, 4, 5, 6, 7, 8, 9]\n",
            "[5, 6, 7, 8, 9]\n",
            "[3, 5, 7, 9]\n",
            "[10, 9, 8, 7, 6, 5, 4, 3, 2, 1]\n",
            "[10, 8, 6]\n",
            "[]\n"
          ]
        }
      ]
    },
    {
      "cell_type": "code",
      "source": [
        "s = 0\n",
        "for i in range(1, 101):\n",
        "    s += i\n",
        "s"
      ],
      "metadata": {
        "colab": {
          "base_uri": "https://localhost:8080/"
        },
        "id": "nkoUDXsZyaTJ",
        "outputId": "1c43dbcf-5953-4584-e471-715dac870e6b"
      },
      "execution_count": null,
      "outputs": [
        {
          "output_type": "execute_result",
          "data": {
            "text/plain": [
              "5050"
            ]
          },
          "metadata": {},
          "execution_count": 40
        }
      ]
    },
    {
      "cell_type": "code",
      "source": [
        "s = 0\n",
        "for i in range(1, 101):\n",
        "    if i % 2 == 0:\n",
        "        s += i\n",
        "s"
      ],
      "metadata": {
        "colab": {
          "base_uri": "https://localhost:8080/"
        },
        "id": "UVQ5_mUryle-",
        "outputId": "6faaf6c5-0445-4d56-a46a-9251f57cf606"
      },
      "execution_count": null,
      "outputs": [
        {
          "output_type": "execute_result",
          "data": {
            "text/plain": [
              "2550"
            ]
          },
          "metadata": {},
          "execution_count": 41
        }
      ]
    },
    {
      "cell_type": "code",
      "source": [
        "s = 0\n",
        "for i in range(0, 101, 2):\n",
        "    s += i\n",
        "s"
      ],
      "metadata": {
        "colab": {
          "base_uri": "https://localhost:8080/"
        },
        "id": "5sP3wPhvzuNP",
        "outputId": "697df5ce-c358-48fe-ab23-cd88e525c01a"
      },
      "execution_count": null,
      "outputs": [
        {
          "output_type": "execute_result",
          "data": {
            "text/plain": [
              "2550"
            ]
          },
          "metadata": {},
          "execution_count": 43
        }
      ]
    },
    {
      "cell_type": "code",
      "source": [
        "s = 0\n",
        "for i in '123123567':\n",
        "    s += int(i)\n",
        "s"
      ],
      "metadata": {
        "colab": {
          "base_uri": "https://localhost:8080/"
        },
        "id": "IrQTqQsA0Biw",
        "outputId": "7fbdcf4d-ae3e-4293-ead6-820e50596002"
      },
      "execution_count": null,
      "outputs": [
        {
          "output_type": "execute_result",
          "data": {
            "text/plain": [
              "30"
            ]
          },
          "metadata": {},
          "execution_count": 44
        }
      ]
    },
    {
      "cell_type": "code",
      "source": [
        "# 첫 과제: 다음 수업까지 여기서 숫자를 모두 더하는 코드를 작성해오세요.\n",
        "# '123ab57bn1'\n",
        "s = 0\n",
        "for i in '123ab57bn1':\n",
        "    if i.isdigit():\n",
        "        s += int(i)\n",
        "s"
      ],
      "metadata": {
        "id": "QwcmIC4u0lU4",
        "colab": {
          "base_uri": "https://localhost:8080/"
        },
        "outputId": "3849151e-ce6d-4675-d042-dde7adf4fe44"
      },
      "execution_count": null,
      "outputs": [
        {
          "output_type": "execute_result",
          "data": {
            "text/plain": [
              "19"
            ]
          },
          "metadata": {},
          "execution_count": 1
        }
      ]
    },
    {
      "cell_type": "code",
      "source": [
        "i = 2\n",
        "j = 1\n",
        "\n",
        "while i < 10:\n",
        "    while j < 10:\n",
        "        print(f'{i} X {j} = {i * j}')\n",
        "        j += 1\n",
        "    j = 1\n",
        "    i += 1"
      ],
      "metadata": {
        "colab": {
          "base_uri": "https://localhost:8080/"
        },
        "id": "MCsX_AWG1IF3",
        "outputId": "38290740-e4d5-4f27-f28c-70632ed3ded4"
      },
      "execution_count": null,
      "outputs": [
        {
          "output_type": "stream",
          "name": "stdout",
          "text": [
            "2 X 1 = 2\n",
            "2 X 2 = 4\n",
            "2 X 3 = 6\n",
            "2 X 4 = 8\n",
            "2 X 5 = 10\n",
            "2 X 6 = 12\n",
            "2 X 7 = 14\n",
            "2 X 8 = 16\n",
            "2 X 9 = 18\n",
            "3 X 1 = 3\n",
            "3 X 2 = 6\n",
            "3 X 3 = 9\n",
            "3 X 4 = 12\n",
            "3 X 5 = 15\n",
            "3 X 6 = 18\n",
            "3 X 7 = 21\n",
            "3 X 8 = 24\n",
            "3 X 9 = 27\n",
            "4 X 1 = 4\n",
            "4 X 2 = 8\n",
            "4 X 3 = 12\n",
            "4 X 4 = 16\n",
            "4 X 5 = 20\n",
            "4 X 6 = 24\n",
            "4 X 7 = 28\n",
            "4 X 8 = 32\n",
            "4 X 9 = 36\n",
            "5 X 1 = 5\n",
            "5 X 2 = 10\n",
            "5 X 3 = 15\n",
            "5 X 4 = 20\n",
            "5 X 5 = 25\n",
            "5 X 6 = 30\n",
            "5 X 7 = 35\n",
            "5 X 8 = 40\n",
            "5 X 9 = 45\n",
            "6 X 1 = 6\n",
            "6 X 2 = 12\n",
            "6 X 3 = 18\n",
            "6 X 4 = 24\n",
            "6 X 5 = 30\n",
            "6 X 6 = 36\n",
            "6 X 7 = 42\n",
            "6 X 8 = 48\n",
            "6 X 9 = 54\n",
            "7 X 1 = 7\n",
            "7 X 2 = 14\n",
            "7 X 3 = 21\n",
            "7 X 4 = 28\n",
            "7 X 5 = 35\n",
            "7 X 6 = 42\n",
            "7 X 7 = 49\n",
            "7 X 8 = 56\n",
            "7 X 9 = 63\n",
            "8 X 1 = 8\n",
            "8 X 2 = 16\n",
            "8 X 3 = 24\n",
            "8 X 4 = 32\n",
            "8 X 5 = 40\n",
            "8 X 6 = 48\n",
            "8 X 7 = 56\n",
            "8 X 8 = 64\n",
            "8 X 9 = 72\n",
            "9 X 1 = 9\n",
            "9 X 2 = 18\n",
            "9 X 3 = 27\n",
            "9 X 4 = 36\n",
            "9 X 5 = 45\n",
            "9 X 6 = 54\n",
            "9 X 7 = 63\n",
            "9 X 8 = 72\n",
            "9 X 9 = 81\n"
          ]
        }
      ]
    },
    {
      "cell_type": "code",
      "source": [
        "for i in range(2, 10):\n",
        "    for j in range(1, 10):\n",
        "        r\n",
        "\n",
        "while i < 10:\n",
        "    while j < 10:\n",
        "        print(f'{i} X {j} = {i * j}')\n",
        "        j += 1\n",
        "    j = 1\n",
        "    i += 1"
      ],
      "metadata": {
        "id": "V4fNpNcj1-XT"
      },
      "execution_count": null,
      "outputs": []
    },
    {
      "cell_type": "markdown",
      "source": [
        "# break, continue, pass"
      ],
      "metadata": {
        "id": "8vB5OYJn0iEg"
      }
    },
    {
      "cell_type": "code",
      "source": [
        "for i in range(10):\n",
        "    if i == 5:\n",
        "        break"
      ],
      "metadata": {
        "id": "oJxaFwpB0jto"
      },
      "execution_count": null,
      "outputs": []
    },
    {
      "cell_type": "code",
      "source": [
        "for k in range(3):\n",
        "    for i in range(10):\n",
        "        print(k, i)\n",
        "        if i == 5:\n",
        "            break"
      ],
      "metadata": {
        "colab": {
          "base_uri": "https://localhost:8080/"
        },
        "id": "LGQFeI2f09-I",
        "outputId": "3201caf6-3271-4426-8a4f-8b0364564d62"
      },
      "execution_count": null,
      "outputs": [
        {
          "output_type": "stream",
          "name": "stdout",
          "text": [
            "0 0\n",
            "0 1\n",
            "0 2\n",
            "0 3\n",
            "0 4\n",
            "0 5\n",
            "1 0\n",
            "1 1\n",
            "1 2\n",
            "1 3\n",
            "1 4\n",
            "1 5\n",
            "2 0\n",
            "2 1\n",
            "2 2\n",
            "2 3\n",
            "2 4\n",
            "2 5\n"
          ]
        }
      ]
    },
    {
      "cell_type": "code",
      "source": [
        "for i in range(10):\n",
        "    if i == 5:\n",
        "        continue\n",
        "    print(i)"
      ],
      "metadata": {
        "colab": {
          "base_uri": "https://localhost:8080/"
        },
        "outputId": "1b5c0ec5-18bd-49ab-cd65-c87de7efe06a",
        "id": "_8gf5my91Pj5"
      },
      "execution_count": null,
      "outputs": [
        {
          "output_type": "stream",
          "name": "stdout",
          "text": [
            "0\n",
            "1\n",
            "2\n",
            "3\n",
            "4\n",
            "6\n",
            "7\n",
            "8\n",
            "9\n"
          ]
        }
      ]
    },
    {
      "cell_type": "code",
      "source": [
        "for i in range(3):\n",
        "    print(i)\n",
        "    if i == 2:\n",
        "        break\n",
        "else: # 정상적으로 종료가 되었다면\n",
        "    print('hello')"
      ],
      "metadata": {
        "colab": {
          "base_uri": "https://localhost:8080/"
        },
        "id": "dGT7vSZn2DAB",
        "outputId": "cd159163-3f50-4641-bde5-d8ae26cb09fd"
      },
      "execution_count": null,
      "outputs": [
        {
          "output_type": "stream",
          "name": "stdout",
          "text": [
            "0\n",
            "1\n",
            "2\n"
          ]
        }
      ]
    },
    {
      "cell_type": "markdown",
      "source": [
        "# 함수"
      ],
      "metadata": {
        "id": "Fypr8Y9Y4gh4"
      }
    },
    {
      "cell_type": "code",
      "source": [
        "# 땅파기\n",
        "# 수도설치하기\n",
        "# 땅다지기\n",
        "# 벽돌쌓기\n",
        "# 지붕올리기\n",
        "# 인테리어하기"
      ],
      "metadata": {
        "id": "7Ch1VItI4uUG"
      },
      "execution_count": null,
      "outputs": []
    },
    {
      "cell_type": "code",
      "source": [
        "def one(): # 함수의 정의\n",
        "    print('hello world') # 함수의 코드\n",
        "    print('hello world')\n",
        "    print('hello world')\n",
        "    return 10 # 함수의 리턴값\n",
        "\n",
        "\n",
        "one() + one()"
      ],
      "metadata": {
        "colab": {
          "base_uri": "https://localhost:8080/"
        },
        "id": "NN3HtxW-2lOp",
        "outputId": "fdb92cc1-a8cb-4ac1-f559-3870fce55ed5"
      },
      "execution_count": null,
      "outputs": [
        {
          "output_type": "stream",
          "name": "stdout",
          "text": [
            "hello world\n",
            "hello world\n",
            "hello world\n",
            "hello world\n",
            "hello world\n",
            "hello world\n"
          ]
        },
        {
          "output_type": "execute_result",
          "data": {
            "text/plain": [
              "20"
            ]
          },
          "metadata": {},
          "execution_count": 7
        }
      ]
    },
    {
      "cell_type": "code",
      "source": [
        "# 파선아실\n",
        "def add(x, y): # x, y는 파라미터\n",
        "    z = x + y\n",
        "    return z\n",
        "\n",
        "add(10, 20) + add(30, 40) # 10, 20, 30, 40 아규먼트"
      ],
      "metadata": {
        "colab": {
          "base_uri": "https://localhost:8080/"
        },
        "id": "uzz7pzJH_YGS",
        "outputId": "f4fd395f-7f96-4ba1-a278-c097e9bbea66"
      },
      "execution_count": null,
      "outputs": [
        {
          "output_type": "execute_result",
          "data": {
            "text/plain": [
              "100"
            ]
          },
          "metadata": {},
          "execution_count": 8
        }
      ]
    },
    {
      "cell_type": "code",
      "source": [
        "# 파선아실\n",
        "def add(a, b, c):\n",
        "    z = a + b + c\n",
        "    return z\n",
        "\n",
        "add(10, 20, 30) + add(30, 40, 50)"
      ],
      "metadata": {
        "colab": {
          "base_uri": "https://localhost:8080/"
        },
        "id": "vS5UCMZ4Ajhl",
        "outputId": "807ad874-dc7a-4499-b821-109d0dc57f43"
      },
      "execution_count": null,
      "outputs": [
        {
          "output_type": "execute_result",
          "data": {
            "text/plain": [
              "180"
            ]
          },
          "metadata": {},
          "execution_count": 10
        }
      ]
    },
    {
      "cell_type": "code",
      "source": [
        "def one():\n",
        "    pass\n",
        "\n",
        "def two():\n",
        "    pass\n",
        "\n",
        "def three():\n",
        "    pass"
      ],
      "metadata": {
        "id": "ToLJKTmlBQxd"
      },
      "execution_count": null,
      "outputs": []
    },
    {
      "cell_type": "code",
      "source": [
        "# 파라미터가 없고, 반환값도 없는 함수\n",
        "def one():\n",
        "    print('hello world')\n",
        "\n",
        "one()"
      ],
      "metadata": {
        "colab": {
          "base_uri": "https://localhost:8080/"
        },
        "id": "hLSvaBCiCwqM",
        "outputId": "c35068db-6cbe-428b-ec2c-cda3eade4849"
      },
      "execution_count": null,
      "outputs": [
        {
          "output_type": "stream",
          "name": "stdout",
          "text": [
            "hello world\n"
          ]
        }
      ]
    },
    {
      "cell_type": "code",
      "source": [
        "# 파라미터가 있고, 반환값이 없는 함수\n",
        "def one(x):\n",
        "    print(f'입력값은 {x}입니다.') # print는 출력이지 이 함수의 반한값이 아닙니다.\n",
        "\n",
        "one(10)"
      ],
      "metadata": {
        "colab": {
          "base_uri": "https://localhost:8080/"
        },
        "id": "BGSFJ1YuCS0V",
        "outputId": "50118905-b952-46f0-9dda-638613bdb972"
      },
      "execution_count": null,
      "outputs": [
        {
          "output_type": "stream",
          "name": "stdout",
          "text": [
            "입력값은 10입니다.\n"
          ]
        }
      ]
    },
    {
      "cell_type": "code",
      "source": [
        "# 파라미터가 없고, 반환값은 있는 함수\n",
        "\n",
        "def one():\n",
        "    return 10\n",
        "\n",
        "one()"
      ],
      "metadata": {
        "id": "hE1IvFBCCE1E"
      },
      "execution_count": null,
      "outputs": []
    },
    {
      "cell_type": "code",
      "source": [
        "# 파라미터가 있고, 반환값도 있는 함수\n",
        "\n",
        "def one(x):\n",
        "    return 10\n",
        "\n",
        "one()"
      ],
      "metadata": {
        "id": "lesBbZscC7sv"
      },
      "execution_count": null,
      "outputs": []
    },
    {
      "cell_type": "code",
      "source": [
        "# 오해하는 경우\n",
        "def one(x):\n",
        "    print(f'입력값은 {x}입니다.')\n",
        "\n",
        "print(one(10))"
      ],
      "metadata": {
        "id": "CcjK9mG6DY0N"
      },
      "execution_count": null,
      "outputs": []
    },
    {
      "cell_type": "code",
      "source": [
        "def one(x):\n",
        "    print(f'입력값은 {x}입니다.')\n",
        "    return None\n",
        "\n",
        "one(10) # 왜 None을 출력하지 않죠?"
      ],
      "metadata": {
        "id": "sPcy2HNgDmoD"
      },
      "execution_count": null,
      "outputs": []
    },
    {
      "cell_type": "code",
      "source": [
        "def one(x):\n",
        "    print(f'입력값은 {x}입니다.')\n",
        "    return 10\n",
        "\n",
        "one(10) # 이것은 10이 출력이 됩니다!"
      ],
      "metadata": {
        "id": "_G5jgk0TDwH0"
      },
      "execution_count": null,
      "outputs": []
    },
    {
      "cell_type": "code",
      "source": [
        "def one(x):\n",
        "    print(f'입력값은 {x}입니다.')\n",
        "    return None\n",
        "\n",
        "one(10)\n",
        "10\n",
        "None # 출력 안합니다! print로 출력하지 않는한 None 출력하지 않아요."
      ],
      "metadata": {
        "colab": {
          "base_uri": "https://localhost:8080/"
        },
        "id": "tbMRWI8sD5Ts",
        "outputId": "8d4b954d-dfa9-4400-b1d2-2cdeb7a4c98f"
      },
      "execution_count": null,
      "outputs": [
        {
          "output_type": "stream",
          "name": "stdout",
          "text": [
            "입력값은 10입니다.\n"
          ]
        }
      ]
    },
    {
      "cell_type": "code",
      "source": [
        "# 기본값 입력\n",
        "def one(a=10, b=20, c=30):\n",
        "    return a + b + c\n",
        "\n",
        "one()\n",
        "one(100)\n",
        "one(100, 200)\n",
        "one(100, 200, 300)\n",
        "one(c=300)"
      ],
      "metadata": {
        "colab": {
          "base_uri": "https://localhost:8080/"
        },
        "id": "I-ky8GESELCv",
        "outputId": "c831414f-2515-4492-fefa-8774a10db1c7"
      },
      "execution_count": null,
      "outputs": [
        {
          "output_type": "execute_result",
          "data": {
            "text/plain": [
              "60"
            ]
          },
          "metadata": {},
          "execution_count": 14
        }
      ]
    },
    {
      "cell_type": "code",
      "source": [
        "# 리스트와 같은 컨벤션 자료형을 아규먼트로 넣었을 때 주의할 점\n",
        "\n",
        "a = 10\n",
        "b = [10, 20, 30]\n",
        "\n",
        "def one(x):\n",
        "    x = 100\n",
        "\n",
        "one(a)\n",
        "\n",
        "def two(y):\n",
        "    y.append(100)\n",
        "\n",
        "two(b)\n",
        "\n",
        "a, b"
      ],
      "metadata": {
        "id": "iekLsk1EHLQ1"
      },
      "execution_count": null,
      "outputs": []
    },
    {
      "cell_type": "markdown",
      "source": [
        "# lamda"
      ],
      "metadata": {
        "id": "sPINzdPPkxtT"
      }
    },
    {
      "cell_type": "code",
      "source": [
        "print('hello world')"
      ],
      "metadata": {
        "colab": {
          "base_uri": "https://localhost:8080/"
        },
        "id": "zoXYjjCik2EV",
        "outputId": "698bcaa6-c18e-4b66-bccd-c0aba535d457"
      },
      "execution_count": null,
      "outputs": [
        {
          "output_type": "stream",
          "name": "stdout",
          "text": [
            "hello world\n"
          ]
        }
      ]
    },
    {
      "cell_type": "code",
      "source": [
        "def one():\n",
        "    return 1 # 같은 것을 가리키고 있음"
      ],
      "metadata": {
        "id": "BDMv5Qhuk6pF"
      },
      "execution_count": null,
      "outputs": []
    },
    {
      "cell_type": "code",
      "source": [
        "hojun = print\n",
        "hojun('hello world')"
      ],
      "metadata": {
        "colab": {
          "base_uri": "https://localhost:8080/"
        },
        "id": "1B7eW0mSk-DM",
        "outputId": "6c4a0522-653a-4324-ff87-b33fbda3e611"
      },
      "execution_count": null,
      "outputs": [
        {
          "output_type": "stream",
          "name": "stdout",
          "text": [
            "hello world\n"
          ]
        }
      ]
    },
    {
      "cell_type": "code",
      "source": [
        "hello = [print, sum, len]\n",
        "hello[0]('hello world')"
      ],
      "metadata": {
        "colab": {
          "base_uri": "https://localhost:8080/"
        },
        "id": "5jElCAl8lJa_",
        "outputId": "180ac147-b89b-4ffa-f7f4-59740e57df5f"
      },
      "execution_count": null,
      "outputs": [
        {
          "output_type": "stream",
          "name": "stdout",
          "text": [
            "hello world\n"
          ]
        }
      ]
    },
    {
      "cell_type": "code",
      "source": [
        "(lambda x, y : x + y)(10, 20)\n",
        "\n",
        "### 같은 코드\n",
        "\n",
        "add = lambda x, y: x + y\n",
        "add(10, 20)\n",
        "\n",
        "### 같은 코드\n",
        "\n",
        "def add(x, y):\n",
        "    return x + y\n",
        "\n",
        "add(10, 20)"
      ],
      "metadata": {
        "colab": {
          "base_uri": "https://localhost:8080/"
        },
        "id": "71Df2kvylTu3",
        "outputId": "eea51fe1-de71-46f0-9c41-838b234bdc49"
      },
      "execution_count": null,
      "outputs": [
        {
          "output_type": "execute_result",
          "data": {
            "text/plain": [
              "30"
            ]
          },
          "metadata": {},
          "execution_count": 8
        }
      ]
    },
    {
      "cell_type": "code",
      "source": [
        "# lambda 파라미터: 리턴값"
      ],
      "metadata": {
        "id": "J45YppOQlsGM"
      },
      "execution_count": null,
      "outputs": []
    },
    {
      "cell_type": "code",
      "source": [
        "def f(x):\n",
        "    return x > 5\n",
        "\n",
        "list(filter(f, [1, 2, 3, 4, 5, 6, 7, 8, 9, 10]))"
      ],
      "metadata": {
        "colab": {
          "base_uri": "https://localhost:8080/"
        },
        "id": "1TDPdT0rikho",
        "outputId": "de0b0987-075d-4ae7-d526-aa1a8a04c3a3"
      },
      "execution_count": null,
      "outputs": [
        {
          "output_type": "execute_result",
          "data": {
            "text/plain": [
              "[6, 7, 8, 9, 10]"
            ]
          },
          "metadata": {},
          "execution_count": 11
        }
      ]
    },
    {
      "cell_type": "code",
      "source": [
        "list(filter(lambda x: x> 5, [1, 2, 3, 4, 5, 6, 7, 8, 9, 10]))"
      ],
      "metadata": {
        "colab": {
          "base_uri": "https://localhost:8080/"
        },
        "id": "I_e1O_T6nCnE",
        "outputId": "0a0c4ddd-61b8-4dea-e0de-030eddc1657d"
      },
      "execution_count": null,
      "outputs": [
        {
          "output_type": "execute_result",
          "data": {
            "text/plain": [
              "[6, 7, 8, 9, 10]"
            ]
          },
          "metadata": {},
          "execution_count": 12
        }
      ]
    },
    {
      "cell_type": "code",
      "source": [
        "# 짝수만 다 더하고 싶을 경우\n",
        "sum(filter(lambda x: x % 2 == 0, [1,2, 3, 4, 5, 6, 7, 8, 9, 10]))"
      ],
      "metadata": {
        "colab": {
          "base_uri": "https://localhost:8080/"
        },
        "id": "VdKrSc5cnY7J",
        "outputId": "90d50282-e9d6-4725-a16a-7a92c0577c75"
      },
      "execution_count": null,
      "outputs": [
        {
          "output_type": "execute_result",
          "data": {
            "text/plain": [
              "30"
            ]
          },
          "metadata": {},
          "execution_count": 13
        }
      ]
    },
    {
      "cell_type": "code",
      "source": [
        "# filter는 왜 filter만 햇을 때 값을 주지 않나요?\n",
        "filter(lambda x: x % 2 == 0, [1, 2, 3, 4, 5, 6, 7, 8, 9, 10])\n",
        "\n",
        "# filter 연산은 진행되지 않은 상태입니다."
      ],
      "metadata": {
        "colab": {
          "base_uri": "https://localhost:8080/"
        },
        "id": "OZtqQIAXnv8r",
        "outputId": "60c27226-3368-47bc-88aa-d4e40297128f"
      },
      "execution_count": null,
      "outputs": [
        {
          "output_type": "execute_result",
          "data": {
            "text/plain": [
              "<filter at 0x7d655fa31b40>"
            ]
          },
          "metadata": {},
          "execution_count": 14
        }
      ]
    },
    {
      "cell_type": "markdown",
      "source": [
        "# built-in function 2"
      ],
      "metadata": {
        "id": "tl15tM_eoDJZ"
      }
    },
    {
      "cell_type": "code",
      "source": [
        "# all() : 모든 것이 전부 다 True, False인 것이 없는가 검사\n",
        "# any() : 하나라도 True이면 True 입니다.\n",
        "# dir() : 객체가 가진 모든 속성을 나타냅니다.\n",
        "# enumerate(iter, start_index): 인덱스와 함께 값을 나열합니다.\n",
        "# filter(fund, iter):함수의 결과값이 True인 것을 반환합니다.\n",
        "# format() format(1000000000, ',')\n",
        "# id() 가리키고 있는 주솟값\n",
        "# type() 객체 타입을 출력합니다.\n",
        "# isinstance() class 배우고 하겠습니다.\n",
        "# issubclass() ''\n",
        "# len() 객체의 길이를 출력합니다.\n",
        "\n",
        "# map(fun, iter) iter 객체를 순회 돌면서 function의 반환값으로 새로운 순회 가능한 객체를 만듭니다.\n",
        "zip(iter1, iter2, iter3...) 순회 가능한 객체들의 쌍으로 순회 가능한 객체를 만듭니다.\n",
        "max() 최댓값\n",
        "min() 최솟값\n",
        "sum() 안에 있는 값을 모두 더합니다.\n",
        "\n",
        "iter()\n",
        "next()\n",
        "\n",
        "print()\n",
        "range()\n",
        "reversed()\n",
        "sorted()"
      ],
      "metadata": {
        "id": "rijrXpeAoIgr"
      },
      "execution_count": null,
      "outputs": []
    },
    {
      "cell_type": "code",
      "source": [
        "all([True, True, False])\n",
        "all([True, True, True])\n",
        "all([])"
      ],
      "metadata": {
        "colab": {
          "base_uri": "https://localhost:8080/"
        },
        "id": "hDI_4lUnoArT",
        "outputId": "d2ca7ccd-7b89-48b7-c0fc-6daa1090ce18"
      },
      "execution_count": null,
      "outputs": [
        {
          "output_type": "execute_result",
          "data": {
            "text/plain": [
              "True"
            ]
          },
          "metadata": {},
          "execution_count": 16
        }
      ]
    },
    {
      "cell_type": "code",
      "source": [
        "all([True, True, False])\n",
        "all([True, True, True])\n",
        "all([False, False])\n",
        "all([])"
      ],
      "metadata": {
        "colab": {
          "base_uri": "https://localhost:8080/"
        },
        "id": "hvWznRnRqEni",
        "outputId": "f89dd211-414a-4bf4-f2fe-65e511b84d3e"
      },
      "execution_count": null,
      "outputs": [
        {
          "output_type": "execute_result",
          "data": {
            "text/plain": [
              "True"
            ]
          },
          "metadata": {},
          "execution_count": 17
        }
      ]
    },
    {
      "cell_type": "code",
      "source": [
        "l = [10, 20, 30]\n",
        "dir(l)"
      ],
      "metadata": {
        "colab": {
          "base_uri": "https://localhost:8080/"
        },
        "id": "0DkpCOWJqXXB",
        "outputId": "267808a7-9ef7-424f-8f1e-ee99b7797e82"
      },
      "execution_count": null,
      "outputs": [
        {
          "output_type": "execute_result",
          "data": {
            "text/plain": [
              "['__add__',\n",
              " '__class__',\n",
              " '__class_getitem__',\n",
              " '__contains__',\n",
              " '__delattr__',\n",
              " '__delitem__',\n",
              " '__dir__',\n",
              " '__doc__',\n",
              " '__eq__',\n",
              " '__format__',\n",
              " '__ge__',\n",
              " '__getattribute__',\n",
              " '__getitem__',\n",
              " '__gt__',\n",
              " '__hash__',\n",
              " '__iadd__',\n",
              " '__imul__',\n",
              " '__init__',\n",
              " '__init_subclass__',\n",
              " '__iter__',\n",
              " '__le__',\n",
              " '__len__',\n",
              " '__lt__',\n",
              " '__mul__',\n",
              " '__ne__',\n",
              " '__new__',\n",
              " '__reduce__',\n",
              " '__reduce_ex__',\n",
              " '__repr__',\n",
              " '__reversed__',\n",
              " '__rmul__',\n",
              " '__setattr__',\n",
              " '__setitem__',\n",
              " '__sizeof__',\n",
              " '__str__',\n",
              " '__subclasshook__',\n",
              " 'append',\n",
              " 'clear',\n",
              " 'copy',\n",
              " 'count',\n",
              " 'extend',\n",
              " 'index',\n",
              " 'insert',\n",
              " 'pop',\n",
              " 'remove',\n",
              " 'reverse',\n",
              " 'sort']"
            ]
          },
          "metadata": {},
          "execution_count": 18
        }
      ]
    },
    {
      "cell_type": "code",
      "source": [
        "list(enumerate(['BTS', '아이유', '뉴진스']))\n",
        "list(enumerate(['BTS', '아이유', '뉴진스'], 1))\n",
        "list(enumerate(['BTS', '아이유', '뉴진스'], 100))"
      ],
      "metadata": {
        "colab": {
          "base_uri": "https://localhost:8080/"
        },
        "id": "DD6uC0nNq0F6",
        "outputId": "2783ee41-7004-4c30-896b-1712f102eebd"
      },
      "execution_count": null,
      "outputs": [
        {
          "output_type": "execute_result",
          "data": {
            "text/plain": [
              "[(100, 'BTS'), (101, '아이유'), (102, '뉴진스')]"
            ]
          },
          "metadata": {},
          "execution_count": 20
        }
      ]
    },
    {
      "cell_type": "code",
      "source": [
        "list(filter(lambda x: x % 2 == 0, [1,2, 3, 4, 5, 6, 7, 8, 9, 10]))"
      ],
      "metadata": {
        "colab": {
          "base_uri": "https://localhost:8080/"
        },
        "id": "6fMkjqXXvk_3",
        "outputId": "a1b6db20-1457-4c30-8f17-e4eeef619a80"
      },
      "execution_count": null,
      "outputs": [
        {
          "output_type": "execute_result",
          "data": {
            "text/plain": [
              "[2, 4, 6, 8, 10]"
            ]
          },
          "metadata": {},
          "execution_count": 22
        }
      ]
    },
    {
      "cell_type": "code",
      "source": [
        "for i in [1, 2, 3, 4, 5, 6, 7, 8, 9, 10]:\n",
        "    if i % 2 == 0:\n",
        "        print(i)"
      ],
      "metadata": {
        "colab": {
          "base_uri": "https://localhost:8080/"
        },
        "id": "yfK1QGeIvrh4",
        "outputId": "e0809a40-beca-49a0-fe0f-4af12f3e6a1d"
      },
      "execution_count": null,
      "outputs": [
        {
          "output_type": "stream",
          "name": "stdout",
          "text": [
            "2\n",
            "4\n",
            "6\n",
            "8\n",
            "10\n"
          ]
        }
      ]
    },
    {
      "cell_type": "code",
      "source": [
        "format(1000000000, ',') # , 찍을 때 아님 ㅂㄹ 안 씀"
      ],
      "metadata": {
        "colab": {
          "base_uri": "https://localhost:8080/",
          "height": 35
        },
        "id": "k171sFz8v4HX",
        "outputId": "7a26d1fb-d005-44cb-d666-89417fa28254"
      },
      "execution_count": null,
      "outputs": [
        {
          "output_type": "execute_result",
          "data": {
            "text/plain": [
              "'1,000,000,000'"
            ],
            "application/vnd.google.colaboratory.intrinsic+json": {
              "type": "string"
            }
          },
          "metadata": {},
          "execution_count": 23
        }
      ]
    },
    {
      "cell_type": "code",
      "source": [
        "a = 10000\n",
        "b = a\n",
        "\n",
        "id(a), id(b)\n",
        "a is b"
      ],
      "metadata": {
        "colab": {
          "base_uri": "https://localhost:8080/"
        },
        "id": "N8ekx0XGwZFe",
        "outputId": "505e5929-c9b0-49cb-f798-91e5b4182f5f"
      },
      "execution_count": null,
      "outputs": [
        {
          "output_type": "execute_result",
          "data": {
            "text/plain": [
              "True"
            ]
          },
          "metadata": {},
          "execution_count": 24
        }
      ]
    },
    {
      "cell_type": "code",
      "source": [
        "# class 배우고 다시 하겠습니다. 지금은 기억하지 않으셔도 ㅇㅋ\n",
        "issubclass(bool, int) # True\n",
        "issubclass(int, float)\n",
        "issubclass(float, complex)\n",
        "issubclass(complex, float)"
      ],
      "metadata": {
        "colab": {
          "base_uri": "https://localhost:8080/"
        },
        "id": "UHFixAxVwhAw",
        "outputId": "1643f460-efc9-43ef-d138-b71331aaee5f"
      },
      "execution_count": null,
      "outputs": [
        {
          "output_type": "execute_result",
          "data": {
            "text/plain": [
              "False"
            ]
          },
          "metadata": {},
          "execution_count": 25
        }
      ]
    },
    {
      "cell_type": "code",
      "source": [
        "len('hello world')"
      ],
      "metadata": {
        "colab": {
          "base_uri": "https://localhost:8080/"
        },
        "id": "AucVpcJHxfBx",
        "outputId": "148a2008-cc35-424b-ec24-3a3edd74fb93"
      },
      "execution_count": null,
      "outputs": [
        {
          "output_type": "execute_result",
          "data": {
            "text/plain": [
              "11"
            ]
          },
          "metadata": {},
          "execution_count": 26
        }
      ]
    },
    {
      "cell_type": "code",
      "source": [
        "# len(filter(lambda x: x % 2 == 0, [1,2, 3, 4, 5, 6, 7, 8, 9, 10])) # error"
      ],
      "metadata": {
        "id": "Ozu-p4e0x8tv"
      },
      "execution_count": null,
      "outputs": []
    },
    {
      "cell_type": "code",
      "source": [
        "def f(x):\n",
        "    return x ** 2\n",
        "\n",
        "list(map(f, [10, 20, 30, 40]))\n",
        "\n",
        "### 같은 코드\n",
        "\n",
        "list(map(lambda x: x ** 2, [10, 20, 30, 40 ]))"
      ],
      "metadata": {
        "id": "D7g31AInysu8"
      },
      "execution_count": null,
      "outputs": []
    },
    {
      "cell_type": "code",
      "source": [
        "# sum(list(map(f, [10, 20, 30, 40]))) 이해부족\n",
        "sum(map(f, [10, 20, 30, 40]))"
      ],
      "metadata": {
        "id": "eyf4Wttgzqst"
      },
      "execution_count": null,
      "outputs": []
    },
    {
      "cell_type": "code",
      "source": [
        "list(zip('abc', [10, 20, 30]))"
      ],
      "metadata": {
        "colab": {
          "base_uri": "https://localhost:8080/"
        },
        "id": "OHxGD4NW2DjL",
        "outputId": "7789bb4e-8b32-4110-cb2c-183621103cac"
      },
      "execution_count": null,
      "outputs": [
        {
          "output_type": "execute_result",
          "data": {
            "text/plain": [
              "[('a', 10), ('b', 20), ('c', 30)]"
            ]
          },
          "metadata": {},
          "execution_count": 27
        }
      ]
    },
    {
      "cell_type": "code",
      "source": [
        "list(zip([1, 2, 3], [10, 20, 30], 'hello'))"
      ],
      "metadata": {
        "id": "SOYxilZM2WKX"
      },
      "execution_count": null,
      "outputs": []
    }
  ]
}