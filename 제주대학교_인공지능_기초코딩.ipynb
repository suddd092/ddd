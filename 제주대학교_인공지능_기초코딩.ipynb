{
  "nbformat": 4,
  "nbformat_minor": 0,
  "metadata": {
    "colab": {
      "provenance": [],
      "authorship_tag": "ABX9TyNWkkT8OqR1yXTvalkLHvCR",
      "include_colab_link": true
    },
    "kernelspec": {
      "name": "python3",
      "display_name": "Python 3"
    },
    "language_info": {
      "name": "python"
    }
  },
  "cells": [
    {
      "cell_type": "markdown",
      "metadata": {
        "id": "view-in-github",
        "colab_type": "text"
      },
      "source": [
        "<a href=\"https://colab.research.google.com/github/suddd092/ddd/blob/main/%EC%A0%9C%EC%A3%BC%EB%8C%80%ED%95%99%EA%B5%90_%EC%9D%B8%EA%B3%B5%EC%A7%80%EB%8A%A5_%EA%B8%B0%EC%B4%88%EC%BD%94%EB%94%A9.ipynb\" target=\"_parent\"><img src=\"https://colab.research.google.com/assets/colab-badge.svg\" alt=\"Open In Colab\"/></a>"
      ]
    },
    {
      "cell_type": "markdown",
      "source": [
        "# 주석"
      ],
      "metadata": {
        "id": "jbW7uekluUTW"
      }
    },
    {
      "cell_type": "code",
      "execution_count": null,
      "metadata": {
        "colab": {
          "base_uri": "https://localhost:8080/",
          "height": 35
        },
        "id": "oCSXIrZxdAiV",
        "outputId": "c83cdf3f-9cbb-4197-8315-770840ef7ae2"
      },
      "outputs": [
        {
          "output_type": "execute_result",
          "data": {
            "text/plain": [
              "'\\n여러줄\\n주석입니다.\\n'"
            ],
            "application/vnd.google.colaboratory.intrinsic+json": {
              "type": "string"
            }
          },
          "metadata": {},
          "execution_count": 1
        }
      ],
      "source": [
        "# 주석입니다.\n",
        "\n",
        "'''\n",
        "여러줄\n",
        "주석입니다.\n",
        "'''\n",
        "\n",
        "\"\"\"\n",
        "여러줄\n",
        "주석입니다.\n",
        "\"\"\""
      ]
    },
    {
      "cell_type": "markdown",
      "source": [
        "# 변수"
      ],
      "metadata": {
        "id": "Zu7lK5QiugMc"
      }
    },
    {
      "cell_type": "code",
      "source": [
        "1+1 # 이것은 1 더하기 1입니다"
      ],
      "metadata": {
        "colab": {
          "base_uri": "https://localhost:8080/"
        },
        "id": "dG0s0gdDetcI",
        "outputId": "9be1486c-f6a1-4dcb-fc69-4a549f78f713"
      },
      "execution_count": null,
      "outputs": [
        {
          "output_type": "execute_result",
          "data": {
            "text/plain": [
              "2"
            ]
          },
          "metadata": {},
          "execution_count": 3
        }
      ]
    },
    {
      "cell_type": "code",
      "source": [
        "1 + 1\n",
        "2 + 2\n",
        "3 + 3\n",
        "4 + 4"
      ],
      "metadata": {
        "colab": {
          "base_uri": "https://localhost:8080/"
        },
        "id": "mSBt84NtirP5",
        "outputId": "070ea204-0722-4b58-bf80-78299f7aefe3"
      },
      "execution_count": null,
      "outputs": [
        {
          "output_type": "execute_result",
          "data": {
            "text/plain": [
              "8"
            ]
          },
          "metadata": {},
          "execution_count": 4
        }
      ]
    },
    {
      "cell_type": "code",
      "source": [
        "print(1 + 1) # 마지막 라인만 출력합니다.\n",
        "print(2 + 2)\n",
        "print(3 + 3)\n",
        "print(4 + 4)"
      ],
      "metadata": {
        "colab": {
          "base_uri": "https://localhost:8080/"
        },
        "outputId": "4f6c180c-6067-45a4-a278-6b723fbc160a",
        "id": "DL8OkJfKjMIj"
      },
      "execution_count": null,
      "outputs": [
        {
          "output_type": "stream",
          "name": "stdout",
          "text": [
            "2\n",
            "4\n",
            "6\n",
            "8\n"
          ]
        }
      ]
    },
    {
      "cell_type": "code",
      "source": [
        "name = 'leehojun'\n",
        "age = 10"
      ],
      "metadata": {
        "id": "1vzBmAWykCYw"
      },
      "execution_count": null,
      "outputs": []
    },
    {
      "cell_type": "code",
      "source": [
        "age + age"
      ],
      "metadata": {
        "colab": {
          "base_uri": "https://localhost:8080/"
        },
        "id": "wqeJ8J5GkVTe",
        "outputId": "1df3a2b6-18a2-458d-8686-602a92a8d6f7"
      },
      "execution_count": null,
      "outputs": [
        {
          "output_type": "execute_result",
          "data": {
            "text/plain": [
              "20"
            ]
          },
          "metadata": {},
          "execution_count": 8
        }
      ]
    },
    {
      "cell_type": "code",
      "source": [
        "x = 10\n",
        "y = x\n",
        "z = y\n",
        "\n",
        "# 화살표는?\n",
        "\n",
        "# 오해: z -> y -> x -> 10\n",
        "# x -> 10\n",
        "# y -> 10\n",
        "# z -> 10"
      ],
      "metadata": {
        "id": "eOvb_RbikpgB"
      },
      "execution_count": null,
      "outputs": []
    },
    {
      "cell_type": "code",
      "source": [
        "id(x), id(y), id(z)"
      ],
      "metadata": {
        "colab": {
          "base_uri": "https://localhost:8080/"
        },
        "id": "P1_80F5blbB5",
        "outputId": "fdcf0a6d-6689-47b5-a8d9-199ea2e5da9a"
      },
      "execution_count": null,
      "outputs": [
        {
          "output_type": "execute_result",
          "data": {
            "text/plain": [
              "(135712069288464, 135712069288464, 135712069288464)"
            ]
          },
          "metadata": {},
          "execution_count": 10
        }
      ]
    },
    {
      "cell_type": "code",
      "source": [
        "x = 10\n",
        "y = x\n",
        "z = y\n",
        "\n",
        "y = 20\n",
        "print(z)"
      ],
      "metadata": {
        "colab": {
          "base_uri": "https://localhost:8080/"
        },
        "id": "Y7FJsvVclhEa",
        "outputId": "b8d6517c-cbd6-4bae-a0bd-856682cb12a0"
      },
      "execution_count": null,
      "outputs": [
        {
          "output_type": "stream",
          "name": "stdout",
          "text": [
            "10\n"
          ]
        }
      ]
    },
    {
      "cell_type": "code",
      "source": [
        "Apple = 10\n",
        "apple = 20"
      ],
      "metadata": {
        "id": "qZbmE1pPl7lT"
      },
      "execution_count": null,
      "outputs": []
    },
    {
      "cell_type": "code",
      "source": [
        "Apple, apple"
      ],
      "metadata": {
        "colab": {
          "base_uri": "https://localhost:8080/"
        },
        "id": "3nSx1nXTmgrL",
        "outputId": "a5323687-0cc1-4b3d-bd87-693a92b61734"
      },
      "execution_count": null,
      "outputs": [
        {
          "output_type": "execute_result",
          "data": {
            "text/plain": [
              "(10, 20)"
            ]
          },
          "metadata": {},
          "execution_count": 14
        }
      ]
    },
    {
      "cell_type": "code",
      "source": [
        "hello1 = 100\n",
        "hello2 = 200\n",
        "hello3 = 300"
      ],
      "metadata": {
        "id": "_54ag5K3ml2L"
      },
      "execution_count": null,
      "outputs": []
    },
    {
      "cell_type": "code",
      "source": [
        "import keyword\n",
        "\n",
        "print(keyword.kwlist)"
      ],
      "metadata": {
        "colab": {
          "base_uri": "https://localhost:8080/"
        },
        "id": "FUuilycCnaST",
        "outputId": "aed4f30b-45fa-4e19-f357-9a7475d9fff8"
      },
      "execution_count": null,
      "outputs": [
        {
          "output_type": "stream",
          "name": "stdout",
          "text": [
            "['False', 'None', 'True', 'and', 'as', 'assert', 'async', 'await', 'break', 'class', 'continue', 'def', 'del', 'elif', 'else', 'except', 'finally', 'for', 'from', 'global', 'if', 'import', 'in', 'is', 'lambda', 'nonlocal', 'not', 'or', 'pass', 'raise', 'return', 'try', 'while', 'with', 'yield']\n"
          ]
        }
      ]
    },
    {
      "cell_type": "code",
      "source": [
        "name = 'hojun'\n",
        "age = 10\n",
        "\n",
        "print(type(name))\n",
        "print(type(age))"
      ],
      "metadata": {
        "colab": {
          "base_uri": "https://localhost:8080/"
        },
        "id": "mwi25WRFnbLz",
        "outputId": "c55d6690-58a3-44a3-f6e3-a02ddfea0ac2"
      },
      "execution_count": null,
      "outputs": [
        {
          "output_type": "stream",
          "name": "stdout",
          "text": [
            "<class 'str'>\n",
            "<class 'int'>\n"
          ]
        }
      ]
    },
    {
      "cell_type": "code",
      "source": [
        "name + name"
      ],
      "metadata": {
        "colab": {
          "base_uri": "https://localhost:8080/",
          "height": 35
        },
        "id": "d0EGjW-oo2m3",
        "outputId": "843ec4f7-b6c0-4f56-d6eb-c3494dec4ecd"
      },
      "execution_count": null,
      "outputs": [
        {
          "output_type": "execute_result",
          "data": {
            "text/plain": [
              "'hojunhojun'"
            ],
            "application/vnd.google.colaboratory.intrinsic+json": {
              "type": "string"
            }
          },
          "metadata": {},
          "execution_count": 18
        }
      ]
    },
    {
      "cell_type": "code",
      "source": [
        "age + age"
      ],
      "metadata": {
        "colab": {
          "base_uri": "https://localhost:8080/"
        },
        "id": "FoSYFAUNpOys",
        "outputId": "ca73258d-7e14-4c09-c2eb-639b5d1eba3c"
      },
      "execution_count": null,
      "outputs": [
        {
          "output_type": "execute_result",
          "data": {
            "text/plain": [
              "20"
            ]
          },
          "metadata": {},
          "execution_count": 19
        }
      ]
    },
    {
      "cell_type": "code",
      "source": [
        "# 컴퓨터 입장에서는 두개 모두 2진수"
      ],
      "metadata": {
        "id": "ybRLhXSFpQUM"
      },
      "execution_count": null,
      "outputs": []
    },
    {
      "cell_type": "code",
      "source": [
        "print(type(name))\n",
        "print(dir(name))"
      ],
      "metadata": {
        "colab": {
          "base_uri": "https://localhost:8080/"
        },
        "id": "pCWJF8iqqKXb",
        "outputId": "1262591b-b710-4ba8-cd89-0cd6c569ef61"
      },
      "execution_count": null,
      "outputs": [
        {
          "output_type": "stream",
          "name": "stdout",
          "text": [
            "<class 'str'>\n",
            "['__add__', '__class__', '__contains__', '__delattr__', '__dir__', '__doc__', '__eq__', '__format__', '__ge__', '__getattribute__', '__getitem__', '__getnewargs__', '__gt__', '__hash__', '__init__', '__init_subclass__', '__iter__', '__le__', '__len__', '__lt__', '__mod__', '__mul__', '__ne__', '__new__', '__reduce__', '__reduce_ex__', '__repr__', '__rmod__', '__rmul__', '__setattr__', '__sizeof__', '__str__', '__subclasshook__', 'capitalize', 'casefold', 'center', 'count', 'encode', 'endswith', 'expandtabs', 'find', 'format', 'format_map', 'index', 'isalnum', 'isalpha', 'isascii', 'isdecimal', 'isdigit', 'isidentifier', 'islower', 'isnumeric', 'isprintable', 'isspace', 'istitle', 'isupper', 'join', 'ljust', 'lower', 'lstrip', 'maketrans', 'partition', 'removeprefix', 'removesuffix', 'replace', 'rfind', 'rindex', 'rjust', 'rpartition', 'rsplit', 'rstrip', 'split', 'splitlines', 'startswith', 'strip', 'swapcase', 'title', 'translate', 'upper', 'zfill']\n"
          ]
        }
      ]
    },
    {
      "cell_type": "code",
      "source": [
        "name.upper()"
      ],
      "metadata": {
        "colab": {
          "base_uri": "https://localhost:8080/",
          "height": 35
        },
        "id": "MZMkB7vVqTWf",
        "outputId": "ff6e1b0d-c29c-457c-f397-1988e4fad807"
      },
      "execution_count": null,
      "outputs": [
        {
          "output_type": "execute_result",
          "data": {
            "text/plain": [
              "'HOJUN'"
            ],
            "application/vnd.google.colaboratory.intrinsic+json": {
              "type": "string"
            }
          },
          "metadata": {},
          "execution_count": 22
        }
      ]
    },
    {
      "cell_type": "code",
      "source": [
        "0.1 * 3"
      ],
      "metadata": {
        "colab": {
          "base_uri": "https://localhost:8080/"
        },
        "id": "g4LxAJywrxTG",
        "outputId": "b0dd53b0-36d3-42c9-c10e-4efa4efe2100"
      },
      "execution_count": null,
      "outputs": [
        {
          "output_type": "execute_result",
          "data": {
            "text/plain": [
              "0.30000000000000004"
            ]
          },
          "metadata": {},
          "execution_count": 1
        }
      ]
    },
    {
      "cell_type": "code",
      "source": [
        "f = 10.1\n",
        "type(f)"
      ],
      "metadata": {
        "colab": {
          "base_uri": "https://localhost:8080/"
        },
        "id": "TrstOrD1tSrV",
        "outputId": "15c4fc12-7ee4-4673-8cab-2f7f62a57177"
      },
      "execution_count": null,
      "outputs": [
        {
          "output_type": "execute_result",
          "data": {
            "text/plain": [
              "float"
            ]
          },
          "metadata": {},
          "execution_count": 2
        }
      ]
    },
    {
      "cell_type": "code",
      "source": [],
      "metadata": {
        "id": "Z8enKrHeth-O"
      },
      "execution_count": null,
      "outputs": []
    },
    {
      "cell_type": "code",
      "source": [
        "a = 10      # int, 정수형\n",
        "b = -1      # int, 정수형\n",
        "c = 0b110   # int, 정수형(2진법)\n",
        "#0 1 10\n",
        "d = 0o56    # int, 정수형(8진법)\n",
        "# 0 1 2 3 4 5 6 7 10\n",
        "e = 0xAC    # int, 정수형(16진법)\n",
        "# 0 1 2 3 4 5 6 7 8 9 a b c d e f 10\n",
        "\n",
        "f = 10.1    # float, 실수형\n",
        "\n",
        "g = 10 + 2j # complex, 복소수\n",
        "\n",
        "h = 'good'  # str, 문자열\n",
        "i = '10'    # str, 문자열\n",
        "\n",
        "j = True    # bool, 논리 자료형(부울형)\n",
        "\n",
        "k = None    # NoneType\n",
        "\n",
        "l = [1, 2, 3, 4]       # list, 리스트 자료형\n",
        "m = ['one', 'two']     # list, 리스트 자료형\n",
        "n = (1, 2, 3, 4)       # tuple, 튜플 자료형\n",
        "o = ('one', 'two')     # tuple, 튜플 자료형\n",
        "p = {'one':1, 'two':2} # dict, 딕셔너리 자료형\n",
        "q = {1, 2, 3, 4}       # set, 셋 자료형\n",
        "\n",
        "def r():    # function, 함수\n",
        "    return\n",
        "\n",
        "s = print # bulit-in function\n",
        "t = lambda x:x**2 # function\n",
        "u = int # type\n",
        "\n",
        "class Character: # class, 클래스\n",
        "    pass\n",
        "\n",
        "hero = Character()    # instance\n",
        "Villain = Character() # instance"
      ],
      "metadata": {
        "id": "eRO2RPKZq1vW"
      },
      "execution_count": null,
      "outputs": []
    },
    {
      "cell_type": "markdown",
      "source": [
        "# 정수 자료형"
      ],
      "metadata": {
        "id": "TvCbI0Jyuvmt"
      }
    },
    {
      "cell_type": "code",
      "source": [
        "x = 10\n",
        "y = 3\n",
        "\n",
        "print(x + y)\n",
        "print(x - y)\n",
        "print(x / y) # float, 실수형으로 반환\n",
        "print(x // y) # int, 정수형으로 반환\n",
        "print(-10 // 3) # 음수를 나눌 때 내림이라는 사실을 기억해주세요.\n",
        "print(x * y)\n",
        "print(x ** y)\n",
        "print(4 ** 0.5) # 제곱근, 이렇게 많이 사용합니다.\n",
        "print(x % y)# 나머지, 몫이 3이고 나머지가 1입니다. 1을 출력합니다.\n",
        "\n"
      ],
      "metadata": {
        "colab": {
          "base_uri": "https://localhost:8080/"
        },
        "id": "kxiYr21gu4_C",
        "outputId": "6dfa1a86-ce4e-4d10-a3cc-5c0fbddbf0df"
      },
      "execution_count": null,
      "outputs": [
        {
          "output_type": "stream",
          "name": "stdout",
          "text": [
            "13\n",
            "7\n",
            "3.3333333333333335\n",
            "3\n",
            "-4\n",
            "30\n",
            "1000\n",
            "2.0\n",
            "1\n"
          ]
        }
      ]
    },
    {
      "cell_type": "code",
      "source": [
        "bin(10) # ' ' 주의"
      ],
      "metadata": {
        "colab": {
          "base_uri": "https://localhost:8080/",
          "height": 35
        },
        "id": "clhikOAxwmAM",
        "outputId": "769b9b06-0079-4f85-9b5b-34acf2b99f46"
      },
      "execution_count": null,
      "outputs": [
        {
          "output_type": "execute_result",
          "data": {
            "text/plain": [
              "'0b1010'"
            ],
            "application/vnd.google.colaboratory.intrinsic+json": {
              "type": "string"
            }
          },
          "metadata": {},
          "execution_count": 4
        }
      ]
    },
    {
      "cell_type": "code",
      "source": [
        "int('0b1010', 2)"
      ],
      "metadata": {
        "colab": {
          "base_uri": "https://localhost:8080/"
        },
        "id": "xMA3WVt2wply",
        "outputId": "aca47b56-606f-45dd-a184-ac866f859588"
      },
      "execution_count": null,
      "outputs": [
        {
          "output_type": "execute_result",
          "data": {
            "text/plain": [
              "10"
            ]
          },
          "metadata": {},
          "execution_count": 5
        }
      ]
    },
    {
      "cell_type": "markdown",
      "source": [
        "# 실수"
      ],
      "metadata": {
        "id": "FJefnXYG3EuG"
      }
    },
    {
      "cell_type": "code",
      "source": [
        "10.0 - 2 # 실수 - 정수하면?"
      ],
      "metadata": {
        "colab": {
          "base_uri": "https://localhost:8080/"
        },
        "id": "ZdfiLw1HxD__",
        "outputId": "aff65b62-e269-4c37-c68d-4335530201c1"
      },
      "execution_count": null,
      "outputs": [
        {
          "output_type": "execute_result",
          "data": {
            "text/plain": [
              "8.0"
            ]
          },
          "metadata": {},
          "execution_count": 6
        }
      ]
    },
    {
      "cell_type": "code",
      "source": [
        "10 -2.0 # 정수 - 실수하면?"
      ],
      "metadata": {
        "colab": {
          "base_uri": "https://localhost:8080/"
        },
        "id": "jcPGvh7e3YCb",
        "outputId": "ff057322-9a47-4947-dc3f-f66f8a2b81f2"
      },
      "execution_count": null,
      "outputs": [
        {
          "output_type": "execute_result",
          "data": {
            "text/plain": [
              "8.0"
            ]
          },
          "metadata": {},
          "execution_count": 7
        }
      ]
    },
    {
      "cell_type": "code",
      "source": [
        "float(\"inf\") > 10"
      ],
      "metadata": {
        "colab": {
          "base_uri": "https://localhost:8080/"
        },
        "id": "jOJ0gyHD3byE",
        "outputId": "9b123034-961b-4896-be9f-ee45cc4a759f"
      },
      "execution_count": null,
      "outputs": [
        {
          "output_type": "execute_result",
          "data": {
            "text/plain": [
              "True"
            ]
          },
          "metadata": {},
          "execution_count": 8
        }
      ]
    },
    {
      "cell_type": "code",
      "source": [
        "-float(\"inf\") < 10"
      ],
      "metadata": {
        "colab": {
          "base_uri": "https://localhost:8080/"
        },
        "id": "l9lN8YB73rEj",
        "outputId": "88aebf0b-6e42-4f3d-9214-b414f2449a32"
      },
      "execution_count": null,
      "outputs": [
        {
          "output_type": "execute_result",
          "data": {
            "text/plain": [
              "True"
            ]
          },
          "metadata": {},
          "execution_count": 10
        }
      ]
    },
    {
      "cell_type": "code",
      "source": [
        "float(\"inf\") * 2\n",
        "float(\"inf\") + 2\n",
        "float(\"inf\") / 2"
      ],
      "metadata": {
        "colab": {
          "base_uri": "https://localhost:8080/"
        },
        "id": "ObW-g2wW3tt1",
        "outputId": "884f4e20-483e-461f-86b6-b5b2cef92603"
      },
      "execution_count": null,
      "outputs": [
        {
          "output_type": "execute_result",
          "data": {
            "text/plain": [
              "inf"
            ]
          },
          "metadata": {},
          "execution_count": 11
        }
      ]
    },
    {
      "cell_type": "code",
      "source": [
        "float(\"-inf\")\n",
        "-float(\"inf\")\n"
      ],
      "metadata": {
        "colab": {
          "base_uri": "https://localhost:8080/"
        },
        "id": "kiqooSQz38zg",
        "outputId": "d53db3fb-7739-4404-c3f6-da9b900d402c"
      },
      "execution_count": null,
      "outputs": [
        {
          "output_type": "execute_result",
          "data": {
            "text/plain": [
              "-inf"
            ]
          },
          "metadata": {},
          "execution_count": 13
        }
      ]
    },
    {
      "cell_type": "markdown",
      "source": [
        "# 문자열"
      ],
      "metadata": {
        "id": "p0uQmh_G4lag"
      }
    },
    {
      "cell_type": "code",
      "source": [
        "a = 'hello'\n",
        "b = \"hello\""
      ],
      "metadata": {
        "id": "qbxHwWL34AAy"
      },
      "execution_count": null,
      "outputs": []
    },
    {
      "cell_type": "code",
      "source": [
        "a[0] #0을 index라고 부릅니다. 이렇게 값을 호출하는 것을 indexing이라고 합니다."
      ],
      "metadata": {
        "colab": {
          "base_uri": "https://localhost:8080/",
          "height": 35
        },
        "id": "GlL5u1C-46pz",
        "outputId": "a4a345a1-e184-4121-add5-c75277856e7e"
      },
      "execution_count": null,
      "outputs": [
        {
          "output_type": "execute_result",
          "data": {
            "text/plain": [
              "'h'"
            ],
            "application/vnd.google.colaboratory.intrinsic+json": {
              "type": "string"
            }
          },
          "metadata": {},
          "execution_count": 16
        }
      ]
    },
    {
      "cell_type": "code",
      "source": [
        "a[-1] # 실제로 연산될 때에는 음수를 양수로 전환한 후에 연산이 이뤄집니다.\n",
        "# a[-1]는 a[4]와 같습니다."
      ],
      "metadata": {
        "colab": {
          "base_uri": "https://localhost:8080/",
          "height": 35
        },
        "id": "3iwPpUVa55Zj",
        "outputId": "9cad6eb0-0e13-4398-ae59-00155f175d9c"
      },
      "execution_count": null,
      "outputs": [
        {
          "output_type": "execute_result",
          "data": {
            "text/plain": [
              "'o'"
            ],
            "application/vnd.google.colaboratory.intrinsic+json": {
              "type": "string"
            }
          },
          "metadata": {},
          "execution_count": 17
        }
      ]
    },
    {
      "cell_type": "code",
      "source": [
        "a[100] # 에러명 외워라 자주 봄"
      ],
      "metadata": {
        "colab": {
          "base_uri": "https://localhost:8080/",
          "height": 147
        },
        "id": "7HYRIoQ26a0_",
        "outputId": "bd058b65-a8c7-4d1a-dd56-922eca56e3c2"
      },
      "execution_count": null,
      "outputs": [
        {
          "output_type": "error",
          "ename": "IndexError",
          "evalue": "string index out of range",
          "traceback": [
            "\u001b[0;31m---------------------------------------------------------------------------\u001b[0m",
            "\u001b[0;31mIndexError\u001b[0m                                Traceback (most recent call last)",
            "\u001b[0;32m<ipython-input-19-cd7724b6c85f>\u001b[0m in \u001b[0;36m<cell line: 1>\u001b[0;34m()\u001b[0m\n\u001b[0;32m----> 1\u001b[0;31m \u001b[0ma\u001b[0m\u001b[0;34m[\u001b[0m\u001b[0;36m100\u001b[0m\u001b[0;34m]\u001b[0m\u001b[0;34m\u001b[0m\u001b[0;34m\u001b[0m\u001b[0m\n\u001b[0m",
            "\u001b[0;31mIndexError\u001b[0m: string index out of range"
          ]
        }
      ]
    },
    {
      "cell_type": "code",
      "source": [
        "(a[0] + a[4]) * 2"
      ],
      "metadata": {
        "colab": {
          "base_uri": "https://localhost:8080/",
          "height": 35
        },
        "id": "0nQ_HGFz5Wv3",
        "outputId": "5e0ff1ab-c1f7-4c8f-a05d-dff796d86a3e"
      },
      "execution_count": null,
      "outputs": [
        {
          "output_type": "execute_result",
          "data": {
            "text/plain": [
              "'hoho'"
            ],
            "application/vnd.google.colaboratory.intrinsic+json": {
              "type": "string"
            }
          },
          "metadata": {},
          "execution_count": 18
        }
      ]
    },
    {
      "cell_type": "code",
      "source": [
        "s = 'hello world' # 시험문제\n",
        "s[0] + s[1] + s[2] + s[3] + s[4]"
      ],
      "metadata": {
        "id": "MeiZbmxF6sVQ"
      },
      "execution_count": null,
      "outputs": []
    },
    {
      "cell_type": "code",
      "source": [
        "# 위 처럼 어디서부터 어디까지의 문자열을 잘라내고 싶을 때\n",
        "# 슬라이싱을 사용할 수 있습니다.\n",
        "# 변수명[start:stop:step]\n",
        "s = 'hello world' # step 생략가능\n",
        "s[0:5]\n",
        "s[6:-1]\n",
        "s[6:0]\n",
        "s[6:10]\n",
        "s[6:11] # world\n",
        "s[6:12] # world\n",
        "s[6:13] # world\n",
        "# 슬라이싱은 범위가 벗어나더라도 에러가 나지 않습니다.\n",
        "s[6:] # 보통 마지막까지면 stop은 생략합니다.\n",
        "s[:] # 처음부터 마지막까지라는 얘기입니다.\n",
        "s[:5] # hello\n",
        "s[::2] # 이런 코드는 실무에서 자주 사용 안 함\n",
        "s[::-1] # 역순 출력 이 코드는 많이 사용\n",
        " # 이렇게 거의 사용 안 함\n"
      ],
      "metadata": {
        "colab": {
          "base_uri": "https://localhost:8080/",
          "height": 35
        },
        "id": "mh8iotQv7GIr",
        "outputId": "8a48c55a-643a-4e22-cc1d-e1c451439699"
      },
      "execution_count": null,
      "outputs": [
        {
          "output_type": "execute_result",
          "data": {
            "text/plain": [
              "'dlrow olleh'"
            ],
            "application/vnd.google.colaboratory.intrinsic+json": {
              "type": "string"
            }
          },
          "metadata": {},
          "execution_count": 27
        }
      ]
    },
    {
      "cell_type": "code",
      "source": [
        "#연습문제\n",
        "# a.jpg, abc.png, abcd.mp4 이러한 값들이 들어왔을 때\n",
        "# 확장자를 알아내는 코드를 작성하세요.\n",
        "# 단, 확장자는 3자리로 고정합니다. (jpg, png, mp4 등)\n",
        "\n",
        "s = 'hello.jpg' # 슬라이싱을 이용해 확장자를 구하시오\n",
        "\n",
        "s[-3:]"
      ],
      "metadata": {
        "colab": {
          "base_uri": "https://localhost:8080/",
          "height": 35
        },
        "id": "gbqKQBTr9kK-",
        "outputId": "d23f8697-9e60-4379-ef29-31b24b3d8891"
      },
      "execution_count": null,
      "outputs": [
        {
          "output_type": "execute_result",
          "data": {
            "text/plain": [
              "'jpg'"
            ],
            "application/vnd.google.colaboratory.intrinsic+json": {
              "type": "string"
            }
          },
          "metadata": {},
          "execution_count": 28
        }
      ]
    },
    {
      "cell_type": "code",
      "source": [
        "def solution(data):\n",
        "    return data[-3:0]\n",
        "for i in ['a.jpg']"
      ],
      "metadata": {
        "id": "4gaEc3IG_vrh"
      },
      "execution_count": null,
      "outputs": []
    },
    {
      "cell_type": "code",
      "source": [
        "s = 'hello world'\n",
        "\n",
        "s.upper()"
      ],
      "metadata": {
        "colab": {
          "base_uri": "https://localhost:8080/",
          "height": 35
        },
        "id": "f6sp512CBO3x",
        "outputId": "a372efd4-0dec-4229-d1a3-a92ac6a1ba7f"
      },
      "execution_count": null,
      "outputs": [
        {
          "output_type": "execute_result",
          "data": {
            "text/plain": [
              "'HELLO WORLD'"
            ],
            "application/vnd.google.colaboratory.intrinsic+json": {
              "type": "string"
            }
          },
          "metadata": {},
          "execution_count": 31
        }
      ]
    },
    {
      "cell_type": "code",
      "source": [
        "s.lower()"
      ],
      "metadata": {
        "id": "xhRgmiTBBikK",
        "outputId": "e1bfbfb7-7b95-4d5b-f7db-d89236fe2e00",
        "colab": {
          "base_uri": "https://localhost:8080/",
          "height": 35
        }
      },
      "execution_count": null,
      "outputs": [
        {
          "output_type": "execute_result",
          "data": {
            "text/plain": [
              "'hello world'"
            ],
            "application/vnd.google.colaboratory.intrinsic+json": {
              "type": "string"
            }
          },
          "metadata": {},
          "execution_count": 32
        }
      ]
    },
    {
      "cell_type": "code",
      "source": [
        "# 문자열 메서드\n",
        "s = 'hello'\n",
        "dir(s)"
      ],
      "metadata": {
        "colab": {
          "base_uri": "https://localhost:8080/"
        },
        "id": "InGtELZuAaI1",
        "outputId": "2992583a-f2c2-487c-cb37-84dea3cd88ca"
      },
      "execution_count": null,
      "outputs": [
        {
          "output_type": "execute_result",
          "data": {
            "text/plain": [
              "['__add__',\n",
              " '__class__',\n",
              " '__contains__',\n",
              " '__delattr__',\n",
              " '__dir__',\n",
              " '__doc__',\n",
              " '__eq__',\n",
              " '__format__',\n",
              " '__ge__',\n",
              " '__getattribute__',\n",
              " '__getitem__',\n",
              " '__getnewargs__',\n",
              " '__gt__',\n",
              " '__hash__',\n",
              " '__init__',\n",
              " '__init_subclass__',\n",
              " '__iter__',\n",
              " '__le__',\n",
              " '__len__',\n",
              " '__lt__',\n",
              " '__mod__',\n",
              " '__mul__',\n",
              " '__ne__',\n",
              " '__new__',\n",
              " '__reduce__',\n",
              " '__reduce_ex__',\n",
              " '__repr__',\n",
              " '__rmod__',\n",
              " '__rmul__',\n",
              " '__setattr__',\n",
              " '__sizeof__',\n",
              " '__str__',\n",
              " '__subclasshook__',\n",
              " 'capitalize',\n",
              " 'casefold',\n",
              " 'center',\n",
              " 'count',\n",
              " 'encode',\n",
              " 'endswith',\n",
              " 'expandtabs',\n",
              " 'find',\n",
              " 'format',\n",
              " 'format_map',\n",
              " 'index',\n",
              " 'isalnum',\n",
              " 'isalpha',\n",
              " 'isascii',\n",
              " 'isdecimal',\n",
              " 'isdigit',\n",
              " 'isidentifier',\n",
              " 'islower',\n",
              " 'isnumeric',\n",
              " 'isprintable',\n",
              " 'isspace',\n",
              " 'istitle',\n",
              " 'isupper',\n",
              " 'join',\n",
              " 'ljust',\n",
              " 'lower',\n",
              " 'lstrip',\n",
              " 'maketrans',\n",
              " 'partition',\n",
              " 'removeprefix',\n",
              " 'removesuffix',\n",
              " 'replace',\n",
              " 'rfind',\n",
              " 'rindex',\n",
              " 'rjust',\n",
              " 'rpartition',\n",
              " 'rsplit',\n",
              " 'rstrip',\n",
              " 'split',\n",
              " 'splitlines',\n",
              " 'startswith',\n",
              " 'strip',\n",
              " 'swapcase',\n",
              " 'title',\n",
              " 'translate',\n",
              " 'upper',\n",
              " 'zfill']"
            ]
          },
          "metadata": {},
          "execution_count": 30
        }
      ]
    },
    {
      "cell_type": "code",
      "source": [
        "# 필수로 알아야 하는 메서드 목록\n",
        "# count\n",
        "# find\n",
        "# index\n",
        "# format\n",
        "# isdigit\n",
        "# join\n",
        "# replace\n",
        "# split\n",
        "# strip\n",
        "# zfill"
      ],
      "metadata": {
        "id": "5d-_YnIXBN8h"
      },
      "execution_count": null,
      "outputs": []
    },
    {
      "cell_type": "code",
      "source": [
        "# count\n",
        "'112233344'.count('1')\n",
        "# '123123'.count(1)\n",
        "\n",
        "# 모르셔도 됩니다.\n",
        "\n",
        "l = [1, 2, 3, 4, 5, 6, 7, 8, 9, 10, 11, 12]\n",
        "str(l).count('1')\n",
        "\n",
        "str(list(range(10000))).count('8')"
      ],
      "metadata": {
        "colab": {
          "base_uri": "https://localhost:8080/"
        },
        "id": "ci0ucMAXblO5",
        "outputId": "8621e504-dde4-4083-bbd7-03b86330bce0"
      },
      "execution_count": null,
      "outputs": [
        {
          "output_type": "execute_result",
          "data": {
            "text/plain": [
              "4000"
            ]
          },
          "metadata": {},
          "execution_count": 2
        }
      ]
    },
    {
      "cell_type": "code",
      "source": [
        "'hello world hello'.find('world')\n",
        "'hello world hello'.find('hi')\n",
        "\n",
        "# 나아가기\n",
        "s = 'abcde'\n",
        "if s.find('hi'):\n",
        "    print(s[s.find('hi')], '찾았다!')\n"
      ],
      "metadata": {
        "colab": {
          "base_uri": "https://localhost:8080/"
        },
        "id": "9KzwDQB_egJa",
        "outputId": "a4a95626-0011-4bc3-dd80-15f06027db1f"
      },
      "execution_count": null,
      "outputs": [
        {
          "output_type": "execute_result",
          "data": {
            "text/plain": [
              "-1"
            ]
          },
          "metadata": {},
          "execution_count": 4
        }
      ]
    },
    {
      "cell_type": "code",
      "source": [
        "'hello world hello'.index('world')\n",
        "'hello world hello'.index('hi')"
      ],
      "metadata": {
        "colab": {
          "base_uri": "https://localhost:8080/",
          "height": 166
        },
        "id": "R_NoJwA9e4L2",
        "outputId": "7d41c8b1-e32c-4832-ba02-96c01a02ff70"
      },
      "execution_count": null,
      "outputs": [
        {
          "output_type": "error",
          "ename": "ValueError",
          "evalue": "substring not found",
          "traceback": [
            "\u001b[0;31m---------------------------------------------------------------------------\u001b[0m",
            "\u001b[0;31mValueError\u001b[0m                                Traceback (most recent call last)",
            "\u001b[0;32m<ipython-input-6-71d9712f0178>\u001b[0m in \u001b[0;36m<cell line: 2>\u001b[0;34m()\u001b[0m\n\u001b[1;32m      1\u001b[0m \u001b[0;34m'hello world hello'\u001b[0m\u001b[0;34m.\u001b[0m\u001b[0mindex\u001b[0m\u001b[0;34m(\u001b[0m\u001b[0;34m'world'\u001b[0m\u001b[0;34m)\u001b[0m\u001b[0;34m\u001b[0m\u001b[0;34m\u001b[0m\u001b[0m\n\u001b[0;32m----> 2\u001b[0;31m \u001b[0;34m'hello world hello'\u001b[0m\u001b[0;34m.\u001b[0m\u001b[0mindex\u001b[0m\u001b[0;34m(\u001b[0m\u001b[0;34m'hi'\u001b[0m\u001b[0;34m)\u001b[0m\u001b[0;34m\u001b[0m\u001b[0;34m\u001b[0m\u001b[0m\n\u001b[0m",
            "\u001b[0;31mValueError\u001b[0m: substring not found"
          ]
        }
      ]
    },
    {
      "cell_type": "code",
      "source": [
        "'제 이름은 이호준 입니다. 제 나이는 10살 입니다.'\n",
        "\n",
        "# name = '이호준'\n",
        "name = '홍길동'\n",
        "age = 10\n",
        "\n",
        "'제 이름은 {} 입니다. 제 나이는 {}살 입니다.'.format(name, age)\n",
        "'제 이름은 {0} 입니다. 제 나이는 {0}살 입니다.'.format(name, age)\n",
        "'제 이름은 {1} 입니다. 제 나이는 {1}살 입니다.'.format(name, age)\n",
        "\n"
      ],
      "metadata": {
        "colab": {
          "base_uri": "https://localhost:8080/",
          "height": 35
        },
        "id": "LfHNXhOZgc27",
        "outputId": "7013d9fb-d58b-4417-e689-08113857c23a"
      },
      "execution_count": null,
      "outputs": [
        {
          "output_type": "execute_result",
          "data": {
            "text/plain": [
              "'제 이름은 10 입니다. 제 나이는 10살 입니다.'"
            ],
            "application/vnd.google.colaboratory.intrinsic+json": {
              "type": "string"
            }
          },
          "metadata": {},
          "execution_count": 9
        }
      ]
    },
    {
      "cell_type": "code",
      "source": [
        "# f-string 용법(3.6에서 나온 문법입니다.)\n",
        "\n",
        "f'제 이름은 {name} 입니다. 제 나이는 {age}입니다.'"
      ],
      "metadata": {
        "colab": {
          "base_uri": "https://localhost:8080/",
          "height": 35
        },
        "id": "nCR3TVLeh4hk",
        "outputId": "07816b78-15d9-4486-b67d-e194cb4e655a"
      },
      "execution_count": null,
      "outputs": [
        {
          "output_type": "execute_result",
          "data": {
            "text/plain": [
              "'제 이름은 홍길동 입니다. 제 나이는 10입니다.'"
            ],
            "application/vnd.google.colaboratory.intrinsic+json": {
              "type": "string"
            }
          },
          "metadata": {},
          "execution_count": 11
        }
      ]
    },
    {
      "cell_type": "code",
      "source": [
        "'123'.insdigit()\n",
        "'12a3'.insdigit()\n",
        "\n",
        "# int('123')\n",
        "# int('12a3')"
      ],
      "metadata": {
        "id": "D8LHasstlkJM"
      },
      "execution_count": null,
      "outputs": []
    },
    {
      "cell_type": "code",
      "source": [
        "'!'.join(['010', '5044', '2903'])\n",
        "'-'.join(['010', '5044', '2903'])\n",
        "# 나아가기\n",
        "# '.'.join('hello') # join(순회 가능한 객체)\n"
      ],
      "metadata": {
        "colab": {
          "base_uri": "https://localhost:8080/",
          "height": 35
        },
        "id": "rBzr6vsbl2_N",
        "outputId": "1bcd08c6-1e1f-4d64-f925-e2a0a200b8e7"
      },
      "execution_count": null,
      "outputs": [
        {
          "output_type": "execute_result",
          "data": {
            "text/plain": [
              "'010-5044-2903'"
            ],
            "application/vnd.google.colaboratory.intrinsic+json": {
              "type": "string"
            }
          },
          "metadata": {},
          "execution_count": 12
        }
      ]
    },
    {
      "cell_type": "code",
      "source": [
        "'010.5044.2903'.split('.')"
      ],
      "metadata": {
        "colab": {
          "base_uri": "https://localhost:8080/"
        },
        "id": "V_ckSRqqmk1W",
        "outputId": "665e44c4-7d82-42ec-b80e-f9131fe82ad9"
      },
      "execution_count": null,
      "outputs": [
        {
          "output_type": "execute_result",
          "data": {
            "text/plain": [
              "['010', '5044', '2903']"
            ]
          },
          "metadata": {},
          "execution_count": 13
        }
      ]
    },
    {
      "cell_type": "code",
      "source": [
        "# 나아가기\n",
        "'-'.join('010.5044.2903'.split('.'))"
      ],
      "metadata": {
        "colab": {
          "base_uri": "https://localhost:8080/",
          "height": 35
        },
        "id": "xSN8tqcinCkl",
        "outputId": "7756d870-4398-4233-c62b-dccb45ec4eaf"
      },
      "execution_count": null,
      "outputs": [
        {
          "output_type": "execute_result",
          "data": {
            "text/plain": [
              "'010-5044-2903'"
            ],
            "application/vnd.google.colaboratory.intrinsic+json": {
              "type": "string"
            }
          },
          "metadata": {},
          "execution_count": 14
        }
      ]
    },
    {
      "cell_type": "code",
      "source": [
        "'hello world'.replace('hello', 'hi')\n",
        "''.replace('hello', 'hi')\n"
      ],
      "metadata": {
        "colab": {
          "base_uri": "https://localhost:8080/",
          "height": 35
        },
        "id": "8X-PDzLMnWh1",
        "outputId": "8b9bce59-ec12-4e24-83a4-ed21ffa7d793"
      },
      "execution_count": null,
      "outputs": [
        {
          "output_type": "execute_result",
          "data": {
            "text/plain": [
              "'hi world'"
            ],
            "application/vnd.google.colaboratory.intrinsic+json": {
              "type": "string"
            }
          },
          "metadata": {},
          "execution_count": 15
        }
      ]
    },
    {
      "cell_type": "code",
      "source": [
        "# 1은 #으로 바꾸고 0은 공백으로 바꾸세요!\n",
        "text = '101010'.replace('1', '#')\n",
        "text = text.replace('0', ' ')\n",
        "text"
      ],
      "metadata": {
        "colab": {
          "base_uri": "https://localhost:8080/",
          "height": 35
        },
        "id": "dw9PsbGUn4xN",
        "outputId": "9424238f-caee-448f-a5f3-b759431877c3"
      },
      "execution_count": null,
      "outputs": [
        {
          "output_type": "execute_result",
          "data": {
            "text/plain": [
              "'# # # '"
            ],
            "application/vnd.google.colaboratory.intrinsic+json": {
              "type": "string"
            }
          },
          "metadata": {},
          "execution_count": 17
        }
      ]
    },
    {
      "cell_type": "code",
      "source": [
        "# 보통 메서드 체이닝을 사용합니다.\n",
        "'101010'.replace('1', '#').replace('0', ' ')\n",
        "'101010'.replace('1', '#')"
      ],
      "metadata": {
        "colab": {
          "base_uri": "https://localhost:8080/",
          "height": 35
        },
        "id": "EdpHvi59oQNm",
        "outputId": "bbdb9cd3-0a2e-44ac-cd5c-8a8f16faaf9e"
      },
      "execution_count": null,
      "outputs": [
        {
          "output_type": "execute_result",
          "data": {
            "text/plain": [
              "'#0#0#0'"
            ],
            "application/vnd.google.colaboratory.intrinsic+json": {
              "type": "string"
            }
          },
          "metadata": {},
          "execution_count": 19
        }
      ]
    },
    {
      "cell_type": "code",
      "source": [
        "# strip\n",
        "'      hello        '\n",
        "'      hello        '.strip()\n",
        "'      hello world        '.strip()\n",
        "'      hello world        '.replace(' ', '')\n",
        "\n",
        "# 공백을 제거하는 용도로 replace를 사용하지 마세요."
      ],
      "metadata": {
        "colab": {
          "base_uri": "https://localhost:8080/",
          "height": 35
        },
        "id": "UpenCsmMpFe_",
        "outputId": "ad7a7d61-8d17-4e3c-ea7d-a93db1f087af"
      },
      "execution_count": null,
      "outputs": [
        {
          "output_type": "execute_result",
          "data": {
            "text/plain": [
              "'hello world'"
            ],
            "application/vnd.google.colaboratory.intrinsic+json": {
              "type": "string"
            }
          },
          "metadata": {},
          "execution_count": 20
        }
      ]
    },
    {
      "cell_type": "code",
      "source": [
        "'3'.zfill(10) # 숫자나 날짜 표기할 때 많이 사용합니다."
      ],
      "metadata": {
        "colab": {
          "base_uri": "https://localhost:8080/",
          "height": 35
        },
        "id": "jd_zIiDep1oU",
        "outputId": "cb3de367-8fa7-4c88-ab04-afca1d99eb68"
      },
      "execution_count": null,
      "outputs": [
        {
          "output_type": "execute_result",
          "data": {
            "text/plain": [
              "'0000000003'"
            ],
            "application/vnd.google.colaboratory.intrinsic+json": {
              "type": "string"
            }
          },
          "metadata": {},
          "execution_count": 21
        }
      ]
    },
    {
      "cell_type": "code",
      "source": [
        "# 문제1 '24/03/18' 이렇게 되어 있는 문자를 '24-03-18'로 바꿔 주세요\n",
        "\n",
        "'24/3/18'.replace('/', '-').replace('3', '3'.zfill(2))\n",
        "# 좋은 정답은 아닙니다. 나중에 리스트도 배우고, 반복문도 배우면 좋은 정답을 사용하실 수 잇습니다.\n",
        "'24/3/31'.replace('/', '-').replace('3', '3'.zfill(2))\n",
        "# 이러한 경우가 잇어 좋은 정답은 아닙니다."
      ],
      "metadata": {
        "colab": {
          "base_uri": "https://localhost:8080/",
          "height": 35
        },
        "id": "KGww6ihiqFSn",
        "outputId": "1b307cb1-4e6e-49dc-b8aa-be7b078c73a3"
      },
      "execution_count": null,
      "outputs": [
        {
          "output_type": "execute_result",
          "data": {
            "text/plain": [
              "'24-03-031'"
            ],
            "application/vnd.google.colaboratory.intrinsic+json": {
              "type": "string"
            }
          },
          "metadata": {},
          "execution_count": 23
        }
      ]
    },
    {
      "cell_type": "markdown",
      "source": [
        "논리 자료형"
      ],
      "metadata": {
        "id": "TNf0Lqd2sb66"
      }
    },
    {
      "cell_type": "code",
      "source": [
        "True\n",
        "False\n",
        "type(True)"
      ],
      "metadata": {
        "colab": {
          "base_uri": "https://localhost:8080/"
        },
        "id": "o5lhh_T0rT2Q",
        "outputId": "e7155504-d88d-429b-a157-abde64dbd3be"
      },
      "execution_count": null,
      "outputs": [
        {
          "output_type": "execute_result",
          "data": {
            "text/plain": [
              "bool"
            ]
          },
          "metadata": {},
          "execution_count": 24
        }
      ]
    },
    {
      "cell_type": "code",
      "source": [
        "# 형변환\n",
        "int('10')\n",
        "int(10.1)\n",
        "\n",
        "type(10)"
      ],
      "metadata": {
        "colab": {
          "base_uri": "https://localhost:8080/"
        },
        "id": "q0A4VXo2snQf",
        "outputId": "6aa6811f-d51e-417c-a563-3a59633d9b61"
      },
      "execution_count": null,
      "outputs": [
        {
          "output_type": "execute_result",
          "data": {
            "text/plain": [
              "int"
            ]
          },
          "metadata": {},
          "execution_count": 28
        }
      ]
    },
    {
      "cell_type": "code",
      "source": [
        "True == 1"
      ],
      "metadata": {
        "colab": {
          "base_uri": "https://localhost:8080/"
        },
        "id": "oShYAfOxszsY",
        "outputId": "68211305-8967-4fe7-88ef-57e72621f3c7"
      },
      "execution_count": null,
      "outputs": [
        {
          "output_type": "execute_result",
          "data": {
            "text/plain": [
              "True"
            ]
          },
          "metadata": {},
          "execution_count": 29
        }
      ]
    },
    {
      "cell_type": "code",
      "source": [
        "False == 0"
      ],
      "metadata": {
        "colab": {
          "base_uri": "https://localhost:8080/"
        },
        "id": "THPQbjTRs42U",
        "outputId": "918d6f96-fa2d-4bb6-f017-fe8b4e882a8b"
      },
      "execution_count": null,
      "outputs": [
        {
          "output_type": "execute_result",
          "data": {
            "text/plain": [
              "True"
            ]
          },
          "metadata": {},
          "execution_count": 30
        }
      ]
    },
    {
      "cell_type": "code",
      "source": [
        "# 비교연산\n",
        "a = 10\n",
        "b = 3\n",
        "\n",
        "print(a > b)\n",
        "print(a >= b)\n",
        "print(a < b)\n",
        "print(a <= b)\n",
        "print(a == b)\n",
        "print(a != b)"
      ],
      "metadata": {
        "colab": {
          "base_uri": "https://localhost:8080/"
        },
        "id": "bqUosIods3_3",
        "outputId": "4258744a-1dbc-4b96-b20a-554018b34baf"
      },
      "execution_count": null,
      "outputs": [
        {
          "output_type": "stream",
          "name": "stdout",
          "text": [
            "True\n",
            "True\n",
            "False\n",
            "False\n",
            "False\n",
            "True\n"
          ]
        }
      ]
    },
    {
      "cell_type": "code",
      "source": [
        "# and 논리 곱\n",
        "# or 논리 합\n",
        "# not 부정\n",
        "\n",
        "print(True and False)\n",
        "print(False and True)\n",
        "print(False and False)\n",
        "print(True and True)"
      ],
      "metadata": {
        "colab": {
          "base_uri": "https://localhost:8080/"
        },
        "id": "Gv-pLG3_umth",
        "outputId": "f79cc2ed-7fdd-44a9-f73e-7ea9aca490e0"
      },
      "execution_count": null,
      "outputs": [
        {
          "output_type": "execute_result",
          "data": {
            "text/plain": [
              "False"
            ]
          },
          "metadata": {},
          "execution_count": 32
        }
      ]
    },
    {
      "cell_type": "code",
      "source": [
        "# 나아가기\n",
        "# 1/0\n",
        "\n",
        "print(False and 1/0) # 단락평가"
      ],
      "metadata": {
        "colab": {
          "base_uri": "https://localhost:8080/"
        },
        "id": "PHFsI-Eqvaax",
        "outputId": "1e62162c-8fad-4cf2-ec25-3555ee739bc0"
      },
      "execution_count": null,
      "outputs": [
        {
          "output_type": "stream",
          "name": "stdout",
          "text": [
            "False\n"
          ]
        }
      ]
    },
    {
      "cell_type": "code",
      "source": [
        "print(True or False)\n",
        "print(False or True)\n",
        "print(False or False)\n",
        "print(True  or True)"
      ],
      "metadata": {
        "colab": {
          "base_uri": "https://localhost:8080/"
        },
        "id": "lrcWbLYpvrxB",
        "outputId": "4de97fdb-51d6-485a-d125-71a964c8a9c0"
      },
      "execution_count": null,
      "outputs": [
        {
          "output_type": "stream",
          "name": "stdout",
          "text": [
            "True\n",
            "True\n",
            "False\n",
            "True\n"
          ]
        }
      ]
    },
    {
      "cell_type": "code",
      "source": [
        "# and or 가 어디서 사용되나요?\n",
        "# for i in range(100):\n",
        "#    print(i)\n",
        "\n",
        "for i in range(100):\n",
        "    if i % 3 == 0 and i % 5 == 0:\n",
        "        print(i)\n",
        "\n",
        "for i in range(100):\n",
        "    if i % 3 == 0 or i % 5 == 0:\n",
        "        print(i)"
      ],
      "metadata": {
        "colab": {
          "base_uri": "https://localhost:8080/"
        },
        "id": "m9lMZiwgv7SZ",
        "outputId": "8e5f53a2-a967-45bd-ee9d-7b95367bf4dc"
      },
      "execution_count": null,
      "outputs": [
        {
          "output_type": "stream",
          "name": "stdout",
          "text": [
            "0\n",
            "15\n",
            "30\n",
            "45\n",
            "60\n",
            "75\n",
            "90\n",
            "0\n",
            "3\n",
            "5\n",
            "6\n",
            "9\n",
            "10\n",
            "12\n",
            "15\n",
            "18\n",
            "20\n",
            "21\n",
            "24\n",
            "25\n",
            "27\n",
            "30\n",
            "33\n",
            "35\n",
            "36\n",
            "39\n",
            "40\n",
            "42\n",
            "45\n",
            "48\n",
            "50\n",
            "51\n",
            "54\n",
            "55\n",
            "57\n",
            "60\n",
            "63\n",
            "65\n",
            "66\n",
            "69\n",
            "70\n",
            "72\n",
            "75\n",
            "78\n",
            "80\n",
            "81\n",
            "84\n",
            "85\n",
            "87\n",
            "90\n",
            "93\n",
            "95\n",
            "96\n",
            "99\n"
          ]
        }
      ]
    },
    {
      "cell_type": "code",
      "source": [
        "not True"
      ],
      "metadata": {
        "colab": {
          "base_uri": "https://localhost:8080/"
        },
        "id": "kbBy-MRwwwmi",
        "outputId": "65025a75-9967-4b65-a1ad-a065d93ae221"
      },
      "execution_count": null,
      "outputs": [
        {
          "output_type": "execute_result",
          "data": {
            "text/plain": [
              "False"
            ]
          },
          "metadata": {},
          "execution_count": 38
        }
      ]
    },
    {
      "cell_type": "code",
      "source": [
        "not False"
      ],
      "metadata": {
        "colab": {
          "base_uri": "https://localhost:8080/"
        },
        "id": "ntPohcBAwylD",
        "outputId": "96b221c4-cc48-4ae1-cd09-1d9f1f74e492"
      },
      "execution_count": null,
      "outputs": [
        {
          "output_type": "execute_result",
          "data": {
            "text/plain": [
              "True"
            ]
          },
          "metadata": {},
          "execution_count": 39
        }
      ]
    },
    {
      "cell_type": "code",
      "source": [
        "print(bool(0))\n",
        "print(bool(100))\n",
        "print(bool(-1))\n",
        "print(bool('hello'))\n",
        "print(bool(''))"
      ],
      "metadata": {
        "id": "NQKG6MY5w2gb"
      },
      "execution_count": null,
      "outputs": []
    },
    {
      "cell_type": "code",
      "source": [
        "# 비어있음을 명시적으로 나타내는 자료형\n",
        "x = None\n",
        "x # 출력하지 않습니다."
      ],
      "metadata": {
        "id": "Jg3K5PVAvC09"
      },
      "execution_count": null,
      "outputs": []
    },
    {
      "cell_type": "code",
      "source": [
        "print(x)"
      ],
      "metadata": {
        "colab": {
          "base_uri": "https://localhost:8080/"
        },
        "id": "dyALPnsmvMFu",
        "outputId": "42a7305c-7a9e-4002-a1f8-7853999f958b"
      },
      "execution_count": null,
      "outputs": [
        {
          "output_type": "stream",
          "name": "stdout",
          "text": [
            "None\n"
          ]
        }
      ]
    },
    {
      "cell_type": "code",
      "source": [
        "'hello world'.replace('hello', 'hi')"
      ],
      "metadata": {
        "colab": {
          "base_uri": "https://localhost:8080/",
          "height": 35
        },
        "id": "Lpb6bN8wva6O",
        "outputId": "c1f785f9-1c78-41ae-db0a-b0268ef15826"
      },
      "execution_count": null,
      "outputs": [
        {
          "output_type": "execute_result",
          "data": {
            "text/plain": [
              "'hi world'"
            ],
            "application/vnd.google.colaboratory.intrinsic+json": {
              "type": "string"
            }
          },
          "metadata": {},
          "execution_count": 4
        }
      ]
    },
    {
      "cell_type": "code",
      "source": [
        "'hello world'.replace('hello', 'hi')\n",
        "'hello world'.replace('hello', 'hi').replace('world', 'jeju')"
      ],
      "metadata": {
        "id": "W53DaL9gvkzK"
      },
      "execution_count": null,
      "outputs": []
    },
    {
      "cell_type": "code",
      "source": [
        "# 메서드 채이닝의 주의\n",
        "# 처음의 값 'hello world'이 값에 메서드를 연속해서 쓰는 것이 아니라\n",
        "# 각 메서드의 반환값을 연속해서 씁니다."
      ],
      "metadata": {
        "id": "hkjW_9VYvtV-"
      },
      "execution_count": null,
      "outputs": []
    },
    {
      "cell_type": "code",
      "source": [
        "# 'hello world'.split(' ').replace('hi', 'world')\n",
        "# 위와 같은 코드는 에러입니다."
      ],
      "metadata": {
        "id": "n6knRqX8v7tk"
      },
      "execution_count": null,
      "outputs": []
    },
    {
      "cell_type": "code",
      "source": [
        "'hello world'.replace('hi', 'world').replace('hi', 'world').replace('hi', 'world')"
      ],
      "metadata": {
        "id": "zgT-CRFIwJg1"
      },
      "execution_count": null,
      "outputs": []
    },
    {
      "cell_type": "markdown",
      "source": [
        "# 형 변환"
      ],
      "metadata": {
        "id": "eVsNFsC6xuU3"
      }
    },
    {
      "cell_type": "code",
      "source": [
        "x = 10\n",
        "y = '10'\n",
        "\n",
        "x + y"
      ],
      "metadata": {
        "colab": {
          "base_uri": "https://localhost:8080/",
          "height": 184
        },
        "id": "UyX-aPIOxxnf",
        "outputId": "c2ada732-eeeb-4669-fa16-ade9937fb86f"
      },
      "execution_count": null,
      "outputs": [
        {
          "output_type": "error",
          "ename": "TypeError",
          "evalue": "unsupported operand type(s) for +: 'int' and 'str'",
          "traceback": [
            "\u001b[0;31m---------------------------------------------------------------------------\u001b[0m",
            "\u001b[0;31mTypeError\u001b[0m                                 Traceback (most recent call last)",
            "\u001b[0;32m<ipython-input-5-2ccd9e2e26a2>\u001b[0m in \u001b[0;36m<cell line: 4>\u001b[0;34m()\u001b[0m\n\u001b[1;32m      2\u001b[0m \u001b[0my\u001b[0m \u001b[0;34m=\u001b[0m \u001b[0;34m'10'\u001b[0m\u001b[0;34m\u001b[0m\u001b[0;34m\u001b[0m\u001b[0m\n\u001b[1;32m      3\u001b[0m \u001b[0;34m\u001b[0m\u001b[0m\n\u001b[0;32m----> 4\u001b[0;31m \u001b[0mx\u001b[0m \u001b[0;34m+\u001b[0m \u001b[0my\u001b[0m\u001b[0;34m\u001b[0m\u001b[0;34m\u001b[0m\u001b[0m\n\u001b[0m",
            "\u001b[0;31mTypeError\u001b[0m: unsupported operand type(s) for +: 'int' and 'str'"
          ]
        }
      ]
    },
    {
      "cell_type": "code",
      "source": [
        "x + int(y)"
      ],
      "metadata": {
        "colab": {
          "base_uri": "https://localhost:8080/"
        },
        "id": "bb-lQvnMx9IA",
        "outputId": "3a050d2e-8919-4334-925e-f1317ac19ddc"
      },
      "execution_count": null,
      "outputs": [
        {
          "output_type": "execute_result",
          "data": {
            "text/plain": [
              "20"
            ]
          },
          "metadata": {},
          "execution_count": 7
        }
      ]
    },
    {
      "cell_type": "code",
      "source": [
        "type(x)\n",
        "type(y)"
      ],
      "metadata": {
        "id": "XgeGb4Rqx_PE"
      },
      "execution_count": null,
      "outputs": []
    },
    {
      "cell_type": "code",
      "source": [
        "'''\n",
        "int()\t정수로 변환\n",
        "str()\t문자열로 변환\n",
        "float()\t실수로 변환\n",
        "list()\t리스트로 변환\n",
        "tuple()\t튜플로 변환\n",
        "dict()\t딕셔너리로 변환\n",
        "set()\t셋으로 변환\n",
        "'''"
      ],
      "metadata": {
        "id": "3bTXig4nyhdD"
      },
      "execution_count": null,
      "outputs": []
    },
    {
      "cell_type": "code",
      "source": [
        "int(10.3) + 1000"
      ],
      "metadata": {
        "id": "79Xx-EZzyuJt"
      },
      "execution_count": null,
      "outputs": []
    },
    {
      "cell_type": "markdown",
      "source": [
        "# 할당연산"
      ],
      "metadata": {
        "id": "IjOcnmG6zFKM"
      }
    },
    {
      "cell_type": "code",
      "source": [
        "# 비교연산, 논리연산, 산술연산 모두 진행했습니다."
      ],
      "metadata": {
        "id": "PpCfPrQHzHeo"
      },
      "execution_count": null,
      "outputs": []
    },
    {
      "cell_type": "code",
      "source": [
        "a = 10\n",
        "a = a + 10\n",
        "a"
      ],
      "metadata": {
        "colab": {
          "base_uri": "https://localhost:8080/"
        },
        "id": "csmGiwK2zMT-",
        "outputId": "b9614c59-3f8c-451f-8dcd-e0319fd72919"
      },
      "execution_count": null,
      "outputs": [
        {
          "output_type": "execute_result",
          "data": {
            "text/plain": [
              "20"
            ]
          },
          "metadata": {},
          "execution_count": 10
        }
      ]
    },
    {
      "cell_type": "code",
      "source": [
        "a = 10\n",
        "a = a + 10\n",
        "a = a / 3\n",
        "a = a - 1\n",
        "a"
      ],
      "metadata": {
        "id": "DW3BDKrAzQKA"
      },
      "execution_count": null,
      "outputs": []
    },
    {
      "cell_type": "code",
      "source": [
        "a = 10\n",
        "a += 10 # a = a + 10\n",
        "a"
      ],
      "metadata": {
        "id": "Nch4gQHe0Hr5"
      },
      "execution_count": null,
      "outputs": []
    },
    {
      "cell_type": "markdown",
      "source": [
        "# 식별연산"
      ],
      "metadata": {
        "id": "U1VQE7GD1EJz"
      }
    },
    {
      "cell_type": "code",
      "source": [
        "x = 10\n",
        "y = x\n",
        "\n",
        "x is y"
      ],
      "metadata": {
        "colab": {
          "base_uri": "https://localhost:8080/"
        },
        "id": "5RTXzKKZ1HhM",
        "outputId": "0a3ac854-ad97-45b0-fc3b-7ae6dab9949b"
      },
      "execution_count": null,
      "outputs": [
        {
          "output_type": "execute_result",
          "data": {
            "text/plain": [
              "True"
            ]
          },
          "metadata": {},
          "execution_count": 11
        }
      ]
    },
    {
      "cell_type": "code",
      "source": [
        "id(x) == id(y)"
      ],
      "metadata": {
        "colab": {
          "base_uri": "https://localhost:8080/"
        },
        "id": "r4FhZo-q1Nuz",
        "outputId": "ddbd2fff-1a18-4b95-efd1-18e88dceac30"
      },
      "execution_count": null,
      "outputs": [
        {
          "output_type": "execute_result",
          "data": {
            "text/plain": [
              "True"
            ]
          },
          "metadata": {},
          "execution_count": 12
        }
      ]
    },
    {
      "cell_type": "code",
      "source": [
        "x = 10\n",
        "y = 10\n",
        "\n",
        "x is y"
      ],
      "metadata": {
        "colab": {
          "base_uri": "https://localhost:8080/"
        },
        "id": "tbOgf_ZB1RR9",
        "outputId": "c51febea-202e-40b2-8209-96a9d996c064"
      },
      "execution_count": null,
      "outputs": [
        {
          "output_type": "execute_result",
          "data": {
            "text/plain": [
              "True"
            ]
          },
          "metadata": {},
          "execution_count": 13
        }
      ]
    },
    {
      "cell_type": "code",
      "source": [
        "x = 1000\n",
        "y = 1000\n",
        "\n",
        "x is y"
      ],
      "metadata": {
        "colab": {
          "base_uri": "https://localhost:8080/"
        },
        "id": "GXxLocf21ZEV",
        "outputId": "75b21ad2-3fcc-4f69-9698-425c2d5d85a7"
      },
      "execution_count": null,
      "outputs": [
        {
          "output_type": "execute_result",
          "data": {
            "text/plain": [
              "False"
            ]
          },
          "metadata": {},
          "execution_count": 14
        }
      ]
    },
    {
      "cell_type": "code",
      "source": [
        "# -5 ~ 256\n",
        "x = 257\n",
        "y = 257\n",
        "\n",
        "x is y"
      ],
      "metadata": {
        "colab": {
          "base_uri": "https://localhost:8080/"
        },
        "id": "SVZPcepZ1d6U",
        "outputId": "e504b28c-c3a6-4a9a-d8e0-059cf91860a5"
      },
      "execution_count": null,
      "outputs": [
        {
          "output_type": "execute_result",
          "data": {
            "text/plain": [
              "False"
            ]
          },
          "metadata": {},
          "execution_count": 15
        }
      ]
    },
    {
      "cell_type": "code",
      "source": [
        "x is not y"
      ],
      "metadata": {
        "colab": {
          "base_uri": "https://localhost:8080/"
        },
        "id": "DNrqTx6A2RA0",
        "outputId": "d3393295-80ad-4f94-bf70-b04c5516239e"
      },
      "execution_count": null,
      "outputs": [
        {
          "output_type": "execute_result",
          "data": {
            "text/plain": [
              "True"
            ]
          },
          "metadata": {},
          "execution_count": 16
        }
      ]
    },
    {
      "cell_type": "code",
      "source": [
        "# None 비교는 is로 해주세요!\n",
        "x is None"
      ],
      "metadata": {
        "colab": {
          "base_uri": "https://localhost:8080/"
        },
        "id": "dAm-GLKF7-ck",
        "outputId": "a637f6ab-c1e8-40d0-b72e-07f8bdfe5145"
      },
      "execution_count": null,
      "outputs": [
        {
          "output_type": "execute_result",
          "data": {
            "text/plain": [
              "False"
            ]
          },
          "metadata": {},
          "execution_count": 17
        }
      ]
    },
    {
      "cell_type": "markdown",
      "source": [
        "# 멤버연산"
      ],
      "metadata": {
        "id": "roKps0Q79vjR"
      }
    },
    {
      "cell_type": "code",
      "source": [
        "'h' in 'hello world'"
      ],
      "metadata": {
        "colab": {
          "base_uri": "https://localhost:8080/"
        },
        "id": "_wzK1D8y9nV6",
        "outputId": "be482179-426d-4837-aa9a-bd07df9d1960"
      },
      "execution_count": null,
      "outputs": [
        {
          "output_type": "execute_result",
          "data": {
            "text/plain": [
              "True"
            ]
          },
          "metadata": {},
          "execution_count": 18
        }
      ]
    },
    {
      "cell_type": "code",
      "source": [
        "'h' not in 'hello world'"
      ],
      "metadata": {
        "colab": {
          "base_uri": "https://localhost:8080/"
        },
        "id": "_nTNdolM-Of5",
        "outputId": "0a0b293b-56fa-481d-f674-c41e88594909"
      },
      "execution_count": null,
      "outputs": [
        {
          "output_type": "execute_result",
          "data": {
            "text/plain": [
              "False"
            ]
          },
          "metadata": {},
          "execution_count": 19
        }
      ]
    },
    {
      "cell_type": "markdown",
      "source": [
        "# 리스트"
      ],
      "metadata": {
        "id": "I-H38z30_y33"
      }
    },
    {
      "cell_type": "code",
      "source": [
        "# 1. 여러개의 데이터를 저장하고 싶을 때 사용\n",
        "# 여러개의 데이터를 저장하고 싶을 때 주로 고려하는 자료형:\n",
        "# 리스트, 딕셔너리, 클래스\n",
        "# 2. 변경이 가능한 자료형입니다.\n",
        "# 3. 순서가 있는 자료형입니다. (시퀀스형 자료형)\n",
        "# 4. 순회가 가능한 자료형입니다. (이터러블한 자료형)"
      ],
      "metadata": {
        "id": "-bhrgmCRAHDv"
      },
      "execution_count": null,
      "outputs": []
    },
    {
      "cell_type": "code",
      "source": [
        "s = [10, 20, 30, 40]\n",
        "s = ['a', 'b', 'c', 'd']\n",
        "s = [10, 'a', 10.1] #이런 식으로 다른 자료형들과 혼합해서 사용하진 않습니다."
      ],
      "metadata": {
        "id": "yIaRnCd4AnbO"
      },
      "execution_count": null,
      "outputs": []
    },
    {
      "cell_type": "code",
      "source": [
        "I = [10, 20, 30, 40]\n",
        "I[0]\n",
        "I[3]"
      ],
      "metadata": {
        "colab": {
          "base_uri": "https://localhost:8080/"
        },
        "id": "YqQNeCY4BC4P",
        "outputId": "4ba040cf-6e5d-445e-9f4f-baa5fafa1936"
      },
      "execution_count": null,
      "outputs": [
        {
          "output_type": "execute_result",
          "data": {
            "text/plain": [
              "40"
            ]
          },
          "metadata": {},
          "execution_count": 23
        }
      ]
    },
    {
      "cell_type": "code",
      "source": [
        "I[4]"
      ],
      "metadata": {
        "colab": {
          "base_uri": "https://localhost:8080/",
          "height": 147
        },
        "id": "KLxHJTSYBKiZ",
        "outputId": "6791393b-e7c2-41dc-d658-ced58093a8a9"
      },
      "execution_count": null,
      "outputs": [
        {
          "output_type": "error",
          "ename": "IndexError",
          "evalue": "list index out of range",
          "traceback": [
            "\u001b[0;31m---------------------------------------------------------------------------\u001b[0m",
            "\u001b[0;31mIndexError\u001b[0m                                Traceback (most recent call last)",
            "\u001b[0;32m<ipython-input-24-be0bb4e7c907>\u001b[0m in \u001b[0;36m<cell line: 1>\u001b[0;34m()\u001b[0m\n\u001b[0;32m----> 1\u001b[0;31m \u001b[0mI\u001b[0m\u001b[0;34m[\u001b[0m\u001b[0;36m4\u001b[0m\u001b[0;34m]\u001b[0m\u001b[0;34m\u001b[0m\u001b[0;34m\u001b[0m\u001b[0m\n\u001b[0m",
            "\u001b[0;31mIndexError\u001b[0m: list index out of range"
          ]
        }
      ]
    },
    {
      "cell_type": "code",
      "source": [
        "# 인덱싱이 가능하니 슬라이싱도 가능합니다.\n",
        "# 시퀀스 자료형의 특징이고 앞에서 배웠던 문자열도 시퀀스형 자료형입니다.\n",
        "I[:3]"
      ],
      "metadata": {
        "colab": {
          "base_uri": "https://localhost:8080/"
        },
        "id": "S2gkQIu9Bj3e",
        "outputId": "147b1e64-afeb-43c1-aa93-fd8e1bd9a71f"
      },
      "execution_count": null,
      "outputs": [
        {
          "output_type": "execute_result",
          "data": {
            "text/plain": [
              "[10, 20, 30]"
            ]
          },
          "metadata": {},
          "execution_count": 25
        }
      ]
    },
    {
      "cell_type": "code",
      "source": [
        "type(I)\n",
        "dir(I)"
      ],
      "metadata": {
        "colab": {
          "base_uri": "https://localhost:8080/"
        },
        "id": "PGnL-V28BznW",
        "outputId": "3d64a617-fae2-4dec-9409-0c45f6cf09c7"
      },
      "execution_count": null,
      "outputs": [
        {
          "output_type": "execute_result",
          "data": {
            "text/plain": [
              "['__add__',\n",
              " '__class__',\n",
              " '__class_getitem__',\n",
              " '__contains__',\n",
              " '__delattr__',\n",
              " '__delitem__',\n",
              " '__dir__',\n",
              " '__doc__',\n",
              " '__eq__',\n",
              " '__format__',\n",
              " '__ge__',\n",
              " '__getattribute__',\n",
              " '__getitem__',\n",
              " '__gt__',\n",
              " '__hash__',\n",
              " '__iadd__',\n",
              " '__imul__',\n",
              " '__init__',\n",
              " '__init_subclass__',\n",
              " '__iter__',\n",
              " '__le__',\n",
              " '__len__',\n",
              " '__lt__',\n",
              " '__mul__',\n",
              " '__ne__',\n",
              " '__new__',\n",
              " '__reduce__',\n",
              " '__reduce_ex__',\n",
              " '__repr__',\n",
              " '__reversed__',\n",
              " '__rmul__',\n",
              " '__setattr__',\n",
              " '__setitem__',\n",
              " '__sizeof__',\n",
              " '__str__',\n",
              " '__subclasshook__',\n",
              " 'append',\n",
              " 'clear',\n",
              " 'copy',\n",
              " 'count',\n",
              " 'extend',\n",
              " 'index',\n",
              " 'insert',\n",
              " 'pop',\n",
              " 'remove',\n",
              " 'reverse',\n",
              " 'sort']"
            ]
          },
          "metadata": {},
          "execution_count": 26
        }
      ]
    },
    {
      "cell_type": "code",
      "source": [
        "# append\n",
        "# copy\n",
        "# count\n",
        "# extend\n",
        "# index\n",
        "# insert\n",
        "# pop\n",
        "# remove\n",
        "# reverse\n",
        "# sort"
      ],
      "metadata": {
        "id": "9TkDmjL4B9i9"
      },
      "execution_count": null,
      "outputs": []
    },
    {
      "cell_type": "code",
      "source": [
        "l = [10, 20, 30]\n",
        "l.append(100)\n",
        "l"
      ],
      "metadata": {
        "colab": {
          "base_uri": "https://localhost:8080/"
        },
        "id": "uu504RSXCSDm",
        "outputId": "151f9e07-f946-4dc1-8337-2d5869f96a19"
      },
      "execution_count": null,
      "outputs": [
        {
          "output_type": "execute_result",
          "data": {
            "text/plain": [
              "[10, 20, 30, 100]"
            ]
          },
          "metadata": {},
          "execution_count": 27
        }
      ]
    },
    {
      "cell_type": "code",
      "source": [
        "x = [10, 20, 30]\n",
        "y = x.copy()\n",
        "\n",
        "y.append(100)\n",
        "\n",
        "x, y"
      ],
      "metadata": {
        "colab": {
          "base_uri": "https://localhost:8080/"
        },
        "id": "Nz3ElTiNCigG",
        "outputId": "a553e0d3-8a13-4977-db69-03e14588c308"
      },
      "execution_count": null,
      "outputs": [
        {
          "output_type": "execute_result",
          "data": {
            "text/plain": [
              "([10, 20, 30], [10, 20, 30, 100])"
            ]
          },
          "metadata": {},
          "execution_count": 30
        }
      ]
    },
    {
      "cell_type": "code",
      "source": [
        "[10, 20, 30, 30, 30, 20, 10].count(30)\n",
        "['1', '2', '3', '3', '3'].count('3')"
      ],
      "metadata": {
        "colab": {
          "base_uri": "https://localhost:8080/"
        },
        "id": "HtcAHOF8difo",
        "outputId": "b7ac5fdb-f0d1-4830-8d6e-dea7c0f5b6fc"
      },
      "execution_count": null,
      "outputs": [
        {
          "output_type": "execute_result",
          "data": {
            "text/plain": [
              "3"
            ]
          },
          "metadata": {},
          "execution_count": 1
        }
      ]
    },
    {
      "cell_type": "code",
      "source": [
        "# [10, 20, 30].append(40, 50)\n",
        "x = [10, 20, 30]\n",
        "x.append([40, 50])\n",
        "x\n",
        "x[3] #40이 나왔으면 좋곗는데 [40, 50]이 나옴"
      ],
      "metadata": {
        "colab": {
          "base_uri": "https://localhost:8080/"
        },
        "id": "CLrSonDBeo74",
        "outputId": "7ec89e60-8080-4c82-c375-fc5f2b6ca2e1"
      },
      "execution_count": null,
      "outputs": [
        {
          "output_type": "execute_result",
          "data": {
            "text/plain": [
              "[10, 20, 30, [40, 50]]"
            ]
          },
          "metadata": {},
          "execution_count": 2
        }
      ]
    },
    {
      "cell_type": "code",
      "source": [
        "x = [10, 20, 30]\n",
        "x.extend([40, 50])\n",
        "x"
      ],
      "metadata": {
        "colab": {
          "base_uri": "https://localhost:8080/"
        },
        "id": "_Wo480wVfQw4",
        "outputId": "1e6954fb-711e-44cf-97f5-a9bb28a236b1"
      },
      "execution_count": null,
      "outputs": [
        {
          "output_type": "execute_result",
          "data": {
            "text/plain": [
              "[10, 20, 30, 40, 50]"
            ]
          },
          "metadata": {},
          "execution_count": 3
        }
      ]
    },
    {
      "cell_type": "code",
      "source": [
        "# 나아가기\n",
        "x = [10, 20, 30]\n",
        "x.extend('hello')\n",
        "x"
      ],
      "metadata": {
        "colab": {
          "base_uri": "https://localhost:8080/"
        },
        "id": "jUlHzvN1gTJ3",
        "outputId": "807f8cab-3202-4937-a640-dcd5821a6ff5"
      },
      "execution_count": null,
      "outputs": [
        {
          "output_type": "execute_result",
          "data": {
            "text/plain": [
              "[10, 20, 30, 'h', 'e', 'l', 'l', 'o']"
            ]
          },
          "metadata": {},
          "execution_count": 4
        }
      ]
    },
    {
      "cell_type": "code",
      "source": [
        "[10, 20, 30, 40, 1, 2, 10].index(30)"
      ],
      "metadata": {
        "colab": {
          "base_uri": "https://localhost:8080/"
        },
        "id": "vTZmPaWaga_K",
        "outputId": "69c7ebc9-fbde-4793-e8a8-64629344eba7"
      },
      "execution_count": null,
      "outputs": [
        {
          "output_type": "execute_result",
          "data": {
            "text/plain": [
              "2"
            ]
          },
          "metadata": {},
          "execution_count": 5
        }
      ]
    },
    {
      "cell_type": "code",
      "source": [
        "x = [10, 20, 30]\n",
        "x.insert(1, 10000)\n",
        "x"
      ],
      "metadata": {
        "colab": {
          "base_uri": "https://localhost:8080/"
        },
        "id": "14aQNlZKgxLp",
        "outputId": "186ff468-06ed-4b02-b91b-27af022afd18"
      },
      "execution_count": null,
      "outputs": [
        {
          "output_type": "execute_result",
          "data": {
            "text/plain": [
              "[10, 10000, 20, 30]"
            ]
          },
          "metadata": {},
          "execution_count": 7
        }
      ]
    },
    {
      "cell_type": "code",
      "source": [
        "x = [10, 20, 30]\n",
        "y = x.pop()\n",
        "x"
      ],
      "metadata": {
        "colab": {
          "base_uri": "https://localhost:8080/"
        },
        "id": "raHqdRIsg7Eq",
        "outputId": "8d547ba8-2539-4c18-8262-07faffc81412"
      },
      "execution_count": null,
      "outputs": [
        {
          "output_type": "execute_result",
          "data": {
            "text/plain": [
              "[10, 20]"
            ]
          },
          "metadata": {},
          "execution_count": 8
        }
      ]
    },
    {
      "cell_type": "code",
      "source": [
        "y"
      ],
      "metadata": {
        "colab": {
          "base_uri": "https://localhost:8080/"
        },
        "id": "vF4eNApFhVGn",
        "outputId": "b13150cf-2101-43cb-c3a7-f45741955680"
      },
      "execution_count": null,
      "outputs": [
        {
          "output_type": "execute_result",
          "data": {
            "text/plain": [
              "30"
            ]
          },
          "metadata": {},
          "execution_count": 9
        }
      ]
    },
    {
      "cell_type": "code",
      "source": [
        "x = [10, 20, 30]\n",
        "y = x.pop(0)\n",
        "x"
      ],
      "metadata": {
        "colab": {
          "base_uri": "https://localhost:8080/"
        },
        "id": "PyYU3lHohYsn",
        "outputId": "df53a13f-42ea-420a-de00-331840e3cb05"
      },
      "execution_count": null,
      "outputs": [
        {
          "output_type": "execute_result",
          "data": {
            "text/plain": [
              "[20, 30]"
            ]
          },
          "metadata": {},
          "execution_count": 10
        }
      ]
    },
    {
      "cell_type": "code",
      "source": [
        "y"
      ],
      "metadata": {
        "colab": {
          "base_uri": "https://localhost:8080/"
        },
        "id": "x9sqxXdAhbaZ",
        "outputId": "25147118-68e5-4501-fe41-6109e021968f"
      },
      "execution_count": null,
      "outputs": [
        {
          "output_type": "execute_result",
          "data": {
            "text/plain": [
              "10"
            ]
          },
          "metadata": {},
          "execution_count": 11
        }
      ]
    },
    {
      "cell_type": "code",
      "source": [
        "# 스택과 큐\n",
        "# 스택: LIFO(last in first out) 후입선출\n",
        "# 큐: FIFO(first in first out) 선입선출"
      ],
      "metadata": {
        "id": "oXn3S6v3hcLv"
      },
      "execution_count": null,
      "outputs": []
    },
    {
      "cell_type": "code",
      "source": [
        "# 스택\n",
        "l = [10, 20, 30]\n",
        "l.append(40)\n",
        "l.pop()\n",
        "\n",
        "# 앞으로도 뺄 수 있는데?\n",
        "# 스택을 구현하고 싶으면 한쪽방향으로만 넣고 빼는 것으로 구현"
      ],
      "metadata": {
        "colab": {
          "base_uri": "https://localhost:8080/"
        },
        "id": "zCd3HwvykwMp",
        "outputId": "87fc140f-24e5-47f9-98a9-0e4f8a1ccbe5"
      },
      "execution_count": null,
      "outputs": [
        {
          "output_type": "execute_result",
          "data": {
            "text/plain": [
              "40"
            ]
          },
          "metadata": {},
          "execution_count": 13
        }
      ]
    },
    {
      "cell_type": "code",
      "source": [
        "# 큐\n",
        "l = [10, 20, 30]\n",
        "l.append(40)\n",
        "l.pop(0)"
      ],
      "metadata": {
        "id": "jUzUe1s4lo9Y"
      },
      "execution_count": null,
      "outputs": []
    },
    {
      "cell_type": "code",
      "source": [
        "l = [10, 20, 30]\n",
        "l.append(0, 40)\n",
        "l.pop()"
      ],
      "metadata": {
        "id": "3aw2HeoTl_Ft"
      },
      "execution_count": null,
      "outputs": []
    },
    {
      "cell_type": "code",
      "source": [
        "# 큐\n",
        "l = [10, 20, 30]\n",
        "l.insert(0, 40)\n",
        "l.pop(0)"
      ],
      "metadata": {
        "colab": {
          "base_uri": "https://localhost:8080/"
        },
        "id": "bOfntoTDlN32",
        "outputId": "8bcc7cb9-f078-4151-c033-c1c81642ba33"
      },
      "execution_count": null,
      "outputs": [
        {
          "output_type": "execute_result",
          "data": {
            "text/plain": [
              "40"
            ]
          },
          "metadata": {},
          "execution_count": 14
        }
      ]
    },
    {
      "cell_type": "code",
      "source": [
        "# 2차원 배열\n",
        "x = 10 # 스칼라 0차원\n",
        "x = [10, 20, 30] # 벡터 1\n",
        "x = [[10, 20], [30, 40]] # 매트릭스 2\n",
        "x = [[10, 20], [30, 40], [[10, 20], [30, 40]]] # 텐서 3차 이상"
      ],
      "metadata": {
        "id": "Kog4ozbYolzW"
      },
      "execution_count": null,
      "outputs": []
    },
    {
      "cell_type": "code",
      "source": [
        "x = [[10, 20], [30, 40], [50, 60]]\n",
        "x[1]"
      ],
      "metadata": {
        "colab": {
          "base_uri": "https://localhost:8080/"
        },
        "id": "AtkrBsiKpXVn",
        "outputId": "be51182f-7f10-4c84-8e48-01997715bee0"
      },
      "execution_count": null,
      "outputs": [
        {
          "output_type": "execute_result",
          "data": {
            "text/plain": [
              "[30, 40]"
            ]
          },
          "metadata": {},
          "execution_count": 15
        }
      ]
    },
    {
      "cell_type": "code",
      "source": [
        "x[1][0]"
      ],
      "metadata": {
        "colab": {
          "base_uri": "https://localhost:8080/"
        },
        "id": "ahY9K50hpjsH",
        "outputId": "29723968-e695-40b6-ad8e-762548018b25"
      },
      "execution_count": null,
      "outputs": [
        {
          "output_type": "execute_result",
          "data": {
            "text/plain": [
              "30"
            ]
          },
          "metadata": {},
          "execution_count": 16
        }
      ]
    },
    {
      "cell_type": "code",
      "source": [
        "x = [[10, 20],\n",
        "     [30, 40]]\n",
        "y = [[1, 2],\n",
        "     [3, 4]]\n",
        "x + y # 에러는 안나지만 우리가 원하는 결과 값은 아닙니다."
      ],
      "metadata": {
        "colab": {
          "base_uri": "https://localhost:8080/"
        },
        "id": "hJNT_JXDrIgu",
        "outputId": "e4f56956-147a-4011-ff27-1e218fcf1ea6"
      },
      "execution_count": null,
      "outputs": [
        {
          "output_type": "execute_result",
          "data": {
            "text/plain": [
              "[[10, 20], [30, 40], [1, 2], [3, 4]]"
            ]
          },
          "metadata": {},
          "execution_count": 17
        }
      ]
    },
    {
      "cell_type": "code",
      "source": [
        "z = [[x[0][0]+y[0][0]], [x[0][1]+y[0][1]],\n",
        "     [x[1][0]+y[1][0]], [x[1][1]+y[1][1]]]\n",
        "z"
      ],
      "metadata": {
        "colab": {
          "base_uri": "https://localhost:8080/"
        },
        "id": "_j0LHnXprjWB",
        "outputId": "faef4e07-0730-4d84-975a-d949bb90361b"
      },
      "execution_count": null,
      "outputs": [
        {
          "output_type": "execute_result",
          "data": {
            "text/plain": [
              "[[11], [22], [33], [44]]"
            ]
          },
          "metadata": {},
          "execution_count": 18
        }
      ]
    },
    {
      "cell_type": "code",
      "source": [
        "x = [1, 2, 3, 1, 1, 1, 1]\n",
        "x.remove(1) # 처음 만나는 것 하나만 지울 수 있음\n",
        "x"
      ],
      "metadata": {
        "colab": {
          "base_uri": "https://localhost:8080/"
        },
        "id": "1S8YnWZusEr_",
        "outputId": "3c50ab48-ce75-4214-aa31-909a19a9cbcc"
      },
      "execution_count": null,
      "outputs": [
        {
          "output_type": "execute_result",
          "data": {
            "text/plain": [
              "[2, 3, 1, 1, 1, 1]"
            ]
          },
          "metadata": {},
          "execution_count": 20
        }
      ]
    },
    {
      "cell_type": "code",
      "source": [
        "# reverse\n",
        "\n",
        "x = [1, 5, 4, 3, 7, 2]\n",
        "\n",
        "x.reverse() # 역순이고 역정렬이 아닙니다. 원본을 수정합니다.\n",
        "x"
      ],
      "metadata": {
        "colab": {
          "base_uri": "https://localhost:8080/"
        },
        "id": "etilsQ3wsXCA",
        "outputId": "2f7b4014-10de-4e4a-e57d-1a0d18dcff77"
      },
      "execution_count": null,
      "outputs": [
        {
          "output_type": "execute_result",
          "data": {
            "text/plain": [
              "[2, 7, 3, 4, 5, 1]"
            ]
          },
          "metadata": {},
          "execution_count": 21
        }
      ]
    },
    {
      "cell_type": "code",
      "source": [
        "x = [1, 5, 4, 3, 7, 2]\n",
        "\n",
        "list(reversed(x)), x # 역순이고 역정렬이 아닙니다. 원본을 수정하지 않습니다."
      ],
      "metadata": {
        "colab": {
          "base_uri": "https://localhost:8080/"
        },
        "id": "jiftLEYGtET_",
        "outputId": "715f3d00-ed2d-4763-c3c5-8f128d273b69"
      },
      "execution_count": null,
      "outputs": [
        {
          "output_type": "execute_result",
          "data": {
            "text/plain": [
              "([2, 7, 3, 4, 5, 1], [1, 5, 4, 3, 7, 2])"
            ]
          },
          "metadata": {},
          "execution_count": 23
        }
      ]
    },
    {
      "cell_type": "code",
      "source": [
        "x = [1, 5, 4, 3, 7, 2]\n",
        "\n",
        "x.sort() # 정렬입니다. 원본을 수정합니다.\n",
        "x"
      ],
      "metadata": {
        "colab": {
          "base_uri": "https://localhost:8080/"
        },
        "id": "zRzihv_vtRrt",
        "outputId": "f62de200-900d-49e1-9c65-ef84e916312b"
      },
      "execution_count": null,
      "outputs": [
        {
          "output_type": "execute_result",
          "data": {
            "text/plain": [
              "[1, 2, 3, 4, 5, 7]"
            ]
          },
          "metadata": {},
          "execution_count": 24
        }
      ]
    },
    {
      "cell_type": "code",
      "source": [
        "x = [1, 5, 4, 3, 7, 2]\n",
        "\n",
        "sorted(x), x\n",
        "# 정렬입니다. 원본을 수정합니다. 게다가 출력값이 리스트입니다."
      ],
      "metadata": {
        "colab": {
          "base_uri": "https://localhost:8080/"
        },
        "id": "UEFiZzFVt07D",
        "outputId": "4a67055e-0f2f-4808-ee92-904717cc9da2"
      },
      "execution_count": null,
      "outputs": [
        {
          "output_type": "execute_result",
          "data": {
            "text/plain": [
              "([1, 2, 3, 4, 5, 7], [1, 5, 4, 3, 7, 2])"
            ]
          },
          "metadata": {},
          "execution_count": 26
        }
      ]
    },
    {
      "cell_type": "code",
      "source": [
        "# 역정렬\n",
        "x = [1, 5, 4, 3, 7, 2]\n",
        "\n",
        "# 방법1\n",
        "list(reversed(sorted(x)))\n",
        "\n",
        "# 방법2\n",
        "x.sort()\n",
        "x.reverse()\n",
        "x"
      ],
      "metadata": {
        "colab": {
          "base_uri": "https://localhost:8080/"
        },
        "id": "uB1O2Ql3uIlO",
        "outputId": "07f3472a-e8f9-4c25-d8b7-af2bffe48cdb"
      },
      "execution_count": null,
      "outputs": [
        {
          "output_type": "execute_result",
          "data": {
            "text/plain": [
              "[7, 5, 4, 3, 2, 1]"
            ]
          },
          "metadata": {},
          "execution_count": 28
        }
      ]
    },
    {
      "cell_type": "code",
      "source": [
        "x = [\n",
        "    [10, 20, 30],\n",
        "    [55, 48, 22],\n",
        "    [32, 75, 35],\n",
        "    [42, 55, 33],\n",
        "]\n",
        "\n",
        "def 함수(x):\n",
        "    return x[2]\n",
        "\n",
        "sorted(x, key=함수)"
      ],
      "metadata": {
        "colab": {
          "base_uri": "https://localhost:8080/"
        },
        "id": "eIgNgMHCDi2u",
        "outputId": "2c3b3e7b-fe12-4054-ee2f-a7f3e83afe1d"
      },
      "execution_count": null,
      "outputs": [
        {
          "output_type": "execute_result",
          "data": {
            "text/plain": [
              "[[55, 48, 22], [10, 20, 30], [42, 55, 33], [32, 75, 35]]"
            ]
          },
          "metadata": {},
          "execution_count": 30
        }
      ]
    },
    {
      "cell_type": "code",
      "source": [
        "x = [\n",
        "    [10, 20, 30],\n",
        "    [55, 48, 22],\n",
        "    [32, 75, 35],\n",
        "    [42, 55, 33],\n",
        "]\n",
        "\n",
        "def 함수(x):\n",
        "    return x[2]\n",
        "\n",
        "sorted(x, key=함수)[::-1] # 이렇게는 잘 사용하지 않습니다.\n",
        "sorted(x, key=함수, reverse=True)"
      ],
      "metadata": {
        "colab": {
          "base_uri": "https://localhost:8080/"
        },
        "id": "YQH_l1DoEaYk",
        "outputId": "f656d975-2e3f-48cb-ad6b-9f580edfb7a8"
      },
      "execution_count": null,
      "outputs": [
        {
          "output_type": "execute_result",
          "data": {
            "text/plain": [
              "[[32, 75, 35], [42, 55, 33], [10, 20, 30], [55, 48, 22]]"
            ]
          },
          "metadata": {},
          "execution_count": 31
        }
      ]
    },
    {
      "cell_type": "markdown",
      "source": [
        "#튜플"
      ],
      "metadata": {
        "id": "XW6LbreD_1yv"
      }
    },
    {
      "cell_type": "code",
      "source": [
        "# 참조불변\n",
        "# 변경이불가능한 자료형입니다.\n",
        "\n",
        "x= (10, 20, 30)\n",
        "x[0] = 100\n",
        "x"
      ],
      "metadata": {
        "colab": {
          "base_uri": "https://localhost:8080/",
          "height": 202
        },
        "id": "p4vevkLShRd_",
        "outputId": "53a03718-a921-41ed-a234-86503aaf37e5"
      },
      "execution_count": null,
      "outputs": [
        {
          "output_type": "error",
          "ename": "TypeError",
          "evalue": "'tuple' object does not support item assignment",
          "traceback": [
            "\u001b[0;31m---------------------------------------------------------------------------\u001b[0m",
            "\u001b[0;31mTypeError\u001b[0m                                 Traceback (most recent call last)",
            "\u001b[0;32m<ipython-input-32-96159bca567a>\u001b[0m in \u001b[0;36m<cell line: 5>\u001b[0;34m()\u001b[0m\n\u001b[1;32m      3\u001b[0m \u001b[0;34m\u001b[0m\u001b[0m\n\u001b[1;32m      4\u001b[0m \u001b[0mx\u001b[0m\u001b[0;34m=\u001b[0m \u001b[0;34m(\u001b[0m\u001b[0;36m10\u001b[0m\u001b[0;34m,\u001b[0m \u001b[0;36m20\u001b[0m\u001b[0;34m,\u001b[0m \u001b[0;36m30\u001b[0m\u001b[0;34m)\u001b[0m\u001b[0;34m\u001b[0m\u001b[0;34m\u001b[0m\u001b[0m\n\u001b[0;32m----> 5\u001b[0;31m \u001b[0mx\u001b[0m\u001b[0;34m[\u001b[0m\u001b[0;36m0\u001b[0m\u001b[0;34m]\u001b[0m \u001b[0;34m=\u001b[0m \u001b[0;36m100\u001b[0m\u001b[0;34m\u001b[0m\u001b[0;34m\u001b[0m\u001b[0m\n\u001b[0m\u001b[1;32m      6\u001b[0m \u001b[0mx\u001b[0m\u001b[0;34m\u001b[0m\u001b[0;34m\u001b[0m\u001b[0m\n",
            "\u001b[0;31mTypeError\u001b[0m: 'tuple' object does not support item assignment"
          ]
        }
      ]
    },
    {
      "cell_type": "code",
      "source": [
        "# 'count'\n",
        "# 'index'\n",
        "# 불변\n",
        "\n",
        "x= (10, 20, 30)\n",
        "dir(x)"
      ],
      "metadata": {
        "colab": {
          "base_uri": "https://localhost:8080/"
        },
        "id": "mPGL4CneFZ-I",
        "outputId": "71f93f05-0ae6-401e-8e1e-93028f4416fa"
      },
      "execution_count": null,
      "outputs": [
        {
          "output_type": "execute_result",
          "data": {
            "text/plain": [
              "['__add__',\n",
              " '__class__',\n",
              " '__class_getitem__',\n",
              " '__contains__',\n",
              " '__delattr__',\n",
              " '__dir__',\n",
              " '__doc__',\n",
              " '__eq__',\n",
              " '__format__',\n",
              " '__ge__',\n",
              " '__getattribute__',\n",
              " '__getitem__',\n",
              " '__getnewargs__',\n",
              " '__gt__',\n",
              " '__hash__',\n",
              " '__init__',\n",
              " '__init_subclass__',\n",
              " '__iter__',\n",
              " '__le__',\n",
              " '__len__',\n",
              " '__lt__',\n",
              " '__mul__',\n",
              " '__ne__',\n",
              " '__new__',\n",
              " '__reduce__',\n",
              " '__reduce_ex__',\n",
              " '__repr__',\n",
              " '__rmul__',\n",
              " '__setattr__',\n",
              " '__sizeof__',\n",
              " '__str__',\n",
              " '__subclasshook__',\n",
              " 'count',\n",
              " 'index']"
            ]
          },
          "metadata": {},
          "execution_count": 34
        }
      ]
    },
    {
      "cell_type": "code",
      "source": [
        "x = [10, 20, 30]\n",
        "y = (x, 100, 200)\n",
        "\n",
        "y"
      ],
      "metadata": {
        "colab": {
          "base_uri": "https://localhost:8080/"
        },
        "id": "lCZiGVOMFsai",
        "outputId": "b824001e-592b-449f-b12a-97a743b732fb"
      },
      "execution_count": null,
      "outputs": [
        {
          "output_type": "execute_result",
          "data": {
            "text/plain": [
              "([10, 20, 30], 100, 200)"
            ]
          },
          "metadata": {},
          "execution_count": 35
        }
      ]
    },
    {
      "cell_type": "code",
      "source": [
        "x[0] = 1000\n",
        "y"
      ],
      "metadata": {
        "colab": {
          "base_uri": "https://localhost:8080/"
        },
        "id": "wduHs8jFF2tK",
        "outputId": "61ddebce-1341-4a08-a941-0b264f4e522d"
      },
      "execution_count": null,
      "outputs": [
        {
          "output_type": "execute_result",
          "data": {
            "text/plain": [
              "([1000, 20, 30], 100, 200)"
            ]
          },
          "metadata": {},
          "execution_count": 36
        }
      ]
    },
    {
      "cell_type": "code",
      "source": [
        "# 어떨 때 튜플을 사용할까요?\n",
        "# 1. 불변해야 하는 값을 저장할 때\n",
        "# 2. 갯수가 정해져 있는 자료구조를 표현할 때"
      ],
      "metadata": {
        "id": "Up2j4AXXF9ex"
      },
      "execution_count": null,
      "outputs": []
    },
    {
      "cell_type": "code",
      "source": [
        "{'one':1, 'two':2}.items()"
      ],
      "metadata": {
        "colab": {
          "base_uri": "https://localhost:8080/"
        },
        "id": "O2AjwXRMGOB6",
        "outputId": "f0872de3-58dc-4dcb-9b9c-a25c84a99161"
      },
      "execution_count": null,
      "outputs": [
        {
          "output_type": "execute_result",
          "data": {
            "text/plain": [
              "dict_items([('one', 1), ('two', 2)])"
            ]
          },
          "metadata": {},
          "execution_count": 37
        }
      ]
    },
    {
      "cell_type": "markdown",
      "source": [
        "#딕셔너리"
      ],
      "metadata": {
        "id": "8kaAyitf_5X_"
      }
    },
    {
      "cell_type": "code",
      "source": [
        "# 순서가 있습니다. python 3.6 versiom에서부터 순서가 생겼습니다.\n",
        "# 변경이 가능한 자료형입니다.\n",
        "# key와 value의 쌍으로 이뤄져 있습니다.\n",
        "\n",
        "{'한라산': 3200, '백두산': 4000, '사라봉':300}\n",
        "{'one' : '하나', 'two' : '둘', 'three' : '셋'}"
      ],
      "metadata": {
        "id": "azzeMTjCGiFK"
      },
      "execution_count": null,
      "outputs": []
    },
    {
      "cell_type": "code",
      "source": [
        "d = {'one' : 1, 'two' : 2}\n",
        "d['one']\n",
        "#d[0]"
      ],
      "metadata": {
        "colab": {
          "base_uri": "https://localhost:8080/"
        },
        "id": "4E70G5HZHMN6",
        "outputId": "a8748850-74a7-4c53-89a0-5f27c6331407"
      },
      "execution_count": null,
      "outputs": [
        {
          "output_type": "execute_result",
          "data": {
            "text/plain": [
              "1"
            ]
          },
          "metadata": {},
          "execution_count": 38
        }
      ]
    },
    {
      "cell_type": "code",
      "source": [
        "d['one'] = '하나'\n",
        "d"
      ],
      "metadata": {
        "colab": {
          "base_uri": "https://localhost:8080/"
        },
        "id": "NY_Z7XqbH2WZ",
        "outputId": "325b0ed0-78d8-4741-92d4-b0c7502cbf16"
      },
      "execution_count": null,
      "outputs": [
        {
          "output_type": "execute_result",
          "data": {
            "text/plain": [
              "{'one': '하나', 'two': 2}"
            ]
          },
          "metadata": {},
          "execution_count": 39
        }
      ]
    },
    {
      "cell_type": "code",
      "source": [
        "type(d)"
      ],
      "metadata": {
        "colab": {
          "base_uri": "https://localhost:8080/"
        },
        "id": "BJEODlTyH7wZ",
        "outputId": "591a2135-dd0a-4a33-eb22-a7956308e236"
      },
      "execution_count": null,
      "outputs": [
        {
          "output_type": "execute_result",
          "data": {
            "text/plain": [
              "dict"
            ]
          },
          "metadata": {},
          "execution_count": 40
        }
      ]
    },
    {
      "cell_type": "code",
      "source": [
        "dir(d)"
      ],
      "metadata": {
        "colab": {
          "base_uri": "https://localhost:8080/"
        },
        "id": "9NPJWr3aIn76",
        "outputId": "e3246c3b-96b6-42f9-9fc3-293af2bb3910"
      },
      "execution_count": null,
      "outputs": [
        {
          "output_type": "execute_result",
          "data": {
            "text/plain": [
              "['__class__',\n",
              " '__class_getitem__',\n",
              " '__contains__',\n",
              " '__delattr__',\n",
              " '__delitem__',\n",
              " '__dir__',\n",
              " '__doc__',\n",
              " '__eq__',\n",
              " '__format__',\n",
              " '__ge__',\n",
              " '__getattribute__',\n",
              " '__getitem__',\n",
              " '__gt__',\n",
              " '__hash__',\n",
              " '__init__',\n",
              " '__init_subclass__',\n",
              " '__ior__',\n",
              " '__iter__',\n",
              " '__le__',\n",
              " '__len__',\n",
              " '__lt__',\n",
              " '__ne__',\n",
              " '__new__',\n",
              " '__or__',\n",
              " '__reduce__',\n",
              " '__reduce_ex__',\n",
              " '__repr__',\n",
              " '__reversed__',\n",
              " '__ror__',\n",
              " '__setattr__',\n",
              " '__setitem__',\n",
              " '__sizeof__',\n",
              " '__str__',\n",
              " '__subclasshook__',\n",
              " 'clear',\n",
              " 'copy',\n",
              " 'fromkeys',\n",
              " 'get',\n",
              " 'items',\n",
              " 'keys',\n",
              " 'pop',\n",
              " 'popitem',\n",
              " 'setdefault',\n",
              " 'update',\n",
              " 'values']"
            ]
          },
          "metadata": {},
          "execution_count": 41
        }
      ]
    },
    {
      "cell_type": "code",
      "source": [
        "jeju = {'한라봉' : 4000, '바나나' : 2000, '귤' : 500}\n",
        "seoul = jeju\n",
        "\n",
        "seoul['한라봉'] = 5000\n",
        "jeju"
      ],
      "metadata": {
        "colab": {
          "base_uri": "https://localhost:8080/"
        },
        "id": "ViMWfPbBJBdx",
        "outputId": "d937c020-bb75-4123-d489-2db7a4a4e304"
      },
      "execution_count": null,
      "outputs": [
        {
          "output_type": "execute_result",
          "data": {
            "text/plain": [
              "{'한라봉': 5000, '바나나': 2000, '귤': 500}"
            ]
          },
          "metadata": {},
          "execution_count": 43
        }
      ]
    },
    {
      "cell_type": "code",
      "source": [
        "jeju = {'한라봉' : 4000, '바나나' : 2000, '귤' : 500}\n",
        "seoul = jeju.copy()\n",
        "\n",
        "seoul['한라봉'] = 5000\n",
        "jeju, seoul"
      ],
      "metadata": {
        "colab": {
          "base_uri": "https://localhost:8080/"
        },
        "id": "wvlDr4NaJp6Z",
        "outputId": "333f394d-0d55-4c90-d8f5-03e4ece55b31"
      },
      "execution_count": null,
      "outputs": [
        {
          "output_type": "execute_result",
          "data": {
            "text/plain": [
              "({'한라봉': 4000, '바나나': 2000, '귤': 500}, {'한라봉': 5000, '바나나': 2000, '귤': 500})"
            ]
          },
          "metadata": {},
          "execution_count": 44
        }
      ]
    },
    {
      "cell_type": "code",
      "source": [
        "dict.fromkeys('hello')"
      ],
      "metadata": {
        "id": "H3FEeBpX_8p_",
        "colab": {
          "base_uri": "https://localhost:8080/"
        },
        "outputId": "9ad94c94-9e8c-4b72-f91c-f2d558f9fdff"
      },
      "execution_count": null,
      "outputs": [
        {
          "output_type": "execute_result",
          "data": {
            "text/plain": [
              "{'h': None, 'e': None, 'l': None, 'o': None}"
            ]
          },
          "metadata": {},
          "execution_count": 45
        }
      ]
    },
    {
      "cell_type": "code",
      "source": [
        "dict.fromkeys('hello', True)"
      ],
      "metadata": {
        "colab": {
          "base_uri": "https://localhost:8080/"
        },
        "id": "3jB72nUnKywB",
        "outputId": "567fe55d-f8eb-41a7-d896-e7d7fda2ecbb"
      },
      "execution_count": null,
      "outputs": [
        {
          "output_type": "execute_result",
          "data": {
            "text/plain": [
              "{'h': True, 'e': True, 'l': True, 'o': True}"
            ]
          },
          "metadata": {},
          "execution_count": 46
        }
      ]
    },
    {
      "cell_type": "code",
      "source": [
        "dict.fromkeys(['하나', '둘', '셋'],True)"
      ],
      "metadata": {
        "id": "be_jcHm6LHPx"
      },
      "execution_count": null,
      "outputs": []
    },
    {
      "cell_type": "code",
      "source": [
        "jeju = {'한라봉' : 4000, '바나나' : 2000, '귤' : 500}\n",
        "# jeju['천혜향']\n",
        "jeju.get('천혜향')\n",
        "jeju.get('천혜향', '값이 없습니다!')\n",
        "jeju.get('한라봉', '값이 없습니다!')"
      ],
      "metadata": {
        "colab": {
          "base_uri": "https://localhost:8080/"
        },
        "id": "rFtLFQmTLfCB",
        "outputId": "c1590429-e1d6-47e7-8f1f-745e1ec17f2a"
      },
      "execution_count": null,
      "outputs": [
        {
          "output_type": "execute_result",
          "data": {
            "text/plain": [
              "4000"
            ]
          },
          "metadata": {},
          "execution_count": 47
        }
      ]
    },
    {
      "cell_type": "code",
      "source": [
        "jeju = {'한라봉' : 4000, '바나나' : 2000, '귤' : 500}\n",
        "# jeju.items([0])\n",
        "jeju.items()\n",
        "list(jeju.items())"
      ],
      "metadata": {
        "colab": {
          "base_uri": "https://localhost:8080/"
        },
        "id": "Pb9tLX6pL4nv",
        "outputId": "0faf80d1-75ab-43e1-d061-9248687cbee8"
      },
      "execution_count": null,
      "outputs": [
        {
          "output_type": "execute_result",
          "data": {
            "text/plain": [
              "[('한라봉', 4000), ('바나나', 2000), ('귤', 500)]"
            ]
          },
          "metadata": {},
          "execution_count": 49
        }
      ]
    },
    {
      "cell_type": "code",
      "source": [
        "list(jeju.items())[0][1]"
      ],
      "metadata": {
        "colab": {
          "base_uri": "https://localhost:8080/"
        },
        "id": "MkYltsLNMOth",
        "outputId": "fcb90693-ab73-4179-ff95-59dafdbf7e4e"
      },
      "execution_count": null,
      "outputs": [
        {
          "output_type": "execute_result",
          "data": {
            "text/plain": [
              "4000"
            ]
          },
          "metadata": {},
          "execution_count": 50
        }
      ]
    },
    {
      "cell_type": "code",
      "source": [
        "jeju.keys()"
      ],
      "metadata": {
        "colab": {
          "base_uri": "https://localhost:8080/"
        },
        "id": "2bW6Pa23MlKs",
        "outputId": "4efe7ee6-be50-4e90-b3b3-ccd6c48faf2b"
      },
      "execution_count": null,
      "outputs": [
        {
          "output_type": "execute_result",
          "data": {
            "text/plain": [
              "dict_keys(['한라봉', '바나나', '귤'])"
            ]
          },
          "metadata": {},
          "execution_count": 51
        }
      ]
    },
    {
      "cell_type": "code",
      "source": [
        "jeju.values()"
      ],
      "metadata": {
        "colab": {
          "base_uri": "https://localhost:8080/"
        },
        "id": "MqcSEWQJMn1i",
        "outputId": "4b96f4ec-c403-4dee-ab26-85948e294b89"
      },
      "execution_count": null,
      "outputs": [
        {
          "output_type": "execute_result",
          "data": {
            "text/plain": [
              "dict_values([4000, 2000, 500])"
            ]
          },
          "metadata": {},
          "execution_count": 52
        }
      ]
    },
    {
      "cell_type": "code",
      "source": [
        "jeju = {'한라봉' : 4000, '바나나' : 2000, '귤' : 500}\n",
        "jeju.pop('한라봉')\n",
        "jeju"
      ],
      "metadata": {
        "colab": {
          "base_uri": "https://localhost:8080/"
        },
        "id": "oCscHHhKMzpT",
        "outputId": "89dc45fe-bae0-4ff1-99d0-8b0361d00d9b"
      },
      "execution_count": null,
      "outputs": [
        {
          "output_type": "execute_result",
          "data": {
            "text/plain": [
              "{'바나나': 2000, '귤': 500}"
            ]
          },
          "metadata": {},
          "execution_count": 54
        }
      ]
    },
    {
      "cell_type": "code",
      "source": [
        "jeju = {'한라봉' : 4000, '바나나' : 2000, '귤' : 500}\n",
        "jeju.popitem()\n",
        "jeju"
      ],
      "metadata": {
        "colab": {
          "base_uri": "https://localhost:8080/"
        },
        "id": "nyaweE58NbqO",
        "outputId": "0206ea6d-06a1-4b6c-9efb-9feaa9efde24"
      },
      "execution_count": null,
      "outputs": [
        {
          "output_type": "execute_result",
          "data": {
            "text/plain": [
              "{'한라봉': 4000, '바나나': 2000}"
            ]
          },
          "metadata": {},
          "execution_count": 61
        }
      ]
    },
    {
      "cell_type": "code",
      "source": [
        "numbers = {'one': '하나', 'two': '둘', 'three': '셋'}\n",
        "four_value = numbers.setdefault(\"three\", \"셋test\")\n",
        "print(four_value)\n",
        "print(numbers)"
      ],
      "metadata": {
        "colab": {
          "base_uri": "https://localhost:8080/"
        },
        "id": "rbhGybCbS7p_",
        "outputId": "4cc2ce12-4f2d-4810-8b45-a2f06564846c"
      },
      "execution_count": null,
      "outputs": [
        {
          "output_type": "stream",
          "name": "stdout",
          "text": [
            "셋\n",
            "{'one': '하나', 'two': '둘', 'three': '셋'}\n"
          ]
        }
      ]
    },
    {
      "cell_type": "code",
      "source": [
        "numbers = {'one': '하나', 'two': '둘', 'three': '셋'}\n",
        "numbers.update({'three' : '셋test', 'four': '넷', 'five': '다섯'})\n",
        "print(numbers)"
      ],
      "metadata": {
        "colab": {
          "base_uri": "https://localhost:8080/"
        },
        "id": "nbnDPbGsUMix",
        "outputId": "34c65c43-909d-4e61-e323-f16872aef330"
      },
      "execution_count": null,
      "outputs": [
        {
          "output_type": "stream",
          "name": "stdout",
          "text": [
            "{'one': '하나', 'two': '둘', 'three': '셋test', 'four': '넷', 'five': '다섯'}\n"
          ]
        }
      ]
    },
    {
      "cell_type": "code",
      "source": [
        "{'one': '하나', 'two': '둘', 'three': '셋'} | {'four': '넷'}"
      ],
      "metadata": {
        "id": "rAowBWbpUuHY"
      },
      "execution_count": null,
      "outputs": []
    },
    {
      "cell_type": "markdown",
      "source": [
        "#셋"
      ],
      "metadata": {
        "id": "dE48Xi9J_7N9"
      }
    },
    {
      "cell_type": "code",
      "source": [
        "# 중복을 허락하지 않는 순서가 없는 자료형\n",
        "s = {1, 2, 3, 4, 4, 4, 4, 4, 4}\n",
        "s"
      ],
      "metadata": {
        "colab": {
          "base_uri": "https://localhost:8080/"
        },
        "id": "Yu14M6QaVP7Q",
        "outputId": "5a43d7e0-3e43-4ca8-c6eb-fdb6f8645b36"
      },
      "execution_count": null,
      "outputs": [
        {
          "output_type": "execute_result",
          "data": {
            "text/plain": [
              "{1, 2, 3, 4}"
            ]
          },
          "metadata": {},
          "execution_count": 58
        }
      ]
    },
    {
      "cell_type": "code",
      "source": [
        "set('hello world')"
      ],
      "metadata": {
        "colab": {
          "base_uri": "https://localhost:8080/"
        },
        "id": "JHOq74uTVhkq",
        "outputId": "6d7becc0-09d5-4c95-eda5-5a8ad036e028"
      },
      "execution_count": null,
      "outputs": [
        {
          "output_type": "execute_result",
          "data": {
            "text/plain": [
              "{' ', 'd', 'e', 'h', 'l', 'o', 'r', 'w'}"
            ]
          },
          "metadata": {},
          "execution_count": 60
        }
      ]
    },
    {
      "cell_type": "code",
      "source": [
        "s = {1, 2, 3}\n",
        "ss = {3, 4, 5}\n",
        "\n",
        "s | ss # 합집합"
      ],
      "metadata": {
        "colab": {
          "base_uri": "https://localhost:8080/"
        },
        "id": "QHhvE-CNV3MZ",
        "outputId": "c068145f-95a5-4ece-c216-254db17a8741"
      },
      "execution_count": null,
      "outputs": [
        {
          "output_type": "execute_result",
          "data": {
            "text/plain": [
              "{1, 2, 3, 4, 5}"
            ]
          },
          "metadata": {},
          "execution_count": 63
        }
      ]
    },
    {
      "cell_type": "code",
      "source": [
        "s = {1, 2, 3}\n",
        "ss = {3, 4, 5}\n",
        "\n",
        "s - ss # 차집합"
      ],
      "metadata": {
        "colab": {
          "base_uri": "https://localhost:8080/"
        },
        "id": "E9NzEJF7WDjR",
        "outputId": "2cdba93b-4586-4f97-8dbb-69ce709d41d7"
      },
      "execution_count": null,
      "outputs": [
        {
          "output_type": "execute_result",
          "data": {
            "text/plain": [
              "{1, 2}"
            ]
          },
          "metadata": {},
          "execution_count": 64
        }
      ]
    },
    {
      "cell_type": "code",
      "source": [
        "s = {1, 2, 3}\n",
        "ss = {3, 4, 5}\n",
        "\n",
        "s & ss # 교집합"
      ],
      "metadata": {
        "colab": {
          "base_uri": "https://localhost:8080/"
        },
        "id": "TziAYlEmWLDq",
        "outputId": "a4bbcbf7-89a4-410c-cd01-2a311df969e9"
      },
      "execution_count": null,
      "outputs": [
        {
          "output_type": "execute_result",
          "data": {
            "text/plain": [
              "{3}"
            ]
          },
          "metadata": {},
          "execution_count": 67
        }
      ]
    },
    {
      "cell_type": "code",
      "source": [
        "s = {1, 2, 3}\n",
        "ss = {3, 4, 5}\n",
        "\n",
        "dir(s)\n",
        "\n",
        "print(s.intersection(ss))\n",
        "print(s.difference(ss))\n",
        "print(s.union(ss))"
      ],
      "metadata": {
        "colab": {
          "base_uri": "https://localhost:8080/"
        },
        "id": "v-JazJkNWR3w",
        "outputId": "65d7b26a-ab31-4ae6-c4a9-a66a42d04b81"
      },
      "execution_count": null,
      "outputs": [
        {
          "output_type": "stream",
          "name": "stdout",
          "text": [
            "{3}\n",
            "{1, 2}\n",
            "{1, 2, 3, 4, 5}\n"
          ]
        }
      ]
    },
    {
      "cell_type": "code",
      "source": [
        "s = {1, 2, 3}\n",
        "s.add(4)\n",
        "s"
      ],
      "metadata": {
        "colab": {
          "base_uri": "https://localhost:8080/"
        },
        "id": "TSiK9C8EW1Py",
        "outputId": "ef28aede-09f1-431c-906c-7b700689c862"
      },
      "execution_count": null,
      "outputs": [
        {
          "output_type": "execute_result",
          "data": {
            "text/plain": [
              "{1, 2, 3, 4}"
            ]
          },
          "metadata": {},
          "execution_count": 70
        }
      ]
    },
    {
      "cell_type": "code",
      "source": [
        "s = {1, 2, 3}\n",
        "s.add(4)\n",
        "s"
      ],
      "metadata": {
        "colab": {
          "base_uri": "https://localhost:8080/"
        },
        "id": "k_pQqHwMXDNZ",
        "outputId": "4cdd1a4d-e149-4ff8-c995-ca084b8d5b9d"
      },
      "execution_count": null,
      "outputs": [
        {
          "output_type": "execute_result",
          "data": {
            "text/plain": [
              "{1, 2, 3, 4}"
            ]
          },
          "metadata": {},
          "execution_count": 71
        }
      ]
    },
    {
      "cell_type": "markdown",
      "source": [
        "# built-in function"
      ],
      "metadata": {
        "id": "754YA4ERXW2P"
      }
    },
    {
      "cell_type": "code",
      "source": [
        "sum([10, 20, 30, 40])"
      ],
      "metadata": {
        "id": "rH9Ivu7_XGFh"
      },
      "execution_count": null,
      "outputs": []
    },
    {
      "cell_type": "code",
      "source": [
        "len([10, 20, 30, 40])"
      ],
      "metadata": {
        "colab": {
          "base_uri": "https://localhost:8080/"
        },
        "id": "O6B8cEUeXtQI",
        "outputId": "7e3191b6-ecab-4c4c-aa46-571fcf276273"
      },
      "execution_count": null,
      "outputs": [
        {
          "output_type": "execute_result",
          "data": {
            "text/plain": [
              "4"
            ]
          },
          "metadata": {},
          "execution_count": 72
        }
      ]
    },
    {
      "cell_type": "code",
      "source": [
        "sum([10, 20, 30, 40], 100)\n"
      ],
      "metadata": {
        "colab": {
          "base_uri": "https://localhost:8080/"
        },
        "id": "CrhYCgClXx1J",
        "outputId": "48e7c53a-1833-4299-940f-2992617390f8"
      },
      "execution_count": null,
      "outputs": [
        {
          "output_type": "execute_result",
          "data": {
            "text/plain": [
              "200"
            ]
          },
          "metadata": {},
          "execution_count": 73
        }
      ]
    },
    {
      "cell_type": "code",
      "source": [
        "sum([[10, 20], [30, 40]], [])\n",
        "# sum([[10, 20], [30, 40]])"
      ],
      "metadata": {
        "colab": {
          "base_uri": "https://localhost:8080/"
        },
        "id": "lSJ2q1kEYPIw",
        "outputId": "05921242-344f-4af6-a6e7-3ba3cde4c261"
      },
      "execution_count": null,
      "outputs": [
        {
          "output_type": "execute_result",
          "data": {
            "text/plain": [
              "[10, 20, 30, 40]"
            ]
          },
          "metadata": {},
          "execution_count": 76
        }
      ]
    },
    {
      "cell_type": "code",
      "source": [
        "[10, 20] + []\n",
        "[10, 20] + [30, 40]\n"
      ],
      "metadata": {
        "colab": {
          "base_uri": "https://localhost:8080/"
        },
        "id": "GckDS9hJZniC",
        "outputId": "e85639df-eb38-42f6-95e3-aea31cefb510"
      },
      "execution_count": null,
      "outputs": [
        {
          "output_type": "execute_result",
          "data": {
            "text/plain": [
              "[10, 20, 30, 40]"
            ]
          },
          "metadata": {},
          "execution_count": 77
        }
      ]
    },
    {
      "cell_type": "code",
      "source": [
        "sum([[10, 20], [30, 40]], [])\n",
        "sum(sum([[10, 20], [30, 40]], []))"
      ],
      "metadata": {
        "id": "kAh8IPBNZ3k8"
      },
      "execution_count": null,
      "outputs": []
    },
    {
      "cell_type": "code",
      "source": [
        "len('hello world')"
      ],
      "metadata": {
        "id": "MEwXQeb5Zx8j"
      },
      "execution_count": null,
      "outputs": []
    },
    {
      "cell_type": "code",
      "source": [
        "len({1, 2, 3})"
      ],
      "metadata": {
        "id": "zjbDJphoZ0m6"
      },
      "execution_count": null,
      "outputs": []
    },
    {
      "cell_type": "code",
      "source": [
        "len({'one':1, 'two':2})"
      ],
      "metadata": {
        "id": "VufxleA5aDmP"
      },
      "execution_count": null,
      "outputs": []
    },
    {
      "cell_type": "code",
      "source": [
        "'h' in 'hello'\n",
        "1 in {1, 2, 3, 4}\n",
        "1 in {1, 2, 3, 4}\n",
        "'one' in {'one':1, 'two':2}\n",
        "1 in {'one':1, 'two':2}"
      ],
      "metadata": {
        "id": "013zi3dDaLtW"
      },
      "execution_count": null,
      "outputs": []
    }
  ]
}