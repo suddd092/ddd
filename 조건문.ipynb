{
  "nbformat": 4,
  "nbformat_minor": 0,
  "metadata": {
    "colab": {
      "provenance": [],
      "include_colab_link": true
    },
    "kernelspec": {
      "name": "python3",
      "display_name": "Python 3"
    },
    "language_info": {
      "name": "python"
    }
  },
  "cells": [
    {
      "cell_type": "markdown",
      "metadata": {
        "id": "view-in-github",
        "colab_type": "text"
      },
      "source": [
        "<a href=\"https://colab.research.google.com/github/suddd092/ddd/blob/main/%EC%A1%B0%EA%B1%B4%EB%AC%B8.ipynb\" target=\"_parent\"><img src=\"https://colab.research.google.com/assets/colab-badge.svg\" alt=\"Open In Colab\"/></a>"
      ]
    },
    {
      "cell_type": "code",
      "metadata": {
        "colab": {
          "base_uri": "https://localhost:8080/"
        },
        "id": "KU_eTX-8-m62",
        "outputId": "fd9cbdf8-0454-4733-d06e-46b0c094758e"
      },
      "source": [
        "# inch 단위 자료를 입력받아 cm로 변환하는 프로그램\n",
        "inch = int(input('인치를 입력하시오.'))\n",
        "print(type(inch))\n",
        "cm = inch * 2.54\n",
        "print(cm, '센티미터')"
      ],
      "execution_count": null,
      "outputs": [
        {
          "output_type": "stream",
          "text": [
            "인치를 입력하시오.10\n",
            "<class 'int'>\n",
            "25.4 센티미터\n"
          ],
          "name": "stdout"
        }
      ]
    },
    {
      "cell_type": "code",
      "metadata": {
        "colab": {
          "base_uri": "https://localhost:8080/"
        },
        "id": "EttnTQlMBcQ8",
        "outputId": "91f0f080-d713-4eec-9751-63223a0165e9"
      },
      "source": [
        "# 센티미터를 입력받아 미터와 센티미터로 출력\n",
        "# 1234cm => 12미터 34센티미터\n",
        "cm = int(input('센티미터 입력: '))\n",
        "m = cm // 100\n",
        "cm = cm % 100\n",
        "print(m, '미터', cm, '센티미터')"
      ],
      "execution_count": null,
      "outputs": [
        {
          "output_type": "stream",
          "text": [
            "센티미터 입력: 1234\n",
            "12\n"
          ],
          "name": "stdout"
        }
      ]
    },
    {
      "cell_type": "code",
      "metadata": {
        "colab": {
          "base_uri": "https://localhost:8080/"
        },
        "id": "Q3JcLQmnDzkN",
        "outputId": "7f590c30-d97f-42d9-c843-c318de4fff35"
      },
      "source": [
        "# 초 단위의 시간을 시간, 분, 초로 변환하기\n",
        "s = int(input('초를 입력하시오: '))\n",
        "h = s // 3600\n",
        "s = s % 3600\n",
        "m = s // 60\n",
        "s = s % 60\n",
        "print(h, '시간', m, '분', s, '초')"
      ],
      "execution_count": null,
      "outputs": [
        {
          "output_type": "stream",
          "text": [
            "초를 입력하시오: 10000\n",
            "2 시간 46 분 40 초\n"
          ],
          "name": "stdout"
        }
      ]
    },
    {
      "cell_type": "markdown",
      "metadata": {
        "id": "hMRlFmhe4sjw"
      },
      "source": [
        "#  조건문\n",
        "\n",
        "```\n",
        "if 조건식:\n",
        "  명령문  # 참일때 실행하는 명령문\n",
        "```\n",
        "\n",
        "```\n",
        "if 조건식:\n",
        "  명령문  # 참일때 실행하는 명령문\n",
        "else:\n",
        "  명령문  # 거짓일때 실행하는 명령문\n",
        "```\n"
      ]
    },
    {
      "cell_type": "code",
      "metadata": {
        "id": "TOUERitgC4b8",
        "colab": {
          "base_uri": "https://localhost:8080/"
        },
        "outputId": "eabaa20c-95ee-41c6-caee-ed7a2a1baf8d"
      },
      "source": [
        "a = int(input('숫자 입력: '))\n",
        "b = int(input('숫자 입력: '))\n",
        "if a > 0:\n",
        "  print(a,'는 양수')\n",
        "\n",
        "if a > b:\n",
        "  print('큰수: ', a)\n",
        "else:\n",
        "  print('큰수: ', b)\n"
      ],
      "execution_count": null,
      "outputs": [
        {
          "output_type": "stream",
          "text": [
            "숫자 입력: 10\n",
            "숫자 입력: 8\n",
            "10 는 양수\n",
            "큰수:  10\n"
          ],
          "name": "stdout"
        }
      ]
    },
    {
      "cell_type": "code",
      "metadata": {
        "id": "9kxth8n1I34e"
      },
      "source": [],
      "execution_count": null,
      "outputs": []
    }
  ]
}